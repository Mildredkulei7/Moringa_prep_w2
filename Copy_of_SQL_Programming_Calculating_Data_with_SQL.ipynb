{
  "nbformat": 4,
  "nbformat_minor": 0,
  "metadata": {
    "colab": {
      "name": "Copy of SQL Programming - Calculating Data with SQL",
      "provenance": [],
      "collapsed_sections": [
        "oGxfZo8LWZXx",
        "HOnfqP8HWXgB",
        "j7blcxQkWtbr",
        "0kirRUMgXaMs",
        "xeNCrrnOWvIi",
        "Ydq-Lp9vX710",
        "5t8zd5x4Wy0c",
        "Toyc2mT_YWK5",
        "3vgAkdXmW3VP",
        "tpsZ1JXvYhgd"
      ],
      "toc_visible": true,
      "include_colab_link": true
    },
    "kernelspec": {
      "name": "python3",
      "display_name": "Python 3"
    }
  },
  "cells": [
    {
      "cell_type": "markdown",
      "metadata": {
        "id": "view-in-github",
        "colab_type": "text"
      },
      "source": [
        "<a href=\"https://colab.research.google.com/github/Mildredkulei7/Moringa_prep_w2/blob/main/Copy_of_SQL_Programming_Calculating_Data_with_SQL.ipynb\" target=\"_parent\"><img src=\"https://colab.research.google.com/assets/colab-badge.svg\" alt=\"Open In Colab\"/></a>"
      ]
    },
    {
      "cell_type": "markdown",
      "metadata": {
        "id": "--cnOLTPZ6MG"
      },
      "source": [
        "<font color=\"green\">*To start working on this notebook, or any other notebook that we will use in the Moringa Data Science Course, we will need to save our own copy of it. We can do this by clicking File > Save a Copy in Drive. We will then be able to make edits to our own copy of this notebook.*</font>"
      ]
    },
    {
      "cell_type": "markdown",
      "metadata": {
        "id": "5oWzigcLV06t"
      },
      "source": [
        "# SQL Programming - Calculating Data with SQL"
      ]
    },
    {
      "cell_type": "markdown",
      "metadata": {
        "id": "oGxfZo8LWZXx"
      },
      "source": [
        "## 1.0 Connecting to our Database"
      ]
    },
    {
      "cell_type": "code",
      "metadata": {
        "id": "aGOQCVTLWpSn",
        "colab": {
          "base_uri": "https://localhost:8080/",
          "height": 35
        },
        "outputId": "4aa215ef-37b2-423c-84d2-77ff1154cd67"
      },
      "source": [
        "# We will first load the sql extension into our environment\n",
        "%load_ext sql\n",
        "\n",
        "# Then connect to our in memory sqlite database\n",
        "# NB: This database will cease to exist as soon as the database connection is closed. \n",
        "%sql sqlite://"
      ],
      "execution_count": 6,
      "outputs": [
        {
          "output_type": "execute_result",
          "data": {
            "application/vnd.google.colaboratory.intrinsic+json": {
              "type": "string"
            },
            "text/plain": [
              "'Connected: @None'"
            ]
          },
          "metadata": {
            "tags": []
          },
          "execution_count": 6
        }
      ]
    },
    {
      "cell_type": "markdown",
      "metadata": {
        "id": "HOnfqP8HWXgB"
      },
      "source": [
        "## 1.1 Importing Data from CSV files"
      ]
    },
    {
      "cell_type": "markdown",
      "metadata": {
        "id": "UDDmPdUHmOIT"
      },
      "source": [
        "Datasets used in this notebook:\n",
        "\n",
        "\n",
        "1.   **Population by Urban Centres, 2009**\n",
        "\n",
        "> This dataset shows the total population of urban centres in different Kenyan counties. ([Dataset Download](https://drive.google.com/a/moringaschool.com/file/d/1E-Ew-uGxWqO3HJLS0bX7DUAe-c93sdCO/view?usp=sharing))\n",
        "\n",
        "2.   **Population by Age, Sex and Educational Attainment in 2000 - 2009** \n",
        "\n",
        "> The dataset is from IIASA-VID Dataset (W Lutz, A Goujon, S K.C., W Sanderson. 2007. Reconstruction of population by age, sex and level of educational attainment of 120 countries for 1970-2000. Vienna Yearbook of Population Research, vol. 2007, pp 193-235). ([Dataset Download](https://drive.google.com/a/moringaschool.com/file/d/1Kx70v8SqGRJWkDccNkn31JJ5Jnq1OKM3/view?usp=sharing))\n",
        "\n",
        "3. **2014 - 2015 Government Projects Summary Sorted by Funding Source**\n",
        "\n",
        "> Based on 2014 - 2015 Estimated Finance allocations for Kenyan Government Projects. ([Dataset Download](https://drive.google.com/a/moringaschool.com/file/d/10Dh9psiaAUo_HyyN6WZK6re0bI4_joUG/view?usp=sharing))\n",
        "\n",
        "\n",
        "\n"
      ]
    },
    {
      "cell_type": "code",
      "metadata": {
        "id": "pfQPCUG1j63f"
      },
      "source": [
        "# Importing the pandas library\n",
        "# We will use a function read_csv from pandas to read our datasets as shown\n",
        "#\n",
        "import pandas as pd "
      ],
      "execution_count": 1,
      "outputs": []
    },
    {
      "cell_type": "code",
      "metadata": {
        "id": "wLNd4C2J12rZ",
        "colab": {
          "base_uri": "https://localhost:8080/",
          "height": 229
        },
        "outputId": "d28c2b12-7b74-451f-d3e8-bc96ddff79f2"
      },
      "source": [
        "# Loading our table from the respective CSV files \n",
        "with open('urban_centres_dataset.csv','r') as f:\n",
        "    Urban_centres = pd.read_csv(f, index_col=0, encoding='utf-8')\n",
        "# saving the urban center CSV file into a database\n",
        "%sql DROP TABLE if EXISTS Urban_Centres;\n",
        "%sql PERSIST Urban_centres;\n",
        "\n",
        "# Displaying the first  5 entries \n",
        "%sql SELECT * FROM Urban_centres LIMIT 5;"
      ],
      "execution_count": 4,
      "outputs": [
        {
          "output_type": "error",
          "ename": "FileNotFoundError",
          "evalue": "ignored",
          "traceback": [
            "\u001b[0;31m---------------------------------------------------------------------------\u001b[0m",
            "\u001b[0;31mFileNotFoundError\u001b[0m                         Traceback (most recent call last)",
            "\u001b[0;32m<ipython-input-4-4d91e29edc75>\u001b[0m in \u001b[0;36m<module>\u001b[0;34m()\u001b[0m\n\u001b[1;32m      1\u001b[0m \u001b[0;31m# Loading our table from the respective CSV files\u001b[0m\u001b[0;34m\u001b[0m\u001b[0;34m\u001b[0m\u001b[0;34m\u001b[0m\u001b[0m\n\u001b[0;32m----> 2\u001b[0;31m \u001b[0;32mwith\u001b[0m \u001b[0mopen\u001b[0m\u001b[0;34m(\u001b[0m\u001b[0;34m'urban_centres_dataset.csv'\u001b[0m\u001b[0;34m,\u001b[0m\u001b[0;34m'r'\u001b[0m\u001b[0;34m)\u001b[0m \u001b[0;32mas\u001b[0m \u001b[0mf\u001b[0m\u001b[0;34m:\u001b[0m\u001b[0;34m\u001b[0m\u001b[0;34m\u001b[0m\u001b[0m\n\u001b[0m\u001b[1;32m      3\u001b[0m     \u001b[0mUrban_centres\u001b[0m \u001b[0;34m=\u001b[0m \u001b[0mpd\u001b[0m\u001b[0;34m.\u001b[0m\u001b[0mread_csv\u001b[0m\u001b[0;34m(\u001b[0m\u001b[0mf\u001b[0m\u001b[0;34m,\u001b[0m \u001b[0mindex_col\u001b[0m\u001b[0;34m=\u001b[0m\u001b[0;36m0\u001b[0m\u001b[0;34m,\u001b[0m \u001b[0mencoding\u001b[0m\u001b[0;34m=\u001b[0m\u001b[0;34m'utf-8'\u001b[0m\u001b[0;34m)\u001b[0m\u001b[0;34m\u001b[0m\u001b[0;34m\u001b[0m\u001b[0m\n\u001b[1;32m      4\u001b[0m \u001b[0;31m# saving the urban center CSV file into a database\u001b[0m\u001b[0;34m\u001b[0m\u001b[0;34m\u001b[0m\u001b[0;34m\u001b[0m\u001b[0m\n\u001b[1;32m      5\u001b[0m \u001b[0mget_ipython\u001b[0m\u001b[0;34m(\u001b[0m\u001b[0;34m)\u001b[0m\u001b[0;34m.\u001b[0m\u001b[0mmagic\u001b[0m\u001b[0;34m(\u001b[0m\u001b[0;34m'sql DROP TABLE if EXISTS Urban_Centres;'\u001b[0m\u001b[0;34m)\u001b[0m\u001b[0;34m\u001b[0m\u001b[0;34m\u001b[0m\u001b[0m\n",
            "\u001b[0;31mFileNotFoundError\u001b[0m: [Errno 2] No such file or directory: 'urban_centres_dataset.csv'"
          ]
        }
      ]
    },
    {
      "cell_type": "code",
      "metadata": {
        "id": "iwCRvKEW152I",
        "colab": {
          "base_uri": "https://localhost:8080/",
          "height": 310
        },
        "outputId": "15e01cbc-8aef-42a5-8c7b-361d20284748"
      },
      "source": [
        "# Let's load our households dataset below\n",
        "with open('households_dataset.csv','r') as f:\n",
        "    Households = pd.read_csv(f, index_col=0, encoding='utf-8') \n",
        "\n",
        "# Save the houshold dataset into a database\n",
        "#%sql DROP TABLE if EXISTS Households;\n",
        "%sql PERSIST Households;\n",
        "\n",
        "# Display the first 5 entries from the database\n",
        "%sql SELECT * FROM Households LIMIT 5;"
      ],
      "execution_count": 8,
      "outputs": [
        {
          "output_type": "stream",
          "text": [
            " * sqlite://\n",
            " * sqlite://\n",
            "Done.\n"
          ],
          "name": "stdout"
        },
        {
          "output_type": "execute_result",
          "data": {
            "text/html": [
              "<table>\n",
              "    <thead>\n",
              "        <tr>\n",
              "            <th>County</th>\n",
              "            <th>Gender</th>\n",
              "            <th>Age_Group_of_Household_head_15-24_%_</th>\n",
              "            <th>Age_Group_of_Household_head_25-34_%</th>\n",
              "            <th>Age_Group_of_Household_head_35-59_%</th>\n",
              "            <th>Age_Group_of_Household_head_60+_%</th>\n",
              "            <th>Number_of_households</th>\n",
              "            <th>County_Centroid</th>\n",
              "            <th>OBJECTID</th>\n",
              "        </tr>\n",
              "    </thead>\n",
              "    <tbody>\n",
              "        <tr>\n",
              "            <td>Mombasa</td>\n",
              "            <td>Female</td>\n",
              "            <td>16.8%</td>\n",
              "            <td>36.8%</td>\n",
              "            <td>39.5%</td>\n",
              "            <td>6.8%</td>\n",
              "            <td>59858</td>\n",
              "            <td>(-4.018795613, 39.653975520000003)</td>\n",
              "            <td>0</td>\n",
              "        </tr>\n",
              "        <tr>\n",
              "            <td>Kwale</td>\n",
              "            <td>Female</td>\n",
              "            <td>10.9%</td>\n",
              "            <td>25.4%</td>\n",
              "            <td>46.5%</td>\n",
              "            <td>17.1%</td>\n",
              "            <td>40265</td>\n",
              "            <td>(-4.1398571640000004, 39.15036963)</td>\n",
              "            <td>1</td>\n",
              "        </tr>\n",
              "        <tr>\n",
              "            <td>Kilifi</td>\n",
              "            <td>Female</td>\n",
              "            <td>12.5%</td>\n",
              "            <td>26.6%</td>\n",
              "            <td>46.2%</td>\n",
              "            <td>14.7%</td>\n",
              "            <td>64963</td>\n",
              "            <td>(-3.1731002359999998, 39.683055940000003)</td>\n",
              "            <td>2</td>\n",
              "        </tr>\n",
              "        <tr>\n",
              "            <td>Tana Rriver</td>\n",
              "            <td>Female</td>\n",
              "            <td>16.9%</td>\n",
              "            <td>25.6%</td>\n",
              "            <td>43.3%</td>\n",
              "            <td>14.2%</td>\n",
              "            <td>14447</td>\n",
              "            <td>(-1.557428783, 39.412916930000002)</td>\n",
              "            <td>3</td>\n",
              "        </tr>\n",
              "        <tr>\n",
              "            <td>Lamu</td>\n",
              "            <td>Female</td>\n",
              "            <td>9.5%</td>\n",
              "            <td>22.6%</td>\n",
              "            <td>48.7%</td>\n",
              "            <td>19.2%</td>\n",
              "            <td>5515</td>\n",
              "            <td>(-2.0391399720000001, 40.767880740000003)</td>\n",
              "            <td>4</td>\n",
              "        </tr>\n",
              "    </tbody>\n",
              "</table>"
            ],
            "text/plain": [
              "[('Mombasa', 'Female', '16.8%', '36.8%', '39.5%', '6.8%', 59858, '(-4.018795613, 39.653975520000003)', 0),\n",
              " ('Kwale', 'Female', '10.9%', '25.4%', '46.5%', '17.1%', 40265, '(-4.1398571640000004, 39.15036963)', 1),\n",
              " ('Kilifi', 'Female', '12.5%', '26.6%', '46.2%', '14.7%', 64963, '(-3.1731002359999998, 39.683055940000003)', 2),\n",
              " ('Tana Rriver', 'Female', '16.9%', '25.6%', '43.3%', '14.2%', 14447, '(-1.557428783, 39.412916930000002)', 3),\n",
              " ('Lamu', 'Female', '9.5%', '22.6%', '48.7%', '19.2%', 5515, '(-2.0391399720000001, 40.767880740000003)', 4)]"
            ]
          },
          "metadata": {
            "tags": []
          },
          "execution_count": 8
        }
      ]
    },
    {
      "cell_type": "code",
      "metadata": {
        "id": "R8zR1rtm18iA",
        "colab": {
          "base_uri": "https://localhost:8080/",
          "height": 360
        },
        "outputId": "5a864555-3dc7-4b84-99b5-e1e56bcd247f"
      },
      "source": [
        "# Let's load our government project dataset below\n",
        "with open('government_project_summary.csv','r') as f:\n",
        "    Government_Budget = pd.read_csv(f, index_col=0, encoding='utf-8') \n",
        "\n",
        "# Save the governmwnt budget dataset into a database\n",
        "#%sql DROP TABLE if EXISTS Government_Budget;\n",
        "%sql PERSIST Government_Budget;\n",
        "\n",
        "# Display the first 5 entries from the database\n",
        "%sql SELECT * FROM Government_Budget LIMIT 5;"
      ],
      "execution_count": 8,
      "outputs": [
        {
          "output_type": "stream",
          "text": [
            " * sqlite://\n",
            " * sqlite://\n",
            "Done.\n"
          ],
          "name": "stdout"
        },
        {
          "output_type": "execute_result",
          "data": {
            "text/html": [
              "<table>\n",
              "    <thead>\n",
              "        <tr>\n",
              "            <th>Total_-_GOK_Budget_Est_KES</th>\n",
              "            <th>Total_-_Loan_Budget_Est_KES</th>\n",
              "            <th>Total_-_Grant_Budget_Est_KES</th>\n",
              "            <th>Total_Budget_Supported__by_Donors_KES</th>\n",
              "            <th>Total_Project_Cost_KES</th>\n",
              "            <th>Funding_Source</th>\n",
              "            <th>OBJECTID</th>\n",
              "        </tr>\n",
              "    </thead>\n",
              "    <tbody>\n",
              "        <tr>\n",
              "            <td>111285239</td>\n",
              "            <td>609690025</td>\n",
              "            <td>2100000000</td>\n",
              "            <td>2709690025</td>\n",
              "            <td>25162065397</td>\n",
              "            <td> Government of Sweden</td>\n",
              "            <td>0</td>\n",
              "        </tr>\n",
              "        <tr>\n",
              "            <td>2009277440</td>\n",
              "            <td>7443790000</td>\n",
              "            <td>1436627037</td>\n",
              "            <td>8880417037</td>\n",
              "            <td>12567296534</td>\n",
              "            <td> United Nations Development Programme (UNDP)</td>\n",
              "            <td>1</td>\n",
              "        </tr>\n",
              "        <tr>\n",
              "            <td>50034000</td>\n",
              "            <td>0</td>\n",
              "            <td>1705540000</td>\n",
              "            <td>1705540000</td>\n",
              "            <td>4015101726</td>\n",
              "            <td> World Food Programme</td>\n",
              "            <td>2</td>\n",
              "        </tr>\n",
              "        <tr>\n",
              "            <td>24267555932</td>\n",
              "            <td>144199000000</td>\n",
              "            <td>1700000000</td>\n",
              "            <td>145899000000</td>\n",
              "            <td>445033000000</td>\n",
              "            <td> African Development Bank/ Fund</td>\n",
              "            <td>3</td>\n",
              "        </tr>\n",
              "        <tr>\n",
              "            <td>1160000000</td>\n",
              "            <td>2085000000</td>\n",
              "            <td>600000000</td>\n",
              "            <td>2685000000</td>\n",
              "            <td>174293000000</td>\n",
              "            <td> European Investment Bank</td>\n",
              "            <td>4</td>\n",
              "        </tr>\n",
              "    </tbody>\n",
              "</table>"
            ],
            "text/plain": [
              "[(111285239, 609690025, 2100000000, 2709690025, 25162065397, ' Government of Sweden', 0),\n",
              " (2009277440, 7443790000, 1436627037, 8880417037, 12567296534, ' United Nations Development Programme (UNDP)', 1),\n",
              " (50034000, 0, 1705540000, 1705540000, 4015101726, ' World Food Programme', 2),\n",
              " (24267555932, 144199000000, 1700000000, 145899000000, 445033000000, ' African Development Bank/ Fund', 3),\n",
              " (1160000000, 2085000000, 600000000, 2685000000, 174293000000, ' European Investment Bank', 4)]"
            ]
          },
          "metadata": {
            "tags": []
          },
          "execution_count": 8
        }
      ]
    },
    {
      "cell_type": "markdown",
      "metadata": {
        "id": "j7blcxQkWtbr"
      },
      "source": [
        "## 1.2 Using the AVG() aggregate function"
      ]
    },
    {
      "cell_type": "code",
      "metadata": {
        "id": "xejqEVS6XE3K",
        "colab": {
          "base_uri": "https://localhost:8080/",
          "height": 92
        },
        "outputId": "b2ad7e38-305e-4944-e4b8-ed791ce5c95d"
      },
      "source": [
        "# Example 1 \n",
        "# We can find the average Total_population for urban centres in Kenya \n",
        "# by using the AVG() function as shown;\n",
        "#\n",
        "%%sql\n",
        "SELECT AVG(Total_population) FROM Urban_Centres;"
      ],
      "execution_count": 20,
      "outputs": [
        {
          "output_type": "stream",
          "text": [
            " * sqlite://\n",
            "Done.\n"
          ],
          "name": "stdout"
        },
        {
          "output_type": "execute_result",
          "data": {
            "text/html": [
              "<table>\n",
              "    <thead>\n",
              "        <tr>\n",
              "            <th>AVG(Total_population)</th>\n",
              "        </tr>\n",
              "    </thead>\n",
              "    <tbody>\n",
              "        <tr>\n",
              "            <td>66232.38202247191</td>\n",
              "        </tr>\n",
              "    </tbody>\n",
              "</table>"
            ],
            "text/plain": [
              "[(66232.38202247191,)]"
            ]
          },
          "metadata": {
            "tags": []
          },
          "execution_count": 20
        }
      ]
    },
    {
      "cell_type": "code",
      "metadata": {
        "id": "pSul8oZAXODb",
        "colab": {
          "base_uri": "https://localhost:8080/",
          "height": 95
        },
        "outputId": "4de2e91b-5e6f-4237-8be1-0fe68fa8e1e2"
      },
      "source": [
        "# Example 2\n",
        "# What was the average funding provided by donors? \n",
        "# \n",
        "%%sql\n",
        "SELECT AVG(Total_Budget_Supported__by_Donors_KES) FROM Government_Budget;"
      ],
      "execution_count": null,
      "outputs": [
        {
          "output_type": "stream",
          "text": [
            " * sqlite://\n",
            "Done.\n"
          ],
          "name": "stdout"
        },
        {
          "output_type": "execute_result",
          "data": {
            "text/html": [
              "<table>\n",
              "    <tr>\n",
              "        <th>AVG(Total_Budget_Supported__by_Donors_KES)</th>\n",
              "    </tr>\n",
              "    <tr>\n",
              "        <td>12154422103.65</td>\n",
              "    </tr>\n",
              "</table>"
            ],
            "text/plain": [
              "[(12154422103.65,)]"
            ]
          },
          "metadata": {
            "tags": []
          },
          "execution_count": 11
        }
      ]
    },
    {
      "cell_type": "code",
      "metadata": {
        "id": "fRbUWnBnXN4G",
        "colab": {
          "base_uri": "https://localhost:8080/",
          "height": 95
        },
        "outputId": "18f1bcf9-e2f3-4300-84dc-c660230380f8"
      },
      "source": [
        "# Example 3\n",
        "# What is the average no. of female households?\n",
        "#\n",
        "%%sql\n",
        "SELECT AVG(Number_of_households) FROM Households WHERE gender=\"Female\";"
      ],
      "execution_count": null,
      "outputs": [
        {
          "output_type": "stream",
          "text": [
            " * sqlite://\n",
            "Done.\n"
          ],
          "name": "stdout"
        },
        {
          "output_type": "execute_result",
          "data": {
            "text/html": [
              "<table>\n",
              "    <tr>\n",
              "        <th>AVG(Number_of_households)</th>\n",
              "    </tr>\n",
              "    <tr>\n",
              "        <td>59974.46808510638</td>\n",
              "    </tr>\n",
              "</table>"
            ],
            "text/plain": [
              "[(59974.46808510638,)]"
            ]
          },
          "metadata": {
            "tags": []
          },
          "execution_count": 12
        }
      ]
    },
    {
      "cell_type": "markdown",
      "metadata": {
        "id": "0kirRUMgXaMs"
      },
      "source": [
        "### <font color=\"green\">1.2 Challenges</font>"
      ]
    },
    {
      "cell_type": "code",
      "metadata": {
        "id": "xbn296l_Xp0a",
        "colab": {
          "base_uri": "https://localhost:8080/",
          "height": 92
        },
        "outputId": "f6ebb664-8282-4e97-c17f-06a76eaa7f10"
      },
      "source": [
        "# Challenge 1\n",
        "# Calculate the average core urban population?\n",
        "#\n",
        "%%sql\n",
        "SELECT AVG(Core_urban_population\t) FROM Urban_Centres"
      ],
      "execution_count": 21,
      "outputs": [
        {
          "output_type": "stream",
          "text": [
            " * sqlite://\n",
            "Done.\n"
          ],
          "name": "stdout"
        },
        {
          "output_type": "execute_result",
          "data": {
            "text/html": [
              "<table>\n",
              "    <thead>\n",
              "        <tr>\n",
              "            <th>AVG(Core_urban_population\t)</th>\n",
              "        </tr>\n",
              "    </thead>\n",
              "    <tbody>\n",
              "        <tr>\n",
              "            <td>49875.38764044944</td>\n",
              "        </tr>\n",
              "    </tbody>\n",
              "</table>"
            ],
            "text/plain": [
              "[(49875.38764044944,)]"
            ]
          },
          "metadata": {
            "tags": []
          },
          "execution_count": 21
        }
      ]
    },
    {
      "cell_type": "code",
      "metadata": {
        "id": "UT-YLh2mXqkx",
        "colab": {
          "base_uri": "https://localhost:8080/",
          "height": 92
        },
        "outputId": "e4b6f37f-3d02-4aa1-a9f0-8c94a9d46c62"
      },
      "source": [
        "# Challenge 2\n",
        "# Calculate the average grant for project allocations to the Kenyan government?\n",
        "# \n",
        "%%sql\n",
        "SELECT AVG(Total_Project_Cost_KES) FROM Government_Budget"
      ],
      "execution_count": 22,
      "outputs": [
        {
          "output_type": "stream",
          "text": [
            " * sqlite://\n",
            "Done.\n"
          ],
          "name": "stdout"
        },
        {
          "output_type": "execute_result",
          "data": {
            "text/html": [
              "<table>\n",
              "    <thead>\n",
              "        <tr>\n",
              "            <th>AVG(Total_Project_Cost_KES)</th>\n",
              "        </tr>\n",
              "    </thead>\n",
              "    <tbody>\n",
              "        <tr>\n",
              "            <td>5705039647489.225</td>\n",
              "        </tr>\n",
              "    </tbody>\n",
              "</table>"
            ],
            "text/plain": [
              "[(5705039647489.225,)]"
            ]
          },
          "metadata": {
            "tags": []
          },
          "execution_count": 22
        }
      ]
    },
    {
      "cell_type": "code",
      "metadata": {
        "id": "VjBWjGp9XqWY",
        "colab": {
          "base_uri": "https://localhost:8080/",
          "height": 92
        },
        "outputId": "4d6d9eba-0b18-41cc-cf16-e213ca779222"
      },
      "source": [
        "# Challenge 3\n",
        "# Calculate the average number of male households in Kenya\n",
        "# with an age group of atleast 30% household age group of 25 - 34yrs?\n",
        "# \n",
        "%%sql \n",
        "SELECT AVG(Number_of_households) FROM Households \n",
        "WHERE Gender =\"male\" AND 'Age_Group_of_Household_head_25-34_%' = \"30%\"; "
      ],
      "execution_count": 29,
      "outputs": [
        {
          "output_type": "stream",
          "text": [
            " * sqlite://\n",
            "Done.\n"
          ],
          "name": "stdout"
        },
        {
          "output_type": "execute_result",
          "data": {
            "text/html": [
              "<table>\n",
              "    <thead>\n",
              "        <tr>\n",
              "            <th>AVG(Number_of_households)</th>\n",
              "        </tr>\n",
              "    </thead>\n",
              "    <tbody>\n",
              "        <tr>\n",
              "            <td>None</td>\n",
              "        </tr>\n",
              "    </tbody>\n",
              "</table>"
            ],
            "text/plain": [
              "[(None,)]"
            ]
          },
          "metadata": {
            "tags": []
          },
          "execution_count": 29
        }
      ]
    },
    {
      "cell_type": "markdown",
      "metadata": {
        "id": "xeNCrrnOWvIi"
      },
      "source": [
        "## 1.3 Performing Arithmetic Operations\n"
      ]
    },
    {
      "cell_type": "code",
      "metadata": {
        "id": "NQaUfmLAX3-n",
        "colab": {
          "base_uri": "https://localhost:8080/",
          "height": 72
        },
        "outputId": "c75e11e8-a48b-4343-d280-20dc57442160"
      },
      "source": [
        "# Example 1\n",
        "# Let's do some data cleaning procedures by trying to find out the number \n",
        "# of records whose addition of core urban population \n",
        "# and peri urban population does not add up to the total urban population.\n",
        "#\n",
        "%%sql\n",
        "SELECT * FROM Urban_Centres WHERE (Core_urban_population + Peri_urban_population) != Total_population;"
      ],
      "execution_count": 30,
      "outputs": [
        {
          "output_type": "stream",
          "text": [
            " * sqlite://\n",
            "Done.\n"
          ],
          "name": "stdout"
        },
        {
          "output_type": "execute_result",
          "data": {
            "text/html": [
              "<table>\n",
              "    <thead>\n",
              "        <tr>\n",
              "            <th>Urban_centre</th>\n",
              "            <th>Total_population</th>\n",
              "            <th>Core_urban_population</th>\n",
              "            <th>Peri_urban_population</th>\n",
              "            <th>Sex_ratio</th>\n",
              "            <th>co-ordinates</th>\n",
              "            <th>OBJECTID</th>\n",
              "        </tr>\n",
              "    </thead>\n",
              "    <tbody>\n",
              "    </tbody>\n",
              "</table>"
            ],
            "text/plain": [
              "[]"
            ]
          },
          "metadata": {
            "tags": []
          },
          "execution_count": 30
        }
      ]
    },
    {
      "cell_type": "code",
      "metadata": {
        "id": "KLPKHaXgX32_",
        "colab": {
          "base_uri": "https://localhost:8080/",
          "height": 1000
        },
        "outputId": "67022f8e-f27f-4f38-b51b-f1277c95176a"
      },
      "source": [
        "# Example 2 \n",
        "# Which urban centers' difference between the core urban population \n",
        "# and the peri urban population was less than 1000?\n",
        "#\n",
        "%%sql \n",
        "SELECT * FROM Urban_Centres WHERE (Core_urban_population - Peri_urban_population) < 1000"
      ],
      "execution_count": 31,
      "outputs": [
        {
          "output_type": "stream",
          "text": [
            " * sqlite://\n",
            "Done.\n"
          ],
          "name": "stdout"
        },
        {
          "output_type": "execute_result",
          "data": {
            "text/html": [
              "<table>\n",
              "    <thead>\n",
              "        <tr>\n",
              "            <th>Urban_centre</th>\n",
              "            <th>Total_population</th>\n",
              "            <th>Core_urban_population</th>\n",
              "            <th>Peri_urban_population</th>\n",
              "            <th>Sex_ratio</th>\n",
              "            <th>co-ordinates</th>\n",
              "            <th>OBJECTID</th>\n",
              "        </tr>\n",
              "    </thead>\n",
              "    <tbody>\n",
              "        <tr>\n",
              "            <td>Ahero</td>\n",
              "            <td>54194</td>\n",
              "            <td>8362</td>\n",
              "            <td>45832</td>\n",
              "            <td>92</td>\n",
              "            <td>(-0.156472052, 34.922629149999999)</td>\n",
              "            <td>0</td>\n",
              "        </tr>\n",
              "        <tr>\n",
              "            <td>Archers Post</td>\n",
              "            <td>6123</td>\n",
              "            <td>2683</td>\n",
              "            <td>3440</td>\n",
              "            <td>106</td>\n",
              "            <td>(0.64069109999999996, 37.6491483)</td>\n",
              "            <td>1</td>\n",
              "        </tr>\n",
              "        <tr>\n",
              "            <td>Awendo</td>\n",
              "            <td>108742</td>\n",
              "            <td>17909</td>\n",
              "            <td>90833</td>\n",
              "            <td>94</td>\n",
              "            <td>(-0.89444667099999997, 34.536880379999999)</td>\n",
              "            <td>2</td>\n",
              "        </tr>\n",
              "        <tr>\n",
              "            <td>Bomet</td>\n",
              "            <td>83440</td>\n",
              "            <td>6742</td>\n",
              "            <td>76698</td>\n",
              "            <td>98</td>\n",
              "            <td>(-0.76932068200000003, 35.350992400000003)</td>\n",
              "            <td>5</td>\n",
              "        </tr>\n",
              "        <tr>\n",
              "            <td>Bondo</td>\n",
              "            <td>33197</td>\n",
              "            <td>14478</td>\n",
              "            <td>18719</td>\n",
              "            <td>91</td>\n",
              "            <td>(-0.085401447000000005, 34.274145799999999)</td>\n",
              "            <td>6</td>\n",
              "        </tr>\n",
              "        <tr>\n",
              "            <td>Butere</td>\n",
              "            <td>12503</td>\n",
              "            <td>4448</td>\n",
              "            <td>8055</td>\n",
              "            <td>88</td>\n",
              "            <td>(0.21676480000000001, 34.475354799999998)</td>\n",
              "            <td>9</td>\n",
              "        </tr>\n",
              "        <tr>\n",
              "            <td>Chogoria</td>\n",
              "            <td>28530</td>\n",
              "            <td>6434</td>\n",
              "            <td>22096</td>\n",
              "            <td>100</td>\n",
              "            <td>(-0.22342748200000001, 37.616568299999997)</td>\n",
              "            <td>11</td>\n",
              "        </tr>\n",
              "        <tr>\n",
              "            <td>Chuka</td>\n",
              "            <td>43064</td>\n",
              "            <td>7614</td>\n",
              "            <td>35450</td>\n",
              "            <td>96</td>\n",
              "            <td>(-0.32020847200000002, 37.63234044)</td>\n",
              "            <td>12</td>\n",
              "        </tr>\n",
              "        <tr>\n",
              "            <td>Homa Bay</td>\n",
              "            <td>59165</td>\n",
              "            <td>28593</td>\n",
              "            <td>30572</td>\n",
              "            <td>91</td>\n",
              "            <td>(-0.51342902499999998, 34.46228764)</td>\n",
              "            <td>29</td>\n",
              "        </tr>\n",
              "        <tr>\n",
              "            <td>Iten/Tambach</td>\n",
              "            <td>44513</td>\n",
              "            <td>9012</td>\n",
              "            <td>35501</td>\n",
              "            <td>95</td>\n",
              "            <td>(0.68984582100000003, 35.512455490000001)</td>\n",
              "            <td>32</td>\n",
              "        </tr>\n",
              "        <tr>\n",
              "            <td>Kandara</td>\n",
              "            <td>12889</td>\n",
              "            <td>0</td>\n",
              "            <td>12889</td>\n",
              "            <td>93</td>\n",
              "            <td>(-0.87894349299999996, 36.984498909999999)</td>\n",
              "            <td>39</td>\n",
              "        </tr>\n",
              "        <tr>\n",
              "            <td>Kangundo-Tala</td>\n",
              "            <td>218722</td>\n",
              "            <td>13119</td>\n",
              "            <td>205603</td>\n",
              "            <td>98</td>\n",
              "            <td>(-1.2877069160000001, 37.330792109999997)</td>\n",
              "            <td>40</td>\n",
              "        </tr>\n",
              "        <tr>\n",
              "            <td>Kapsabet</td>\n",
              "            <td>87850</td>\n",
              "            <td>23303</td>\n",
              "            <td>64547</td>\n",
              "            <td>98</td>\n",
              "            <td>(0.22172877399999999, 35.110666889999997)</td>\n",
              "            <td>42</td>\n",
              "        </tr>\n",
              "        <tr>\n",
              "            <td>Katito</td>\n",
              "            <td>7840</td>\n",
              "            <td>3067</td>\n",
              "            <td>4773</td>\n",
              "            <td>89</td>\n",
              "            <td>(-0.26996690000000001, 34.969609400000003)</td>\n",
              "            <td>47</td>\n",
              "        </tr>\n",
              "        <tr>\n",
              "            <td>Kendu Bay</td>\n",
              "            <td>16030</td>\n",
              "            <td>5213</td>\n",
              "            <td>10817</td>\n",
              "            <td>92</td>\n",
              "            <td>(-0.34699610800000003, 34.649178089999999)</td>\n",
              "            <td>49</td>\n",
              "        </tr>\n",
              "        <tr>\n",
              "            <td>Kericho</td>\n",
              "            <td>127042</td>\n",
              "            <td>40813</td>\n",
              "            <td>86229</td>\n",
              "            <td>102</td>\n",
              "            <td>(-0.353571784, 35.28978755)</td>\n",
              "            <td>50</td>\n",
              "        </tr>\n",
              "        <tr>\n",
              "            <td>Keroka</td>\n",
              "            <td>49853</td>\n",
              "            <td>6949</td>\n",
              "            <td>42904</td>\n",
              "            <td>90</td>\n",
              "            <td>(-0.759323847, 34.95244804)</td>\n",
              "            <td>51</td>\n",
              "        </tr>\n",
              "        <tr>\n",
              "            <td>Kimilili</td>\n",
              "            <td>94719</td>\n",
              "            <td>40928</td>\n",
              "            <td>53791</td>\n",
              "            <td>94</td>\n",
              "            <td>(0.79948592500000004, 34.711513910000001)</td>\n",
              "            <td>58</td>\n",
              "        </tr>\n",
              "        <tr>\n",
              "            <td>Kiminini</td>\n",
              "            <td>11642</td>\n",
              "            <td>5523</td>\n",
              "            <td>6119</td>\n",
              "            <td>85</td>\n",
              "            <td>(0.90853975600000003, 34.92532886)</td>\n",
              "            <td>59</td>\n",
              "        </tr>\n",
              "        <tr>\n",
              "            <td>Kinango</td>\n",
              "            <td>7682</td>\n",
              "            <td>4317</td>\n",
              "            <td>3365</td>\n",
              "            <td>93</td>\n",
              "            <td>(-4.1045338190000002, 39.313578219999997)</td>\n",
              "            <td>60</td>\n",
              "        </tr>\n",
              "        <tr>\n",
              "            <td>Kipkelion</td>\n",
              "            <td>47902</td>\n",
              "            <td>3582</td>\n",
              "            <td>44320</td>\n",
              "            <td>98</td>\n",
              "            <td>(-0.17626963900000001, 35.466227510000003)</td>\n",
              "            <td>61</td>\n",
              "        </tr>\n",
              "        <tr>\n",
              "            <td>Kitui</td>\n",
              "            <td>115183</td>\n",
              "            <td>19067</td>\n",
              "            <td>96116</td>\n",
              "            <td>94</td>\n",
              "            <td>(-1.3667407, 38.009941499999996)</td>\n",
              "            <td>67</td>\n",
              "        </tr>\n",
              "        <tr>\n",
              "            <td>Kwale</td>\n",
              "            <td>21378</td>\n",
              "            <td>6037</td>\n",
              "            <td>15341</td>\n",
              "            <td>91</td>\n",
              "            <td>(-4.1487008769999996, 39.455571740000003)</td>\n",
              "            <td>69</td>\n",
              "        </tr>\n",
              "        <tr>\n",
              "            <td>Londiani</td>\n",
              "            <td>44843</td>\n",
              "            <td>5405</td>\n",
              "            <td>39438</td>\n",
              "            <td>99</td>\n",
              "            <td>(-0.14696747299999999, 35.6003002)</td>\n",
              "            <td>76</td>\n",
              "        </tr>\n",
              "        <tr>\n",
              "            <td>Luanda</td>\n",
              "            <td>49156</td>\n",
              "            <td>7149</td>\n",
              "            <td>42007</td>\n",
              "            <td>92</td>\n",
              "            <td>(0.045638918000000001, 34.583453140000003)</td>\n",
              "            <td>77</td>\n",
              "        </tr>\n",
              "        <tr>\n",
              "            <td>Lumakanda</td>\n",
              "            <td>10548</td>\n",
              "            <td>2478</td>\n",
              "            <td>8070</td>\n",
              "            <td>99</td>\n",
              "            <td>(0.63659500000000002, 35.0108751)</td>\n",
              "            <td>78</td>\n",
              "        </tr>\n",
              "        <tr>\n",
              "            <td>Machakos</td>\n",
              "            <td>150467</td>\n",
              "            <td>40819</td>\n",
              "            <td>109648</td>\n",
              "            <td>97</td>\n",
              "            <td>(-1.506809311, 37.258834540000002)</td>\n",
              "            <td>79</td>\n",
              "        </tr>\n",
              "        <tr>\n",
              "            <td>Makuyu</td>\n",
              "            <td>47452</td>\n",
              "            <td>6955</td>\n",
              "            <td>40497</td>\n",
              "            <td>99</td>\n",
              "            <td>(-0.88942170300000001, 37.186287710000002)</td>\n",
              "            <td>86</td>\n",
              "        </tr>\n",
              "        <tr>\n",
              "            <td>Maragwa</td>\n",
              "            <td>25081</td>\n",
              "            <td>4263</td>\n",
              "            <td>20818</td>\n",
              "            <td>95</td>\n",
              "            <td>(-0.790646933, 37.129400400000002)</td>\n",
              "            <td>90</td>\n",
              "        </tr>\n",
              "        <tr>\n",
              "            <td>Marimanti</td>\n",
              "            <td>8535</td>\n",
              "            <td>1638</td>\n",
              "            <td>6897</td>\n",
              "            <td>97</td>\n",
              "            <td>(-0.1558254, 37.957881399999998)</td>\n",
              "            <td>95</td>\n",
              "        </tr>\n",
              "        <tr>\n",
              "            <td>Masimba</td>\n",
              "            <td>34973</td>\n",
              "            <td>1146</td>\n",
              "            <td>33827</td>\n",
              "            <td>90</td>\n",
              "            <td>(-0.86112840000000002, 34.930944199999999)</td>\n",
              "            <td>99</td>\n",
              "        </tr>\n",
              "        <tr>\n",
              "            <td>Matuu</td>\n",
              "            <td>51025</td>\n",
              "            <td>10569</td>\n",
              "            <td>40456</td>\n",
              "            <td>96</td>\n",
              "            <td>(-1.1431591999999999, 37.530126899999999)</td>\n",
              "            <td>101</td>\n",
              "        </tr>\n",
              "        <tr>\n",
              "            <td>Muhoroni</td>\n",
              "            <td>34379</td>\n",
              "            <td>14756</td>\n",
              "            <td>19623</td>\n",
              "            <td>108</td>\n",
              "            <td>(-0.12975930099999999, 35.189717829999999)</td>\n",
              "            <td>116</td>\n",
              "        </tr>\n",
              "        <tr>\n",
              "            <td>Mukurwe-Ini</td>\n",
              "            <td>5402</td>\n",
              "            <td>2168</td>\n",
              "            <td>3234</td>\n",
              "            <td>95</td>\n",
              "            <td>(-0.55321465400000003, 37.041835319999997)</td>\n",
              "            <td>118</td>\n",
              "        </tr>\n",
              "        <tr>\n",
              "            <td>Mumias</td>\n",
              "            <td>102208</td>\n",
              "            <td>38623</td>\n",
              "            <td>63585</td>\n",
              "            <td>95</td>\n",
              "            <td>(0.33317140000000001, 34.477972800000003)</td>\n",
              "            <td>119</td>\n",
              "        </tr>\n",
              "        <tr>\n",
              "            <td>Nyamira</td>\n",
              "            <td>56857</td>\n",
              "            <td>12657</td>\n",
              "            <td>44200</td>\n",
              "            <td>92</td>\n",
              "            <td>(-0.56332979999999999, 34.893209900000002)</td>\n",
              "            <td>137</td>\n",
              "        </tr>\n",
              "        <tr>\n",
              "            <td>Ol Kalou</td>\n",
              "            <td>67186</td>\n",
              "            <td>7010</td>\n",
              "            <td>60176</td>\n",
              "            <td>96</td>\n",
              "            <td>(-0.26985817099999998, 36.370259300000001)</td>\n",
              "            <td>140</td>\n",
              "        </tr>\n",
              "        <tr>\n",
              "            <td>Oyugis</td>\n",
              "            <td>36528</td>\n",
              "            <td>8917</td>\n",
              "            <td>27611</td>\n",
              "            <td>89</td>\n",
              "            <td>(-0.49686285099999999, 34.730712910000001)</td>\n",
              "            <td>143</td>\n",
              "        </tr>\n",
              "        <tr>\n",
              "            <td>Rongo</td>\n",
              "            <td>81968</td>\n",
              "            <td>12282</td>\n",
              "            <td>69686</td>\n",
              "            <td>92</td>\n",
              "            <td>(-0.74350079099999999, 34.604594759999998)</td>\n",
              "            <td>146</td>\n",
              "        </tr>\n",
              "        <tr>\n",
              "            <td>Runyenjes</td>\n",
              "            <td>19434</td>\n",
              "            <td>1956</td>\n",
              "            <td>17478</td>\n",
              "            <td>95</td>\n",
              "            <td>(-0.40199000499999998, 37.558866020000004)</td>\n",
              "            <td>148</td>\n",
              "        </tr>\n",
              "        <tr>\n",
              "            <td>Shamata</td>\n",
              "            <td>9221</td>\n",
              "            <td>2921</td>\n",
              "            <td>6300</td>\n",
              "            <td>96</td>\n",
              "            <td>(-0.1164949, 36.479957200000001)</td>\n",
              "            <td>150</td>\n",
              "        </tr>\n",
              "        <tr>\n",
              "            <td>Suneka</td>\n",
              "            <td>50961</td>\n",
              "            <td>5688</td>\n",
              "            <td>45273</td>\n",
              "            <td>92</td>\n",
              "            <td>(-0.67782799999999999, 34.700317200000001)</td>\n",
              "            <td>158</td>\n",
              "        </tr>\n",
              "        <tr>\n",
              "            <td>Uriri</td>\n",
              "            <td>6202</td>\n",
              "            <td>0</td>\n",
              "            <td>6202</td>\n",
              "            <td>90</td>\n",
              "            <td>(0.031698400000000002, 34.451698)</td>\n",
              "            <td>167</td>\n",
              "        </tr>\n",
              "        <tr>\n",
              "            <td>Vihiga</td>\n",
              "            <td>124391</td>\n",
              "            <td>36380</td>\n",
              "            <td>88011</td>\n",
              "            <td>92</td>\n",
              "            <td>(0.30366979, 34.94499751)</td>\n",
              "            <td>169</td>\n",
              "        </tr>\n",
              "        <tr>\n",
              "            <td>Wajir</td>\n",
              "            <td>82106</td>\n",
              "            <td>16188</td>\n",
              "            <td>65918</td>\n",
              "            <td>111</td>\n",
              "            <td>(1.7462282250000001, 40.057254749999998)</td>\n",
              "            <td>171</td>\n",
              "        </tr>\n",
              "        <tr>\n",
              "            <td>Wamba</td>\n",
              "            <td>6059</td>\n",
              "            <td>2579</td>\n",
              "            <td>3480</td>\n",
              "            <td>99</td>\n",
              "            <td>(0.98577954499999998, 37.32137101)</td>\n",
              "            <td>172</td>\n",
              "        </tr>\n",
              "        <tr>\n",
              "            <td>Webuye</td>\n",
              "            <td>49767</td>\n",
              "            <td>23364</td>\n",
              "            <td>26403</td>\n",
              "            <td>97</td>\n",
              "            <td>(0.61901399499999998, 34.765001550000001)</td>\n",
              "            <td>175</td>\n",
              "        </tr>\n",
              "        <tr>\n",
              "            <td>Wote</td>\n",
              "            <td>67542</td>\n",
              "            <td>9433</td>\n",
              "            <td>58109</td>\n",
              "            <td>99</td>\n",
              "            <td>(-1.7848607000000001, 37.612123099999998)</td>\n",
              "            <td>176</td>\n",
              "        </tr>\n",
              "    </tbody>\n",
              "</table>"
            ],
            "text/plain": [
              "[('Ahero', 54194, 8362, 45832, 92, '(-0.156472052, 34.922629149999999)', 0),\n",
              " ('Archers Post', 6123, 2683, 3440, 106, '(0.64069109999999996, 37.6491483)', 1),\n",
              " ('Awendo', 108742, 17909, 90833, 94, '(-0.89444667099999997, 34.536880379999999)', 2),\n",
              " ('Bomet', 83440, 6742, 76698, 98, '(-0.76932068200000003, 35.350992400000003)', 5),\n",
              " ('Bondo', 33197, 14478, 18719, 91, '(-0.085401447000000005, 34.274145799999999)', 6),\n",
              " ('Butere', 12503, 4448, 8055, 88, '(0.21676480000000001, 34.475354799999998)', 9),\n",
              " ('Chogoria', 28530, 6434, 22096, 100, '(-0.22342748200000001, 37.616568299999997)', 11),\n",
              " ('Chuka', 43064, 7614, 35450, 96, '(-0.32020847200000002, 37.63234044)', 12),\n",
              " ('Homa Bay', 59165, 28593, 30572, 91, '(-0.51342902499999998, 34.46228764)', 29),\n",
              " ('Iten/Tambach', 44513, 9012, 35501, 95, '(0.68984582100000003, 35.512455490000001)', 32),\n",
              " ('Kandara', 12889, 0, 12889, 93, '(-0.87894349299999996, 36.984498909999999)', 39),\n",
              " ('Kangundo-Tala', 218722, 13119, 205603, 98, '(-1.2877069160000001, 37.330792109999997)', 40),\n",
              " ('Kapsabet', 87850, 23303, 64547, 98, '(0.22172877399999999, 35.110666889999997)', 42),\n",
              " ('Katito', 7840, 3067, 4773, 89, '(-0.26996690000000001, 34.969609400000003)', 47),\n",
              " ('Kendu Bay', 16030, 5213, 10817, 92, '(-0.34699610800000003, 34.649178089999999)', 49),\n",
              " ('Kericho', 127042, 40813, 86229, 102, '(-0.353571784, 35.28978755)', 50),\n",
              " ('Keroka', 49853, 6949, 42904, 90, '(-0.759323847, 34.95244804)', 51),\n",
              " ('Kimilili', 94719, 40928, 53791, 94, '(0.79948592500000004, 34.711513910000001)', 58),\n",
              " ('Kiminini', 11642, 5523, 6119, 85, '(0.90853975600000003, 34.92532886)', 59),\n",
              " ('Kinango', 7682, 4317, 3365, 93, '(-4.1045338190000002, 39.313578219999997)', 60),\n",
              " ('Kipkelion', 47902, 3582, 44320, 98, '(-0.17626963900000001, 35.466227510000003)', 61),\n",
              " ('Kitui', 115183, 19067, 96116, 94, '(-1.3667407, 38.009941499999996)', 67),\n",
              " ('Kwale', 21378, 6037, 15341, 91, '(-4.1487008769999996, 39.455571740000003)', 69),\n",
              " ('Londiani', 44843, 5405, 39438, 99, '(-0.14696747299999999, 35.6003002)', 76),\n",
              " ('Luanda', 49156, 7149, 42007, 92, '(0.045638918000000001, 34.583453140000003)', 77),\n",
              " ('Lumakanda', 10548, 2478, 8070, 99, '(0.63659500000000002, 35.0108751)', 78),\n",
              " ('Machakos', 150467, 40819, 109648, 97, '(-1.506809311, 37.258834540000002)', 79),\n",
              " ('Makuyu', 47452, 6955, 40497, 99, '(-0.88942170300000001, 37.186287710000002)', 86),\n",
              " ('Maragwa', 25081, 4263, 20818, 95, '(-0.790646933, 37.129400400000002)', 90),\n",
              " ('Marimanti', 8535, 1638, 6897, 97, '(-0.1558254, 37.957881399999998)', 95),\n",
              " ('Masimba', 34973, 1146, 33827, 90, '(-0.86112840000000002, 34.930944199999999)', 99),\n",
              " ('Matuu', 51025, 10569, 40456, 96, '(-1.1431591999999999, 37.530126899999999)', 101),\n",
              " ('Muhoroni', 34379, 14756, 19623, 108, '(-0.12975930099999999, 35.189717829999999)', 116),\n",
              " ('Mukurwe-Ini', 5402, 2168, 3234, 95, '(-0.55321465400000003, 37.041835319999997)', 118),\n",
              " ('Mumias', 102208, 38623, 63585, 95, '(0.33317140000000001, 34.477972800000003)', 119),\n",
              " ('Nyamira', 56857, 12657, 44200, 92, '(-0.56332979999999999, 34.893209900000002)', 137),\n",
              " ('Ol Kalou', 67186, 7010, 60176, 96, '(-0.26985817099999998, 36.370259300000001)', 140),\n",
              " ('Oyugis', 36528, 8917, 27611, 89, '(-0.49686285099999999, 34.730712910000001)', 143),\n",
              " ('Rongo', 81968, 12282, 69686, 92, '(-0.74350079099999999, 34.604594759999998)', 146),\n",
              " ('Runyenjes', 19434, 1956, 17478, 95, '(-0.40199000499999998, 37.558866020000004)', 148),\n",
              " ('Shamata', 9221, 2921, 6300, 96, '(-0.1164949, 36.479957200000001)', 150),\n",
              " ('Suneka', 50961, 5688, 45273, 92, '(-0.67782799999999999, 34.700317200000001)', 158),\n",
              " ('Uriri', 6202, 0, 6202, 90, '(0.031698400000000002, 34.451698)', 167),\n",
              " ('Vihiga', 124391, 36380, 88011, 92, '(0.30366979, 34.94499751)', 169),\n",
              " ('Wajir', 82106, 16188, 65918, 111, '(1.7462282250000001, 40.057254749999998)', 171),\n",
              " ('Wamba', 6059, 2579, 3480, 99, '(0.98577954499999998, 37.32137101)', 172),\n",
              " ('Webuye', 49767, 23364, 26403, 97, '(0.61901399499999998, 34.765001550000001)', 175),\n",
              " ('Wote', 67542, 9433, 58109, 99, '(-1.7848607000000001, 37.612123099999998)', 176)]"
            ]
          },
          "metadata": {
            "tags": []
          },
          "execution_count": 31
        }
      ]
    },
    {
      "cell_type": "code",
      "metadata": {
        "id": "LYeZwxqtX3ug",
        "colab": {
          "base_uri": "https://localhost:8080/",
          "height": 692
        },
        "outputId": "c1db7031-16c2-4652-d730-1febbe615b12"
      },
      "source": [
        "# Example 3\n",
        "# Which donors funded projects amounting to more than 50& of the project cost?\n",
        "# \n",
        "%%sql\n",
        "SELECT Funding_Source  FROM Government_Budget WHERE (Total_Project_Cost_KES / Total_Budget_Supported__by_Donors_KES) > 0.5;"
      ],
      "execution_count": 33,
      "outputs": [
        {
          "output_type": "stream",
          "text": [
            " * sqlite://\n",
            "Done.\n"
          ],
          "name": "stdout"
        },
        {
          "output_type": "execute_result",
          "data": {
            "text/html": [
              "<table>\n",
              "    <thead>\n",
              "        <tr>\n",
              "            <th>Funding_Source</th>\n",
              "        </tr>\n",
              "    </thead>\n",
              "    <tbody>\n",
              "        <tr>\n",
              "            <td> Government of Sweden</td>\n",
              "        </tr>\n",
              "        <tr>\n",
              "            <td> United Nations Development Programme (UNDP)</td>\n",
              "        </tr>\n",
              "        <tr>\n",
              "            <td> World Food Programme</td>\n",
              "        </tr>\n",
              "        <tr>\n",
              "            <td> African Development Bank/ Fund</td>\n",
              "        </tr>\n",
              "        <tr>\n",
              "            <td> European Investment Bank</td>\n",
              "        </tr>\n",
              "        <tr>\n",
              "            <td> Government of India</td>\n",
              "        </tr>\n",
              "        <tr>\n",
              "            <td> Government of Italy</td>\n",
              "        </tr>\n",
              "        <tr>\n",
              "            <td>Government of Kenya</td>\n",
              "        </tr>\n",
              "        <tr>\n",
              "            <td> Government of United States of America (USAID)</td>\n",
              "        </tr>\n",
              "        <tr>\n",
              "            <td> Government of Spain</td>\n",
              "        </tr>\n",
              "        <tr>\n",
              "            <td> Kuwait Fund for Arab Development</td>\n",
              "        </tr>\n",
              "        <tr>\n",
              "            <td> Arab Bank for Economic Development in Africa (BADEA)</td>\n",
              "        </tr>\n",
              "        <tr>\n",
              "            <td> Government of South Korea</td>\n",
              "        </tr>\n",
              "        <tr>\n",
              "            <td> Government of Denmark</td>\n",
              "        </tr>\n",
              "        <tr>\n",
              "            <td> Abhu Dhabi Fund</td>\n",
              "        </tr>\n",
              "        <tr>\n",
              "            <td> Government of China</td>\n",
              "        </tr>\n",
              "        <tr>\n",
              "            <td> Investment Climate Facility (ICF)</td>\n",
              "        </tr>\n",
              "        <tr>\n",
              "            <td> Government of Finland</td>\n",
              "        </tr>\n",
              "        <tr>\n",
              "            <td> International Development Association (IDA)</td>\n",
              "        </tr>\n",
              "        <tr>\n",
              "            <td> Saudi Fund for Development</td>\n",
              "        </tr>\n",
              "        <tr>\n",
              "            <td> European Development Fund</td>\n",
              "        </tr>\n",
              "        <tr>\n",
              "            <td> Global Fund</td>\n",
              "        </tr>\n",
              "        <tr>\n",
              "            <td> Government of Germany (GIZ GERMANY)</td>\n",
              "        </tr>\n",
              "        <tr>\n",
              "            <td> United Kingdom DFID (UK)</td>\n",
              "        </tr>\n",
              "        <tr>\n",
              "            <td> Government of Germany (KFW GERMANY)</td>\n",
              "        </tr>\n",
              "        <tr>\n",
              "            <td> Government of France</td>\n",
              "        </tr>\n",
              "        <tr>\n",
              "            <td> Government of Japan</td>\n",
              "        </tr>\n",
              "        <tr>\n",
              "            <td> United Nations Environmental Programme (UNEP)</td>\n",
              "        </tr>\n",
              "        <tr>\n",
              "            <td> International Fund for Agricultural Development (IFAD)</td>\n",
              "        </tr>\n",
              "        <tr>\n",
              "            <td> Organization of Petroleum Exporting Countries (OPEC)</td>\n",
              "        </tr>\n",
              "        <tr>\n",
              "            <td> Food and Agricultural Organization</td>\n",
              "        </tr>\n",
              "    </tbody>\n",
              "</table>"
            ],
            "text/plain": [
              "[(' Government of Sweden',),\n",
              " (' United Nations Development Programme (UNDP)',),\n",
              " (' World Food Programme',),\n",
              " (' African Development Bank/ Fund',),\n",
              " (' European Investment Bank',),\n",
              " (' Government of India',),\n",
              " (' Government of Italy',),\n",
              " ('Government of Kenya',),\n",
              " (' Government of United States of America (USAID)',),\n",
              " (' Government of Spain',),\n",
              " (' Kuwait Fund for Arab Development',),\n",
              " (' Arab Bank for Economic Development in Africa (BADEA)',),\n",
              " (' Government of South Korea',),\n",
              " (' Government of Denmark',),\n",
              " (' Abhu Dhabi Fund',),\n",
              " (' Government of China',),\n",
              " (' Investment Climate Facility (ICF)',),\n",
              " (' Government of Finland',),\n",
              " (' International Development Association (IDA)',),\n",
              " (' Saudi Fund for Development',),\n",
              " (' European Development Fund',),\n",
              " (' Global Fund',),\n",
              " (' Government of Germany (GIZ GERMANY)',),\n",
              " (' United Kingdom DFID (UK)',),\n",
              " (' Government of Germany (KFW GERMANY)',),\n",
              " (' Government of France',),\n",
              " (' Government of Japan',),\n",
              " (' United Nations Environmental Programme (UNEP)',),\n",
              " (' International Fund for Agricultural Development (IFAD)',),\n",
              " (' Organization of Petroleum Exporting Countries (OPEC)',),\n",
              " (' Food and Agricultural Organization',)]"
            ]
          },
          "metadata": {
            "tags": []
          },
          "execution_count": 33
        }
      ]
    },
    {
      "cell_type": "markdown",
      "metadata": {
        "id": "Ydq-Lp9vX710"
      },
      "source": [
        "### <font color=\"green\">1.3 Challenges</font>"
      ]
    },
    {
      "cell_type": "code",
      "metadata": {
        "id": "-lwboGD2YN4n",
        "colab": {
          "base_uri": "https://localhost:8080/",
          "height": 92
        },
        "outputId": "b9674a86-e9ba-453a-b630-3f3f01ee2bda"
      },
      "source": [
        "# Challenge 1\n",
        "# What was the total grants offered by the 'African Development Bank/ Fund' \n",
        "# and the 'United Nations Development Programme (UNDP)'\n",
        "# contribute towards projects underken by the Kenyan government?\n",
        "#\n",
        "%%sql\n",
        "SELECT SUM(\"Total_-_GOK_Budget_Est_KES\")  FROM Government_Budget\n",
        "WHERE (\"Funding_Source\")= \" United Nations Development Programme (UNDP)\" or (\"Funding_Source\")= \" African Development Bank/ Fund\";"
      ],
      "execution_count": 25,
      "outputs": [
        {
          "output_type": "stream",
          "text": [
            " * sqlite://\n",
            "Done.\n"
          ],
          "name": "stdout"
        },
        {
          "output_type": "execute_result",
          "data": {
            "text/html": [
              "<table>\n",
              "    <thead>\n",
              "        <tr>\n",
              "            <th>SUM(&quot;Total_-_GOK_Budget_Est_KES&quot;)</th>\n",
              "        </tr>\n",
              "    </thead>\n",
              "    <tbody>\n",
              "        <tr>\n",
              "            <td>26276833372</td>\n",
              "        </tr>\n",
              "    </tbody>\n",
              "</table>"
            ],
            "text/plain": [
              "[(26276833372,)]"
            ]
          },
          "metadata": {
            "tags": []
          },
          "execution_count": 25
        }
      ]
    },
    {
      "cell_type": "code",
      "metadata": {
        "id": "JhzG62Q9YPCn",
        "colab": {
          "base_uri": "https://localhost:8080/",
          "height": 72
        },
        "outputId": "0e7d2583-8da8-4cf3-bc34-1df231c46095"
      },
      "source": [
        "# Challenge 2 \n",
        "# Data Cleaning\n",
        "# Find the records whose difference of Total urban population \n",
        "# and peri urban population does not result to the core urban population.\n",
        "#\n",
        "%%sql\n",
        "SELECT * FROM Urban_Centres WHERE (Total_population - Peri_urban_population) != Core_urban_population;"
      ],
      "execution_count": 65,
      "outputs": [
        {
          "output_type": "stream",
          "text": [
            " * sqlite://\n",
            "Done.\n"
          ],
          "name": "stdout"
        },
        {
          "output_type": "execute_result",
          "data": {
            "text/html": [
              "<table>\n",
              "    <thead>\n",
              "        <tr>\n",
              "            <th>Urban_centre</th>\n",
              "            <th>Total_population</th>\n",
              "            <th>Core_urban_population</th>\n",
              "            <th>Peri_urban_population</th>\n",
              "            <th>Sex_ratio</th>\n",
              "            <th>co-ordinates</th>\n",
              "            <th>OBJECTID</th>\n",
              "        </tr>\n",
              "    </thead>\n",
              "    <tbody>\n",
              "    </tbody>\n",
              "</table>"
            ],
            "text/plain": [
              "[]"
            ]
          },
          "metadata": {
            "tags": []
          },
          "execution_count": 65
        }
      ]
    },
    {
      "cell_type": "code",
      "metadata": {
        "id": "hHIXv7NE5dij",
        "colab": {
          "base_uri": "https://localhost:8080/",
          "height": 252
        },
        "outputId": "8860799c-d885-41c0-b542-a0b5958c4648"
      },
      "source": [
        "# Challenge 3 \n",
        "# Which donors funded projects amounting to less than than 10% of the project cost?\n",
        "#\n",
        "%%sql\n",
        "SELECT Total_Budget_Supported__by_Donors_KES FROM Government_Budget\n",
        "WHERE\tTotal_Budget_Supported__by_Donors_KES < (Total_Project_Cost_KES)*0.1;"
      ],
      "execution_count": 111,
      "outputs": [
        {
          "output_type": "stream",
          "text": [
            " * sqlite://\n",
            "Done.\n"
          ],
          "name": "stdout"
        },
        {
          "output_type": "execute_result",
          "data": {
            "text/html": [
              "<table>\n",
              "    <thead>\n",
              "        <tr>\n",
              "            <th>Total_Budget_Supported__by_Donors_KES</th>\n",
              "        </tr>\n",
              "    </thead>\n",
              "    <tbody>\n",
              "        <tr>\n",
              "            <td>2685000000</td>\n",
              "        </tr>\n",
              "        <tr>\n",
              "            <td>2124268960</td>\n",
              "        </tr>\n",
              "        <tr>\n",
              "            <td>1000000000</td>\n",
              "        </tr>\n",
              "        <tr>\n",
              "            <td>530341760</td>\n",
              "        </tr>\n",
              "        <tr>\n",
              "            <td>285372540</td>\n",
              "        </tr>\n",
              "        <tr>\n",
              "            <td>75114669334</td>\n",
              "        </tr>\n",
              "        <tr>\n",
              "            <td>2690000000</td>\n",
              "        </tr>\n",
              "        <tr>\n",
              "            <td>12469209280</td>\n",
              "        </tr>\n",
              "        <tr>\n",
              "            <td>21016602560</td>\n",
              "        </tr>\n",
              "    </tbody>\n",
              "</table>"
            ],
            "text/plain": [
              "[(2685000000,),\n",
              " (2124268960,),\n",
              " (1000000000,),\n",
              " (530341760,),\n",
              " (285372540,),\n",
              " (75114669334,),\n",
              " (2690000000,),\n",
              " (12469209280,),\n",
              " (21016602560,)]"
            ]
          },
          "metadata": {
            "tags": []
          },
          "execution_count": 111
        }
      ]
    },
    {
      "cell_type": "markdown",
      "metadata": {
        "id": "5t8zd5x4Wy0c"
      },
      "source": [
        "## 1.4 Minimum and Maximum\n"
      ]
    },
    {
      "cell_type": "code",
      "metadata": {
        "id": "1VFu1XmdYSFT",
        "colab": {
          "base_uri": "https://localhost:8080/",
          "height": 92
        },
        "outputId": "1185f011-f922-496f-cdd7-60b2f080597d"
      },
      "source": [
        "# Example 1\n",
        "# Which urban centres had the most core urban population?\n",
        "#\n",
        "%%sql \n",
        "SELECT Urban_Centre, MAX(Core_urban_population) FROM Urban_Centres;"
      ],
      "execution_count": 73,
      "outputs": [
        {
          "output_type": "stream",
          "text": [
            " * sqlite://\n",
            "Done.\n"
          ],
          "name": "stdout"
        },
        {
          "output_type": "execute_result",
          "data": {
            "text/html": [
              "<table>\n",
              "    <thead>\n",
              "        <tr>\n",
              "            <th>Urban_centre</th>\n",
              "            <th>MAX(Core_urban_population)</th>\n",
              "        </tr>\n",
              "    </thead>\n",
              "    <tbody>\n",
              "        <tr>\n",
              "            <td>Nairobi</td>\n",
              "            <td>3109861</td>\n",
              "        </tr>\n",
              "    </tbody>\n",
              "</table>"
            ],
            "text/plain": [
              "[('Nairobi', 3109861)]"
            ]
          },
          "metadata": {
            "tags": []
          },
          "execution_count": 73
        }
      ]
    },
    {
      "cell_type": "code",
      "metadata": {
        "id": "NKUNdacAYTYN",
        "colab": {
          "base_uri": "https://localhost:8080/",
          "height": 92
        },
        "outputId": "56588cdd-9eef-4541-bbd2-857cb392ff08"
      },
      "source": [
        "# Example 2\n",
        "# Maximum Example\n",
        "# Which urban centre had the least total urban population?\n",
        "# \n",
        "%%sql \n",
        "SELECT Urban_Centre, MIN(Total_population) FROM Urban_Centres;"
      ],
      "execution_count": 74,
      "outputs": [
        {
          "output_type": "stream",
          "text": [
            " * sqlite://\n",
            "Done.\n"
          ],
          "name": "stdout"
        },
        {
          "output_type": "execute_result",
          "data": {
            "text/html": [
              "<table>\n",
              "    <thead>\n",
              "        <tr>\n",
              "            <th>Urban_centre</th>\n",
              "            <th>MIN(Total_population)</th>\n",
              "        </tr>\n",
              "    </thead>\n",
              "    <tbody>\n",
              "        <tr>\n",
              "            <td>Sololo</td>\n",
              "            <td>5035</td>\n",
              "        </tr>\n",
              "    </tbody>\n",
              "</table>"
            ],
            "text/plain": [
              "[('Sololo', 5035)]"
            ]
          },
          "metadata": {
            "tags": []
          },
          "execution_count": 74
        }
      ]
    },
    {
      "cell_type": "code",
      "metadata": {
        "id": "tx5-cA-BYUUw",
        "colab": {
          "base_uri": "https://localhost:8080/",
          "height": 92
        },
        "outputId": "52e418de-f174-4a3d-b119-ba3248cc8cfb"
      },
      "source": [
        "# Example 3\n",
        "# Which urban centre with a sex ratio > 90 had the least total urban population?\n",
        "# \n",
        "%%sql \n",
        "SELECT Urban_Centre, MIN(Total_population) FROM Urban_Centres WHERE Sex_ratio > 90;"
      ],
      "execution_count": 75,
      "outputs": [
        {
          "output_type": "stream",
          "text": [
            " * sqlite://\n",
            "Done.\n"
          ],
          "name": "stdout"
        },
        {
          "output_type": "execute_result",
          "data": {
            "text/html": [
              "<table>\n",
              "    <thead>\n",
              "        <tr>\n",
              "            <th>Urban_centre</th>\n",
              "            <th>MIN(Total_population)</th>\n",
              "        </tr>\n",
              "    </thead>\n",
              "    <tbody>\n",
              "        <tr>\n",
              "            <td>Sololo</td>\n",
              "            <td>5035</td>\n",
              "        </tr>\n",
              "    </tbody>\n",
              "</table>"
            ],
            "text/plain": [
              "[('Sololo', 5035)]"
            ]
          },
          "metadata": {
            "tags": []
          },
          "execution_count": 75
        }
      ]
    },
    {
      "cell_type": "markdown",
      "metadata": {
        "id": "Toyc2mT_YWK5"
      },
      "source": [
        "### <font color=\"green\">1.4 Challenges</font>"
      ]
    },
    {
      "cell_type": "code",
      "metadata": {
        "id": "m15e5g8bYZI6",
        "colab": {
          "base_uri": "https://localhost:8080/",
          "height": 92
        },
        "outputId": "b39ce8dd-32c7-4c13-fd57-31f743d3d175"
      },
      "source": [
        "# Challenge 1 \n",
        "# Which government projects had the most grant funding?\n",
        "# Hint: \"Total_-_Grant_Budget_Est_KES\" encolse column with double quotes\n",
        "#\n",
        "%%sql\n",
        "SELECT OBJECTID, MAX(\"Total_-_Grant_Budget_Est_KES\") FROM Government_Budget;"
      ],
      "execution_count": 77,
      "outputs": [
        {
          "output_type": "stream",
          "text": [
            " * sqlite://\n",
            "Done.\n"
          ],
          "name": "stdout"
        },
        {
          "output_type": "execute_result",
          "data": {
            "text/html": [
              "<table>\n",
              "    <thead>\n",
              "        <tr>\n",
              "            <th>OBJECTID</th>\n",
              "            <th>MAX(&quot;Total_-_Grant_Budget_Est_KES&quot;)</th>\n",
              "        </tr>\n",
              "    </thead>\n",
              "    <tbody>\n",
              "        <tr>\n",
              "            <td>27</td>\n",
              "            <td>33054201792</td>\n",
              "        </tr>\n",
              "    </tbody>\n",
              "</table>"
            ],
            "text/plain": [
              "[(27, 33054201792)]"
            ]
          },
          "metadata": {
            "tags": []
          },
          "execution_count": 77
        }
      ]
    },
    {
      "cell_type": "code",
      "metadata": {
        "id": "vERo_CIB7wGG",
        "colab": {
          "base_uri": "https://localhost:8080/",
          "height": 92
        },
        "outputId": "fa8d2d65-8e69-4249-c275-976d1936ac6c"
      },
      "source": [
        "# Challenge 2\n",
        "# Which government projects had the least loan funding?\n",
        "# \n",
        "%%sql\n",
        "SELECT OBJECTID, Min(\"Total_-_Loan_Budget_Est_KES\") FROM Government_Budget;"
      ],
      "execution_count": 82,
      "outputs": [
        {
          "output_type": "stream",
          "text": [
            " * sqlite://\n",
            "Done.\n"
          ],
          "name": "stdout"
        },
        {
          "output_type": "execute_result",
          "data": {
            "text/html": [
              "<table>\n",
              "    <thead>\n",
              "        <tr>\n",
              "            <th>OBJECTID</th>\n",
              "            <th>Min(&quot;Total_-_Loan_Budget_Est_KES&quot;)</th>\n",
              "        </tr>\n",
              "    </thead>\n",
              "    <tbody>\n",
              "        <tr>\n",
              "            <td>2</td>\n",
              "            <td>0</td>\n",
              "        </tr>\n",
              "    </tbody>\n",
              "</table>"
            ],
            "text/plain": [
              "[(2, 0)]"
            ]
          },
          "metadata": {
            "tags": []
          },
          "execution_count": 82
        }
      ]
    },
    {
      "cell_type": "code",
      "metadata": {
        "id": "AcxfwqNLYY4r",
        "colab": {
          "base_uri": "https://localhost:8080/",
          "height": 92
        },
        "outputId": "06397bea-0c3c-4e12-a066-bbc8916d995f"
      },
      "source": [
        "# Challenge \n",
        "# Which governments projects had the least loan funding and had \n",
        "# grant funding greater than donor funding?\n",
        "#\n",
        "%%sql\n",
        "SELECT OBJECTID, Min(\"Total_-_Loan_Budget_Est_KES\") FROM Government_Budget\n",
        "WHERE \"Total_-_Grant_Budget_Est_KES\" > \"Total_Budget_Supported__by_Donors_KES\";"
      ],
      "execution_count": 83,
      "outputs": [
        {
          "output_type": "stream",
          "text": [
            " * sqlite://\n",
            "Done.\n"
          ],
          "name": "stdout"
        },
        {
          "output_type": "execute_result",
          "data": {
            "text/html": [
              "<table>\n",
              "    <thead>\n",
              "        <tr>\n",
              "            <th>OBJECTID</th>\n",
              "            <th>Min(&quot;Total_-_Loan_Budget_Est_KES&quot;)</th>\n",
              "        </tr>\n",
              "    </thead>\n",
              "    <tbody>\n",
              "        <tr>\n",
              "            <td>None</td>\n",
              "            <td>None</td>\n",
              "        </tr>\n",
              "    </tbody>\n",
              "</table>"
            ],
            "text/plain": [
              "[(None, None)]"
            ]
          },
          "metadata": {
            "tags": []
          },
          "execution_count": 83
        }
      ]
    },
    {
      "cell_type": "markdown",
      "metadata": {
        "id": "3vgAkdXmW3VP"
      },
      "source": [
        "## 1.5 The Aggregate SUM() function\n"
      ]
    },
    {
      "cell_type": "code",
      "metadata": {
        "id": "H1ZjnGR8XGGm",
        "colab": {
          "base_uri": "https://localhost:8080/",
          "height": 92
        },
        "outputId": "37db1a95-12dc-4983-8b0b-71baa7d332c6"
      },
      "source": [
        "# Example 1\n",
        "# What was the total loan Budget of all government projects?\n",
        "#\n",
        "%%sql \n",
        "SELECT SUM(\"Total_-_Loan_Budget_Est_KES\") FROM Government_Budget;"
      ],
      "execution_count": 84,
      "outputs": [
        {
          "output_type": "stream",
          "text": [
            " * sqlite://\n",
            "Done.\n"
          ],
          "name": "stdout"
        },
        {
          "output_type": "execute_result",
          "data": {
            "text/html": [
              "<table>\n",
              "    <thead>\n",
              "        <tr>\n",
              "            <th>SUM(&quot;Total_-_Loan_Budget_Est_KES&quot;)</th>\n",
              "        </tr>\n",
              "    </thead>\n",
              "    <tbody>\n",
              "        <tr>\n",
              "            <td>374828211075</td>\n",
              "        </tr>\n",
              "    </tbody>\n",
              "</table>"
            ],
            "text/plain": [
              "[(374828211075,)]"
            ]
          },
          "metadata": {
            "tags": []
          },
          "execution_count": 84
        }
      ]
    },
    {
      "cell_type": "code",
      "metadata": {
        "id": "I5BwLcN2YfO1",
        "colab": {
          "base_uri": "https://localhost:8080/",
          "height": 92
        },
        "outputId": "110be233-5725-4bfe-f656-01f185145bd4"
      },
      "source": [
        "# Example 2\n",
        "# What was the total project cost for all government projects where the total\n",
        "# loan budget is greater than the total grant budget?\n",
        "#\n",
        "%%sql \n",
        "SELECT SUM(Total_Project_Cost_KES) FROM Government_Budget \n",
        "WHERE \"Total_-_Loan_Budget_Est_KES\" > \"Total_-_Grant_Budget_Est_KES\t\";"
      ],
      "execution_count": 91,
      "outputs": [
        {
          "output_type": "stream",
          "text": [
            " * sqlite://\n",
            "Done.\n"
          ],
          "name": "stdout"
        },
        {
          "output_type": "execute_result",
          "data": {
            "text/html": [
              "<table>\n",
              "    <thead>\n",
              "        <tr>\n",
              "            <th>SUM(Total_Project_Cost_KES)</th>\n",
              "        </tr>\n",
              "    </thead>\n",
              "    <tbody>\n",
              "        <tr>\n",
              "            <td>None</td>\n",
              "        </tr>\n",
              "    </tbody>\n",
              "</table>"
            ],
            "text/plain": [
              "[(None,)]"
            ]
          },
          "metadata": {
            "tags": []
          },
          "execution_count": 91
        }
      ]
    },
    {
      "cell_type": "code",
      "metadata": {
        "id": "06LLcXgsYgHo",
        "colab": {
          "base_uri": "https://localhost:8080/",
          "height": 92
        },
        "outputId": "9c5f52fa-4306-41ed-8359-6eb1686f93e8"
      },
      "source": [
        "# Example 3\n",
        "# What was the total Core urban population in Kenya?\n",
        "#\n",
        "%%sql \n",
        "SELECT SUM(Core_urban_population) FROM Urban_Centres;"
      ],
      "execution_count": 89,
      "outputs": [
        {
          "output_type": "stream",
          "text": [
            " * sqlite://\n",
            "Done.\n"
          ],
          "name": "stdout"
        },
        {
          "output_type": "execute_result",
          "data": {
            "text/html": [
              "<table>\n",
              "    <thead>\n",
              "        <tr>\n",
              "            <th>SUM(Core_urban_population)</th>\n",
              "        </tr>\n",
              "    </thead>\n",
              "    <tbody>\n",
              "        <tr>\n",
              "            <td>8877819</td>\n",
              "        </tr>\n",
              "    </tbody>\n",
              "</table>"
            ],
            "text/plain": [
              "[(8877819,)]"
            ]
          },
          "metadata": {
            "tags": []
          },
          "execution_count": 89
        }
      ]
    },
    {
      "cell_type": "markdown",
      "metadata": {
        "id": "tpsZ1JXvYhgd"
      },
      "source": [
        "### <font color=\"green\">1.5 Challenges</font>"
      ]
    },
    {
      "cell_type": "code",
      "metadata": {
        "id": "qwtLrr8cYnbe",
        "colab": {
          "base_uri": "https://localhost:8080/",
          "height": 92
        },
        "outputId": "bd74a6ac-3a3b-4fac-8d12-a53934760aa2"
      },
      "source": [
        "# Challenge 1\n",
        "# What was the total urban centre population?\n",
        "# \n",
        "%%sql \n",
        "SELECT SUM(Total_population) FROM Urban_Centres;"
      ],
      "execution_count": 90,
      "outputs": [
        {
          "output_type": "stream",
          "text": [
            " * sqlite://\n",
            "Done.\n"
          ],
          "name": "stdout"
        },
        {
          "output_type": "execute_result",
          "data": {
            "text/html": [
              "<table>\n",
              "    <thead>\n",
              "        <tr>\n",
              "            <th>SUM(Total_population)</th>\n",
              "        </tr>\n",
              "    </thead>\n",
              "    <tbody>\n",
              "        <tr>\n",
              "            <td>11789364</td>\n",
              "        </tr>\n",
              "    </tbody>\n",
              "</table>"
            ],
            "text/plain": [
              "[(11789364,)]"
            ]
          },
          "metadata": {
            "tags": []
          },
          "execution_count": 90
        }
      ]
    },
    {
      "cell_type": "code",
      "metadata": {
        "id": "R4w-o97JYo7m",
        "colab": {
          "base_uri": "https://localhost:8080/",
          "height": 92
        },
        "outputId": "1535ab30-fed0-41c2-f8aa-4c6cbe69c9d5"
      },
      "source": [
        "# Challenge 2\n",
        "# What was the sum of the urban centre populations with\n",
        "# core urban population less than peri urban population?\n",
        "# \n",
        "%%sql \n",
        "SELECT SUM(Total_population) FROM Urban_centres \n",
        "WHERE Core_urban_population > Peri_urban_population;"
      ],
      "execution_count": 93,
      "outputs": [
        {
          "output_type": "stream",
          "text": [
            " * sqlite://\n",
            "Done.\n"
          ],
          "name": "stdout"
        },
        {
          "output_type": "execute_result",
          "data": {
            "text/html": [
              "<table>\n",
              "    <thead>\n",
              "        <tr>\n",
              "            <th>SUM(Total_population)</th>\n",
              "        </tr>\n",
              "    </thead>\n",
              "    <tbody>\n",
              "        <tr>\n",
              "            <td>9282552</td>\n",
              "        </tr>\n",
              "    </tbody>\n",
              "</table>"
            ],
            "text/plain": [
              "[(9282552,)]"
            ]
          },
          "metadata": {
            "tags": []
          },
          "execution_count": 93
        }
      ]
    },
    {
      "cell_type": "code",
      "metadata": {
        "id": "hXyLQmF4vl-p",
        "colab": {
          "base_uri": "https://localhost:8080/",
          "height": 109
        },
        "outputId": "3bcb02d4-edf5-4d33-95e3-6b1b0c1ef27d"
      },
      "source": [
        "\n",
        "%%sql \n",
        "SELECT *\n",
        "FROM Households\n",
        "WHERE county IS NULL;"
      ],
      "execution_count": 92,
      "outputs": [
        {
          "output_type": "stream",
          "text": [
            " * sqlite://\n",
            "Done.\n"
          ],
          "name": "stdout"
        },
        {
          "output_type": "execute_result",
          "data": {
            "text/html": [
              "<table>\n",
              "    <thead>\n",
              "        <tr>\n",
              "            <th>County</th>\n",
              "            <th>Gender</th>\n",
              "            <th>Age_Group_of_Household_head_15-24_%_</th>\n",
              "            <th>Age_Group_of_Household_head_25-34_%</th>\n",
              "            <th>Age_Group_of_Household_head_35-59_%</th>\n",
              "            <th>Age_Group_of_Household_head_60+_%</th>\n",
              "            <th>Number_of_households</th>\n",
              "            <th>County_Centroid</th>\n",
              "            <th>OBJECTID</th>\n",
              "        </tr>\n",
              "    </thead>\n",
              "    <tbody>\n",
              "    </tbody>\n",
              "</table>"
            ],
            "text/plain": [
              "[]"
            ]
          },
          "metadata": {
            "tags": []
          },
          "execution_count": 92
        }
      ]
    },
    {
      "cell_type": "code",
      "metadata": {
        "id": "uRpFweEUYqDx",
        "colab": {
          "base_uri": "https://localhost:8080/",
          "height": 92
        },
        "outputId": "4c4fc18a-602b-4992-e835-eae541f1baf3"
      },
      "source": [
        "# Challenge 3\n",
        "# What was the sum of male and female households in Mombasa and Nairobi?\n",
        "# \n",
        "%%sql \n",
        "SELECT SUM(Number_of_households) FROM Households\n",
        "WHERE County='Mombasa' or County='Nairobi';"
      ],
      "execution_count": 13,
      "outputs": [
        {
          "output_type": "stream",
          "text": [
            " * sqlite://\n",
            "Done.\n"
          ],
          "name": "stdout"
        },
        {
          "output_type": "execute_result",
          "data": {
            "text/html": [
              "<table>\n",
              "    <thead>\n",
              "        <tr>\n",
              "            <th>SUM(Number_of_households)</th>\n",
              "        </tr>\n",
              "    </thead>\n",
              "    <tbody>\n",
              "        <tr>\n",
              "            <td>1253716</td>\n",
              "        </tr>\n",
              "    </tbody>\n",
              "</table>"
            ],
            "text/plain": [
              "[(1253716,)]"
            ]
          },
          "metadata": {
            "tags": []
          },
          "execution_count": 13
        }
      ]
    }
  ]
}