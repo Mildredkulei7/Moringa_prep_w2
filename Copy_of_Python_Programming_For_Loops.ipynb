{
  "nbformat": 4,
  "nbformat_minor": 0,
  "metadata": {
    "colab": {
      "name": "Copy of Python Programming: For Loops ",
      "provenance": [],
      "collapsed_sections": [],
      "toc_visible": true,
      "include_colab_link": true
    },
    "kernelspec": {
      "name": "python3",
      "display_name": "Python 3"
    }
  },
  "cells": [
    {
      "cell_type": "markdown",
      "metadata": {
        "id": "view-in-github",
        "colab_type": "text"
      },
      "source": [
        "<a href=\"https://colab.research.google.com/github/Mildredkulei7/Moringa_prep_w2/blob/main/Copy_of_Python_Programming_For_Loops.ipynb\" target=\"_parent\"><img src=\"https://colab.research.google.com/assets/colab-badge.svg\" alt=\"Open In Colab\"/></a>"
      ]
    },
    {
      "cell_type": "markdown",
      "metadata": {
        "id": "jruAPRDjs09-"
      },
      "source": [
        "<font color=\"green\">*To start working on this notebook, or any other notebook that we will use in this course, we will need to save our own copy of it. We can do this by clicking File > Save a Copy in Drive. We will then be able to make edits to our own copy of this notebook.*</font>"
      ]
    },
    {
      "cell_type": "markdown",
      "metadata": {
        "id": "0hkJ3D_I8PHe"
      },
      "source": [
        "# Python Programming: For Loops "
      ]
    },
    {
      "cell_type": "markdown",
      "metadata": {
        "id": "i2g_QFDd8RuT"
      },
      "source": [
        "## 1.0 Overview"
      ]
    },
    {
      "cell_type": "code",
      "metadata": {
        "id": "PV7t7NG4IWgl",
        "colab": {
          "base_uri": "https://localhost:8080/",
          "height": 128
        },
        "outputId": "67b623ff-606d-4a80-ca88-dde5cb0e9641"
      },
      "source": [
        "# Example 1\n",
        "# For loops are used to iterate over a sequence (i.e. list, dictionary, string etc.) \n",
        "# then perform some action.\n",
        "# In this example, we will start to learn about for loops by iterating through a python list\n",
        "# We will define this list as kenyan_football_players\n",
        "#\n",
        "\n",
        "# Defining our python list\n",
        "\n",
        "kenyan_football_players = [\"Victor Wanyama\", \"Michael Olunga\", \"McDonald Mariga\"]\n",
        "\n",
        "# printing the list out\n",
        "print(kenyan_football_players)\n",
        "\n",
        "# then using a for loop to iterate through the list\n",
        "for x in kenyan_football_players:\n",
        "print(x)\n",
        "\n",
        "# Let's look at what the above line of code does...\n",
        "# The for loop goes inside the kenyan_football_players list, picks up the first element (which is Victor Wanyama), it then stores it in a temporary variable x. Once stored, it then prints out the value inside the variable x.\n",
        "# After printing the value of x, it goes in the list again and picks the second element(this time it's Michael Olunga), it stores this element inside the variable x again but this  time it replaces the value of x that was stored the first time. After storing the new value of x, it goes ahead and print the new value of x.\n",
        "# It repeats this process until all the elements in the list are printed out.\n",
        "# The process of going through each element in a list is called iteration.\n",
        "# Note: The x in the for loop, is only a temporary variable and you can name it anything you like (you are not limited to only using x).\n",
        "# Please take note of the print statement in the above lines of code. You'll notice that its indented. This tells python that that line of code is inside the for loop hence its the body of the loop. What this means is that it should be executed every time the loop iterates through the list. \n",
        "# If we were to remove the indentation, then it would mean that the print statement is outside the for loop hence the loop would do nothing once it iterates through the list. Once we run the code it would display an error.\n"
      ],
      "execution_count": null,
      "outputs": [
        {
          "output_type": "error",
          "ename": "IndentationError",
          "evalue": "ignored",
          "traceback": [
            "\u001b[0;36m  File \u001b[0;32m\"<ipython-input-11-7dcfdbe24b5a>\"\u001b[0;36m, line \u001b[0;32m17\u001b[0m\n\u001b[0;31m    print(x)\u001b[0m\n\u001b[0m        ^\u001b[0m\n\u001b[0;31mIndentationError\u001b[0m\u001b[0;31m:\u001b[0m expected an indented block\n"
          ]
        }
      ]
    },
    {
      "cell_type": "code",
      "metadata": {
        "id": "EE4JTNUQbPGg",
        "colab": {
          "base_uri": "https://localhost:8080/"
        },
        "outputId": "d7a87a47-bd9c-4141-eff1-6130d471e527"
      },
      "source": [
        "# Example 2\n",
        "# We can also create and iterate over a list called fruits\n",
        "# from our learnings above\n",
        "\n",
        "# Creating our python list\n",
        "fruits = [\"bananas\", \"grapes\", \"mangoes\"]\n",
        "\n",
        "# printing the list out\n",
        "print(fruits)\n",
        "\n",
        "# Use a for loop to iterate through the fruits list and print out each element in the list.\n",
        "for x in fruits:\n",
        "\n",
        "  print(x)"
      ],
      "execution_count": null,
      "outputs": [
        {
          "output_type": "stream",
          "text": [
            "['bananas', 'grapes', 'mangoes']\n",
            "bananas\n",
            "grapes\n",
            "mangoes\n"
          ],
          "name": "stdout"
        }
      ]
    },
    {
      "cell_type": "code",
      "metadata": {
        "id": "wZxd3taRIXFU",
        "colab": {
          "base_uri": "https://localhost:8080/"
        },
        "outputId": "cf918c84-9ab2-4127-8e86-c64533631126"
      },
      "source": [
        "# Example 3\n",
        "# Let's now create a dictionary and iterate over it\n",
        "# Looping through a dictionary is slightly different from looping through a list. This is because a dictionary is comprised of key-value pairs.\n",
        "# There are several ways of looping through a dictionary. We will only look at a couple of them here\n",
        "\n",
        "# Creating our dictionary\n",
        "our_class = {\n",
        "    'Name': '7 East', \n",
        "    'Students': 27, \n",
        "    'Wing': 'East'\n",
        "}\n",
        "\n",
        "\n",
        "\n",
        "# Looping through keys only\n",
        "for x in our_class:\n",
        "  print(x)\n",
        "\n",
        "# This way of looping through a dictionary will only output the dictionary keys only. But what if we wanted to display the key value pair?\n",
        "print(\"****************************************************\") # separating the two ways of looping\n",
        "# To be able to achieve this, we are going to make us of a python's dictionary in-built function .items(). This function will allow us to access the key-value pair at the same time.\n",
        "\n",
        "for x,y in our_class.items():\n",
        "  print(x,\":\", y)\n",
        "\n",
        "# In the above lines of code, we are creating two temporary variables,x and y, where x is used to store the key element and y stores the value element. Then printing out the key-value pair of each dictionary elements.\n",
        "# You can read more on how to loop through dictionaries here: https://realpython.com/iterate-through-dictionary-python/\n"
      ],
      "execution_count": null,
      "outputs": [
        {
          "output_type": "stream",
          "text": [
            "Name\n",
            "Students\n",
            "Wing\n",
            "****************************************************\n",
            "Name : 7 East\n",
            "Students : 27\n",
            "Wing : East\n"
          ],
          "name": "stdout"
        }
      ]
    },
    {
      "cell_type": "markdown",
      "metadata": {
        "id": "IRmR3mRBebVj"
      },
      "source": [
        "### <font color=\"green\">1.0 Challenges </font>"
      ]
    },
    {
      "cell_type": "code",
      "metadata": {
        "id": "eHTjJGKZegoA",
        "colab": {
          "base_uri": "https://localhost:8080/"
        },
        "outputId": "dd7a04d1-c717-4398-e4b6-51327d4a5222"
      },
      "source": [
        "# Challenge 1\n",
        "# Given the dictionary below, use a for loop to iterate over it\n",
        "#\n",
        "\n",
        "# Creating our dictionary\n",
        "stocks = {\n",
        "    'Safaricom PLC': 146.48,\n",
        "    'KCB':44.11,\n",
        "    'National Bank':25.54\n",
        "}\n",
        "\n",
        "for x,y in stocks.items():\n",
        "  print(x,\":\", y)"
      ],
      "execution_count": null,
      "outputs": [
        {
          "output_type": "stream",
          "text": [
            "Safaricom PLC : 146.48\n",
            "KCB : 44.11\n",
            "National Bank : 25.54\n"
          ],
          "name": "stdout"
        }
      ]
    },
    {
      "cell_type": "code",
      "metadata": {
        "id": "X55AFs1Yehd3",
        "colab": {
          "base_uri": "https://localhost:8080/"
        },
        "outputId": "55b13d7b-1c4f-402e-fa9f-a50b1a201e18"
      },
      "source": [
        "# Challenge 2\n",
        "# Iterate over a list of dictionaries using a for loop\n",
        "#\n",
        "\n",
        "# Creating our list\n",
        "values = [{\"name\": \"Kevin\", \"food\": \"Chappati\"}, {\"name\": \"Ruth\", \"food\": \"Pilau\"}]\n",
        "\n",
        "for x in values:\n",
        "  print(x)\n"
      ],
      "execution_count": null,
      "outputs": [
        {
          "output_type": "stream",
          "text": [
            "{'name': 'Kevin', 'food': 'Chappati'}\n",
            "{'name': 'Ruth', 'food': 'Pilau'}\n"
          ],
          "name": "stdout"
        }
      ]
    },
    {
      "cell_type": "code",
      "metadata": {
        "id": "2Hd9i56gehQ7",
        "colab": {
          "base_uri": "https://localhost:8080/",
          "height": 128
        },
        "outputId": "5f94bb39-f125-4e77-b8eb-df2c01c08ccc"
      },
      "source": [
        "# Challenge 3 \n",
        "# Write a program that stores the values in a dictionary and \n",
        "# finds the average of values entered by a user. \n",
        "# The user will enter 0 to indicate that no further values will be provided. \n",
        "# \n",
        "# Function to print sum\n",
        "\n",
        "Ages[]\n",
        "\n",
        "for i in range(10):\n",
        " Age = input(\"Enter age: \")\n",
        "\n",
        "Ages ={Age} \n",
        "print(Age)"
      ],
      "execution_count": null,
      "outputs": [
        {
          "output_type": "error",
          "ename": "SyntaxError",
          "evalue": "ignored",
          "traceback": [
            "\u001b[0;36m  File \u001b[0;32m\"<ipython-input-51-0c933ee776da>\"\u001b[0;36m, line \u001b[0;32m8\u001b[0m\n\u001b[0;31m    Ages[]\u001b[0m\n\u001b[0m         ^\u001b[0m\n\u001b[0;31mSyntaxError\u001b[0m\u001b[0;31m:\u001b[0m invalid syntax\n"
          ]
        }
      ]
    },
    {
      "cell_type": "markdown",
      "metadata": {
        "id": "o2l2ojIRIXs9"
      },
      "source": [
        "## 1.1 Looping Through a String"
      ]
    },
    {
      "cell_type": "code",
      "metadata": {
        "id": "G9Y85nvWMIpK",
        "colab": {
          "base_uri": "https://localhost:8080/"
        },
        "outputId": "2eae120a-4a9e-4ee5-958c-1dc2a926a0a3"
      },
      "source": [
        "# Example 1\n",
        "# For loops can also used for iterating over a string as shown; \n",
        "# Iterating through the string \"moringa\"\n",
        "# The logic behind it is pretty much the same as that of looping through lists.\n",
        "\n",
        "for y in \"moringa\":\n",
        "  print(y)"
      ],
      "execution_count": null,
      "outputs": [
        {
          "output_type": "stream",
          "text": [
            "m\n",
            "o\n",
            "r\n",
            "i\n",
            "n\n",
            "g\n",
            "a\n"
          ],
          "name": "stdout"
        }
      ]
    },
    {
      "cell_type": "code",
      "metadata": {
        "id": "2l8qKnW1MJUH",
        "colab": {
          "base_uri": "https://localhost:8080/"
        },
        "outputId": "3db186e0-8c6a-49cc-9a3c-5501d6001a81"
      },
      "source": [
        "# Example 2\n",
        "# Lets iterate through your name below.\n",
        "# Replace OUR CODE GOES HERE with you name;\n",
        "#\n",
        "\n",
        "for y in \"Mildred\":\n",
        "  print(y)"
      ],
      "execution_count": null,
      "outputs": [
        {
          "output_type": "stream",
          "text": [
            "M\n",
            "i\n",
            "l\n",
            "d\n",
            "r\n",
            "e\n",
            "d\n"
          ],
          "name": "stdout"
        }
      ]
    },
    {
      "cell_type": "code",
      "metadata": {
        "id": "m29pJWEgqTqz",
        "colab": {
          "base_uri": "https://localhost:8080/"
        },
        "outputId": "d77825fc-44e1-41b0-a19c-86983ddb67e0"
      },
      "source": [
        "# Example 3\n",
        "# Iterate through the following string\n",
        "# \n",
        "\n",
        "greetings = \"Hello everyone!\"\n",
        "\n",
        "for g in greetings:\n",
        "    print(g)"
      ],
      "execution_count": null,
      "outputs": [
        {
          "output_type": "stream",
          "text": [
            "H\n",
            "e\n",
            "l\n",
            "l\n",
            "o\n",
            " \n",
            "e\n",
            "v\n",
            "e\n",
            "r\n",
            "y\n",
            "o\n",
            "n\n",
            "e\n",
            "!\n"
          ],
          "name": "stdout"
        }
      ]
    },
    {
      "cell_type": "markdown",
      "metadata": {
        "id": "aoHtqtjuabCr"
      },
      "source": [
        "### <font color=\"green\">1.1 Challenges</font>"
      ]
    },
    {
      "cell_type": "code",
      "metadata": {
        "id": "Dd1_N4MRad_Q",
        "colab": {
          "base_uri": "https://localhost:8080/"
        },
        "outputId": "bacd59cd-862b-460a-a543-677d625a0ef5"
      },
      "source": [
        "# Challenge 1\n",
        "# Iterate through the string \"Nairobi\"\n",
        "#\n",
        "for x in \"Nairobi\":\n",
        " print(x)"
      ],
      "execution_count": null,
      "outputs": [
        {
          "output_type": "stream",
          "text": [
            "N\n",
            "a\n",
            "i\n",
            "r\n",
            "o\n",
            "b\n",
            "i\n"
          ],
          "name": "stdout"
        }
      ]
    },
    {
      "cell_type": "code",
      "metadata": {
        "id": "DqQMoboYaelF",
        "colab": {
          "base_uri": "https://localhost:8080/"
        },
        "outputId": "5fe20153-3635-4cdd-f804-0a4136270610"
      },
      "source": [
        "# Challenge 2\n",
        "# Print out the characters that make up the value of fruit as shown\n",
        "#\n",
        "\n",
        "fruit = 'banana'\n",
        "\n",
        "for f in fruit:\n",
        "  print(f)"
      ],
      "execution_count": null,
      "outputs": [
        {
          "output_type": "stream",
          "text": [
            "b\n",
            "a\n",
            "n\n",
            "a\n",
            "n\n",
            "a\n"
          ],
          "name": "stdout"
        }
      ]
    },
    {
      "cell_type": "code",
      "metadata": {
        "id": "USWaUrYuaePF",
        "colab": {
          "base_uri": "https://localhost:8080/"
        },
        "outputId": "2662892a-8b45-4435-fb62-672016809cd3"
      },
      "source": [
        "# Challenge 3\n",
        "# A user is prompted to provide a string (i.e. single or multiple strings) by the program.\n",
        "# Create a program that tell us the number of times the letter \"b\" appears in the user input.\n",
        "#Upon determination the program should display the number of times the letter appears in the user input.\n",
        "# For example, if the user inputs the string bubbles. The program should output a message like; \n",
        "#The letter b has occured 3 times in your string. \n",
        "# \n",
        "# Hint: you will be required to use for loops and your knowledge of conditional statements to achieve\n",
        "#the desired output.\n",
        "#\n",
        "str1=input(\"Enter the string \")\n",
        "count = 0\n",
        "for val in str1:\n",
        "  if val == \"s\":\n",
        "   count += 1\n",
        "\n",
        "# print count\n",
        "print(\"The count is:\", count)\n",
        "\n"
      ],
      "execution_count": null,
      "outputs": [
        {
          "output_type": "stream",
          "text": [
            "Enter the string bass\n",
            "The count is: 2\n"
          ],
          "name": "stdout"
        }
      ]
    },
    {
      "cell_type": "markdown",
      "metadata": {
        "id": "bJSuEO5NKzC6"
      },
      "source": [
        "## 1.2 The Break Statement"
      ]
    },
    {
      "cell_type": "code",
      "metadata": {
        "id": "IZR7OhHqhsZg",
        "colab": {
          "base_uri": "https://localhost:8080/"
        },
        "outputId": "f920142b-70a8-413f-8cca-3d9b252c09d0"
      },
      "source": [
        "# Example 1\n",
        "# We can use the break statement to stop the loop before it continues iterating though all items;\n",
        "# Using the fruits list we can stop the loop \n",
        "# before it continues iterating through all items by\n",
        "#\n",
        "\n",
        "fruits = [\"bananas\", \"grapes\", \"mangoes\"]\n",
        "\n",
        "for x in fruits:\n",
        "  print(x) \n",
        "  if x == \"grapes\":\n",
        "    break"
      ],
      "execution_count": null,
      "outputs": [
        {
          "output_type": "stream",
          "text": [
            "bananas\n",
            "grapes\n"
          ],
          "name": "stdout"
        }
      ]
    },
    {
      "cell_type": "code",
      "metadata": {
        "id": "u-iOIUarhsK-",
        "colab": {
          "base_uri": "https://localhost:8080/"
        },
        "outputId": "28a72498-9ef7-405a-ebcc-5cb517b3559e"
      },
      "source": [
        "# Example 2\n",
        "# We can also use the break statement during the iteration of a string a shown\n",
        "# \n",
        "\n",
        "for val in \"Moringa School\":\n",
        "    if val == \"i\":\n",
        "        break\n",
        "    print(val)\n",
        "print(\"The end\")"
      ],
      "execution_count": null,
      "outputs": [
        {
          "output_type": "stream",
          "text": [
            "M\n",
            "o\n",
            "r\n",
            "The end\n"
          ],
          "name": "stdout"
        }
      ]
    },
    {
      "cell_type": "code",
      "metadata": {
        "id": "HS0WkfrChrsH",
        "colab": {
          "base_uri": "https://localhost:8080/"
        },
        "outputId": "6c93fbc1-822d-4b47-ed3e-a1b133401c90"
      },
      "source": [
        "# Example 3\n",
        "# Iterating through a string and breaking whenever the no. 98 is found\n",
        "# \n",
        "for num in [21, 29, 98, 20, 100, 13, 29]: \n",
        "   print(num)\n",
        "   if(num == 98):\n",
        "\t   print(\"The number 98 is found\") \n",
        "\t   break"
      ],
      "execution_count": null,
      "outputs": [
        {
          "output_type": "stream",
          "text": [
            "21\n",
            "29\n",
            "98\n",
            "The number 98 is found\n"
          ],
          "name": "stdout"
        }
      ]
    },
    {
      "cell_type": "markdown",
      "metadata": {
        "id": "riie22W5fAPp"
      },
      "source": [
        "### <font color=\"green\">1.2 Challenges</font>"
      ]
    },
    {
      "cell_type": "code",
      "metadata": {
        "id": "6RX6Fo4OfJrr",
        "colab": {
          "base_uri": "https://localhost:8080/"
        },
        "outputId": "46348fe6-5c10-4441-b7bb-a23c68c2c303"
      },
      "source": [
        "# Challenge 1 \n",
        "# Using the kenyan_football_players dictionary let's stop the loop \n",
        "# before it continues iterating through all items\n",
        "# \n",
        "\n",
        "for x in kenyan_football_players:\n",
        "  print(x)\n",
        "\n",
        "  if x== \"Michael Olunga\":\n",
        "    break"
      ],
      "execution_count": null,
      "outputs": [
        {
          "output_type": "stream",
          "text": [
            "Victor Wanyama\n",
            "Michael Olunga\n"
          ],
          "name": "stdout"
        }
      ]
    },
    {
      "cell_type": "code",
      "metadata": {
        "id": "1n5WSzLVfJUS",
        "colab": {
          "base_uri": "https://localhost:8080/"
        },
        "outputId": "130fb24a-84e9-409a-fdb8-48edb1126a05"
      },
      "source": [
        "# Challenge 2\n",
        "# When you run the following code it should output\n",
        "# \"Sum of first 5 integers is: 15\"\n",
        "# Correct the following for loop and a add a break statement to ensure that the program gives out the \n",
        "#correct output\n",
        "#\n",
        "\n",
        "numbers = [1, 2, 3, 4, 5, 6, 7, 8, 9] # Declaring the tuple\n",
        "num_sum = 0\n",
        "count = 0\n",
        "for y in numbers:\n",
        "    num_sum = num_sum + y\n",
        "    count = count + 1 \n",
        "    if count == 5:\n",
        "      \n",
        "     print(\"Sum of first \",count,\"integers is: \", num_sum)\n",
        "     break"
      ],
      "execution_count": null,
      "outputs": [
        {
          "output_type": "stream",
          "text": [
            "Sum of first  5 integers is:  15\n"
          ],
          "name": "stdout"
        }
      ]
    },
    {
      "cell_type": "code",
      "metadata": {
        "id": "j9Pkrkmz-rXk",
        "colab": {
          "base_uri": "https://localhost:8080/",
          "height": 246
        },
        "outputId": "64afffb7-67a0-44d6-c4d5-228f56d0b82a"
      },
      "source": [
        "# Example 3\n",
        "# Sarova Nairobi determines the price of admission based on the age of the guest. \n",
        "# Guests that are 2 years of age or less are admitted without charge. \n",
        "# Children between 3 and 12 years of age are charged Ksh. 15,000 a night. \n",
        "# Seniors aged 65 years and over are charged Ksh. 18,000 a night.\n",
        "# Admission for all other guests is Ksh. 25,000 a night.\n",
        "# Create a program that begins by reading the ages of all of the guests \n",
        "# in a group from the user, with ones age entered on each line. \n",
        "# The user will enter a blank line to indicate that there are no more guests in the group. \n",
        "# Then your program should display the admission cost for the group with an appropriate message. \n",
        "# The cost should be displayed using two decimal places. \n",
        "# NB: You should use a for loop and a break statement in your program.\n",
        "# \n",
        "less_2 = float (0),\n",
        "btwn3_12 = float (15000) ,\n",
        "above_65 = float (18000),\n",
        "others = float (25000)\n",
        "\n",
        "Ages = list(map(int, (input(\"what are the ages of the guests?: \"))))\n",
        "\n",
        "print(\"list of the ages of your guests is: \",ages)\n",
        "for a,b in Adm_price.items():\n",
        "   print(a,\":\", b)\n"
      ],
      "execution_count": null,
      "outputs": [
        {
          "output_type": "stream",
          "text": [
            "what are the ages of the guests?: 1 6 70 100\n"
          ],
          "name": "stdout"
        },
        {
          "output_type": "error",
          "ename": "ValueError",
          "evalue": "ignored",
          "traceback": [
            "\u001b[0;31m---------------------------------------------------------------------------\u001b[0m",
            "\u001b[0;31mValueError\u001b[0m                                Traceback (most recent call last)",
            "\u001b[0;32m<ipython-input-6-053400e24a97>\u001b[0m in \u001b[0;36m<module>\u001b[0;34m()\u001b[0m\n\u001b[1;32m     17\u001b[0m \u001b[0mothers\u001b[0m \u001b[0;34m=\u001b[0m \u001b[0mfloat\u001b[0m \u001b[0;34m(\u001b[0m\u001b[0;36m25000\u001b[0m\u001b[0;34m)\u001b[0m\u001b[0;34m\u001b[0m\u001b[0;34m\u001b[0m\u001b[0m\n\u001b[1;32m     18\u001b[0m \u001b[0;34m\u001b[0m\u001b[0m\n\u001b[0;32m---> 19\u001b[0;31m \u001b[0mAges\u001b[0m \u001b[0;34m=\u001b[0m \u001b[0mlist\u001b[0m\u001b[0;34m(\u001b[0m\u001b[0mmap\u001b[0m\u001b[0;34m(\u001b[0m\u001b[0mint\u001b[0m\u001b[0;34m,\u001b[0m \u001b[0;34m(\u001b[0m\u001b[0minput\u001b[0m\u001b[0;34m(\u001b[0m\u001b[0;34m\"what are the ages of the guests?: \"\u001b[0m\u001b[0;34m)\u001b[0m\u001b[0;34m)\u001b[0m\u001b[0;34m)\u001b[0m\u001b[0;34m)\u001b[0m\u001b[0;34m\u001b[0m\u001b[0;34m\u001b[0m\u001b[0m\n\u001b[0m\u001b[1;32m     20\u001b[0m \u001b[0;34m\u001b[0m\u001b[0m\n\u001b[1;32m     21\u001b[0m \u001b[0mprint\u001b[0m\u001b[0;34m(\u001b[0m\u001b[0;34m\"list of the ages of your guests is: \"\u001b[0m\u001b[0;34m,\u001b[0m\u001b[0mages\u001b[0m\u001b[0;34m)\u001b[0m\u001b[0;34m\u001b[0m\u001b[0;34m\u001b[0m\u001b[0m\n",
            "\u001b[0;31mValueError\u001b[0m: invalid literal for int() with base 10: ' '"
          ]
        }
      ]
    },
    {
      "cell_type": "markdown",
      "metadata": {
        "id": "c13xlVleK8Dd"
      },
      "source": [
        "## 1.3 The Continue Statement\n"
      ]
    },
    {
      "cell_type": "code",
      "metadata": {
        "id": "yyauW4_yurxI",
        "colab": {
          "base_uri": "https://localhost:8080/"
        },
        "outputId": "a938a7ea-a566-470b-b31b-497f436995f1"
      },
      "source": [
        "# Example 1\n",
        "# Using the continue statement we can stop the current iteration of the loop, \n",
        "# and continue with the next section of our code as shown\n",
        "#\n",
        "\n",
        "fruits = [\"dates\", \"coconut\", \"passion\"]\n",
        "\n",
        "for x in fruits:\n",
        "  if x == \"coconut\":\n",
        "    continue \n",
        "  print(x)"
      ],
      "execution_count": null,
      "outputs": [
        {
          "output_type": "stream",
          "text": [
            "dates\n",
            "passion\n"
          ],
          "name": "stdout"
        }
      ]
    },
    {
      "cell_type": "code",
      "metadata": {
        "id": "iSkeKb-Xuv_J",
        "colab": {
          "base_uri": "https://localhost:8080/"
        },
        "outputId": "9666a41c-af20-41cd-e406-93bf3f1b1a87"
      },
      "source": [
        "# Example 2\n",
        "# Iterating over a string\n",
        "#\n",
        "\n",
        "for val in \"Moringa School\":\n",
        "    if val == \"i\":\n",
        "        continue\n",
        "    print(val)\n",
        "print(\"The end\")"
      ],
      "execution_count": null,
      "outputs": [
        {
          "output_type": "stream",
          "text": [
            "M\n",
            "o\n",
            "r\n",
            "n\n",
            "g\n",
            "a\n",
            " \n",
            "S\n",
            "c\n",
            "h\n",
            "o\n",
            "o\n",
            "l\n",
            "The end\n"
          ],
          "name": "stdout"
        }
      ]
    },
    {
      "cell_type": "code",
      "metadata": {
        "id": "GBPps-BAuvz3",
        "colab": {
          "base_uri": "https://localhost:8080/"
        },
        "outputId": "15c0f835-0791-4df1-93ee-966c0b06f658"
      },
      "source": [
        "# Example 3\n",
        "# \n",
        "mobile_phone = [\"samsung\", \"doogee\", \"iphone\", \"wiko\", \"LG\", \"Panasonic\", \"Sony\"]\n",
        "\n",
        "for x in mobile_phone:  \n",
        "    if x == 'samsung' or x == 'iphone': \n",
        "         continue\n",
        "    print ('Checked Phone :', x) "
      ],
      "execution_count": null,
      "outputs": [
        {
          "output_type": "stream",
          "text": [
            "Checked Phone : doogee\n",
            "Checked Phone : wiko\n",
            "Checked Phone : LG\n",
            "Checked Phone : Panasonic\n",
            "Checked Phone : Sony\n"
          ],
          "name": "stdout"
        }
      ]
    },
    {
      "cell_type": "markdown",
      "metadata": {
        "id": "-WNVdamRfNnp"
      },
      "source": [
        "### <font color=\"green\">1.3 Challanges</font>"
      ]
    },
    {
      "cell_type": "code",
      "metadata": {
        "id": "wkJ2IECzfTXs",
        "colab": {
          "base_uri": "https://localhost:8080/"
        },
        "outputId": "5d9a35e6-4838-4039-ef2f-bff1e175e938"
      },
      "source": [
        "# Challenge 1\n",
        "# Make changes to the code below to omit the month of July and August\n",
        "# while displaying the no. of months\n",
        "#\n",
        "\n",
        "months = [\"January \",\"February\",\"March\", \"April\", \"May\", \"June\", \"July\", \"August\", \"September\", \"October\", \"November\", \"December\"]\n",
        "\n",
        "for m in months:\n",
        "  \n",
        "  if m == \"July\":\n",
        "    continue\n",
        "  print(m)\n",
        "\n",
        "\n",
        "  \n",
        "  "
      ],
      "execution_count": null,
      "outputs": [
        {
          "output_type": "stream",
          "text": [
            "January \n",
            "February\n",
            "March\n",
            "April\n",
            "May\n",
            "June\n",
            "August\n",
            "September\n",
            "October\n",
            "November\n",
            "December\n"
          ],
          "name": "stdout"
        }
      ]
    },
    {
      "cell_type": "code",
      "metadata": {
        "id": "KtMFjXBY-dfK",
        "colab": {
          "base_uri": "https://localhost:8080/"
        },
        "outputId": "afe1e1cc-3b32-41fd-96aa-cfd2787a91aa"
      },
      "source": [
        "# Challenge 2\n",
        "# Let's print out a word if it doesn't have the letter \"e\"\n",
        "# Use the continue statement in your program\n",
        "#\n",
        "\n",
        "names = ['Jane', 'June', 'Thomas']\n",
        "\n",
        "for n in names:\n",
        "  if n != \"e\":\n",
        "    continue \n",
        " #   print(n)\n",
        "print(n)\n"
      ],
      "execution_count": null,
      "outputs": [
        {
          "output_type": "stream",
          "text": [
            "Thomas\n"
          ],
          "name": "stdout"
        }
      ]
    },
    {
      "cell_type": "code",
      "metadata": {
        "id": "q0l2yI2RfT4v",
        "colab": {
          "base_uri": "https://localhost:8080/"
        },
        "outputId": "cb104284-a2b0-4cce-928f-24cf0427da73"
      },
      "source": [
        "# Challenge 3\n",
        "# Given the numbers list below, print out the even numbers using the continue statement\n",
        "# Hint: use modulo %\n",
        "# \n",
        "\n",
        "numbers = [1, 2, 3, 4, 5, 6, 7, 8, 9, 10]\n",
        "\n",
        "for y in numbers:\n",
        "  if y % 2 == 0:\n",
        "    print(y)\n",
        "    continue\n"
      ],
      "execution_count": null,
      "outputs": [
        {
          "output_type": "stream",
          "text": [
            "2\n",
            "4\n",
            "6\n",
            "8\n",
            "10\n"
          ],
          "name": "stdout"
        }
      ]
    },
    {
      "cell_type": "markdown",
      "metadata": {
        "id": "m-WluVZoLBie"
      },
      "source": [
        "## 1.4 The Range() Function"
      ]
    },
    {
      "cell_type": "code",
      "metadata": {
        "id": "-ku-JJLqvMql",
        "colab": {
          "base_uri": "https://localhost:8080/"
        },
        "outputId": "8a401fbf-96f7-437f-a7c4-ca2e2c179678"
      },
      "source": [
        "# Example 1\n",
        "# We iterate through a set of code a specified number of times using the range() function.\n",
        "# Let's create a sequence of numbers from 0 to 5, and print each item in the sequence:\n",
        "# \n",
        "\n",
        "for x in range(6):\n",
        "  print(x)"
      ],
      "execution_count": null,
      "outputs": [
        {
          "output_type": "stream",
          "text": [
            "0\n",
            "1\n",
            "2\n",
            "3\n",
            "4\n",
            "5\n"
          ],
          "name": "stdout"
        }
      ]
    },
    {
      "cell_type": "code",
      "metadata": {
        "id": "OZU30VcZvNEz",
        "colab": {
          "base_uri": "https://localhost:8080/"
        },
        "outputId": "a8b08015-2b4d-4f74-af74-5ffc1256f7d3"
      },
      "source": [
        "# Example 2\n",
        "# What happens when we have two parameters?\n",
        "# \n",
        "\n",
        "for i in range(3, 9):\n",
        "  print(i)"
      ],
      "execution_count": null,
      "outputs": [
        {
          "output_type": "stream",
          "text": [
            "3\n",
            "4\n",
            "5\n",
            "6\n",
            "7\n",
            "8\n"
          ],
          "name": "stdout"
        }
      ]
    },
    {
      "cell_type": "code",
      "metadata": {
        "id": "zDeGNzOYfnRY",
        "colab": {
          "base_uri": "https://localhost:8080/"
        },
        "outputId": "abb169df-096e-465d-d9fc-1f4afd76f6a8"
      },
      "source": [
        "# Example 3\n",
        "# What happens when we have three parameters as shown?\n",
        "# \n",
        "\n",
        "for i in range(1, 20, 3):\n",
        "  print(i)"
      ],
      "execution_count": null,
      "outputs": [
        {
          "output_type": "stream",
          "text": [
            "1\n",
            "4\n",
            "7\n",
            "10\n",
            "13\n",
            "16\n",
            "19\n"
          ],
          "name": "stdout"
        }
      ]
    },
    {
      "cell_type": "markdown",
      "metadata": {
        "id": "NRUCsmwqfo0J"
      },
      "source": [
        "### <font color=\"green\">1.4 Challenges</font>"
      ]
    },
    {
      "cell_type": "code",
      "metadata": {
        "id": "TZKFNrFCfwGS",
        "colab": {
          "base_uri": "https://localhost:8080/"
        },
        "outputId": "780a2dc2-d7f6-45e6-f82e-fff8aae3aecf"
      },
      "source": [
        "# Challenge 1\n",
        "# Create a sequence of numbers from 3 to 61, but increment by 5:\n",
        "#\n",
        "for i in range(3, 61, 5):\n",
        "  print(i)"
      ],
      "execution_count": null,
      "outputs": [
        {
          "output_type": "stream",
          "text": [
            "3\n",
            "8\n",
            "13\n",
            "18\n",
            "23\n",
            "28\n",
            "33\n",
            "38\n",
            "43\n",
            "48\n",
            "53\n",
            "58\n"
          ],
          "name": "stdout"
        }
      ]
    },
    {
      "cell_type": "code",
      "metadata": {
        "id": "F8rbA9pHfxJ-",
        "colab": {
          "base_uri": "https://localhost:8080/"
        },
        "outputId": "383cf4f6-6ca9-464f-8b5f-875007f1cc42"
      },
      "source": [
        "# Challenge 2\n",
        "# Create a program that prints out the even numbers within\n",
        "# the range of 1 - 20\n",
        "# \n",
        "for i in range(2, 20, 2):\n",
        "  print(i)"
      ],
      "execution_count": null,
      "outputs": [
        {
          "output_type": "stream",
          "text": [
            "2\n",
            "4\n",
            "6\n",
            "8\n",
            "10\n",
            "12\n",
            "14\n",
            "16\n",
            "18\n"
          ],
          "name": "stdout"
        }
      ]
    },
    {
      "cell_type": "code",
      "metadata": {
        "id": "NtPwdcNHfw7a",
        "colab": {
          "base_uri": "https://localhost:8080/"
        },
        "outputId": "a62c12f4-fb37-4126-9ea3-3d8fe749f100"
      },
      "source": [
        "# Challenge 3\n",
        "# Create a sequence of numbers from 5 to -30, decrementing by 5\n",
        "# the range of 1 - 20\n",
        "#\n",
        "for i in range(1, -20, -3):\n",
        "  print(i)"
      ],
      "execution_count": null,
      "outputs": [
        {
          "output_type": "stream",
          "text": [
            "1\n",
            "-2\n",
            "-5\n",
            "-8\n",
            "-11\n",
            "-14\n",
            "-17\n"
          ],
          "name": "stdout"
        }
      ]
    },
    {
      "cell_type": "markdown",
      "metadata": {
        "id": "pt06jAbBLK7j"
      },
      "source": [
        "## 1.5 Else"
      ]
    },
    {
      "cell_type": "code",
      "metadata": {
        "id": "VXM0D76BvgnX",
        "colab": {
          "base_uri": "https://localhost:8080/"
        },
        "outputId": "4078dbca-cda3-42dd-e3e6-fdaac6a47953"
      },
      "source": [
        "# Example 1\n",
        "# When the loop condition of \"for\" or \"while\" statement fails \n",
        "# then code part in \"else\" is executed as shown below\n",
        "#\n",
        "\n",
        "for x in range(6):\n",
        "  print(x)\n",
        "else:\n",
        "  print(\"Finished!\")"
      ],
      "execution_count": null,
      "outputs": [
        {
          "output_type": "stream",
          "text": [
            "0\n",
            "1\n",
            "2\n",
            "3\n",
            "4\n",
            "5\n",
            "Finished!\n"
          ],
          "name": "stdout"
        }
      ]
    },
    {
      "cell_type": "code",
      "metadata": {
        "id": "r04iCfO3hOWp",
        "colab": {
          "base_uri": "https://localhost:8080/"
        },
        "outputId": "5fe9144f-ffb9-4275-92ce-a3c482163c4f"
      },
      "source": [
        "n# Example 2\n",
        "# In this example the code in the else block runs only \n",
        "# if the loop completes without encountering a break statement.\n",
        "#\n",
        "\n",
        "for i in range(3):\n",
        "    password = input('Enter your password: ')\n",
        "    if password == 'secret':\n",
        "        print('You have guessed the password!')\n",
        "        break\n",
        "else:\n",
        "    print('You have made 3 incorrect password attempts')"
      ],
      "execution_count": null,
      "outputs": [
        {
          "output_type": "stream",
          "text": [
            "Enter your password: 678\n",
            "Enter your password: oiu\n",
            "Enter your password: gyu\n",
            "You have made 3 incorrect password attempts\n"
          ],
          "name": "stdout"
        }
      ]
    },
    {
      "cell_type": "markdown",
      "metadata": {
        "id": "1ChnVcJNhUmi"
      },
      "source": [
        "### <font color=\"green\">1.5 Challanges</font>"
      ]
    },
    {
      "cell_type": "code",
      "metadata": {
        "id": "0ud2urSmhbxq",
        "colab": {
          "base_uri": "https://localhost:8080/"
        },
        "outputId": "ee46c092-1819-44f3-af5d-8d278dc336b2"
      },
      "source": [
        "# Challenge 1\n",
        "# Let us iterate through and print out all even numbers from the numbers list below \n",
        "# in the same order they are received. We are not allowed toprint any numbers \n",
        "# that come after 237 in the sequence.\n",
        "# \n",
        "\n",
        "numbers = [ 951, 402, 984, 651, 360, 69, 408, 319, 601, 485, 980, 507, 725, 547, 544,\n",
        "    615, 83, 165, 141, 501, 263, 617, 865, 575, 219, 390, 984, 592, 236, 105, 942, 941,\n",
        "    386, 462, 47, 418, 907, 344, 236, 375, 823, 566, 597, 978, 328, 615, 953, 345,\n",
        "    399, 162, 758, 219, 918, 237, 412, 566, 826, 248, 866, 950, 626, 949, 687, 217,\n",
        "    815, 67, 104, 58, 512, 24, 892, 894, 767, 553, 81, 379, 843, 831, 445, 742, 717,\n",
        "    958, 609, 842, 451, 688, 753, 854, 685, 93, 857, 440, 380, 126, 721, 328, 753, 470,\n",
        "    743, 527\n",
        "]\n",
        "\n",
        "for i in numbers:\n",
        "  if i % 2 == 0:\n",
        "    print(i)\n",
        "  elif i==237:\n",
        "    break\n",
        "  \n",
        "\n",
        "  "
      ],
      "execution_count": null,
      "outputs": [
        {
          "output_type": "stream",
          "text": [
            "402\n",
            "984\n",
            "360\n",
            "408\n",
            "980\n",
            "544\n",
            "390\n",
            "984\n",
            "592\n",
            "236\n",
            "942\n",
            "386\n",
            "462\n",
            "418\n",
            "344\n",
            "236\n",
            "566\n",
            "978\n",
            "328\n",
            "162\n",
            "758\n",
            "918\n"
          ],
          "name": "stdout"
        }
      ]
    },
    {
      "cell_type": "code",
      "metadata": {
        "id": "1D2wI6Lyhcai"
      },
      "source": [
        "# Challenge 2\n",
        "# Write a program to find whether there is a word with the letter z from the list below\n",
        "#\n",
        "\n",
        "my_list = [\"bawk\", \"bagawk\", \"a\", \"aa\", \"aah\", \"aahed\", \"aahing\", \"aahs\", \"aal\", \"aalii\", \n",
        "           \"aaliis\", \"aals\", \"aardvark\", \"aardvarks\", \"aardwolf\", \"aardwolves\", \"aargh\", \n",
        "           \"aarrgh\", \"aarrghh\", \"aarti\", \"aartis\", \"aas\", \"aasvogel\"]\n",
        "\n",
        "for i in my_list:\n",
        "  \n",
        "  if i == \"z\":\n",
        "    print(i)\n",
        "    break\n"
      ],
      "execution_count": null,
      "outputs": []
    },
    {
      "cell_type": "markdown",
      "metadata": {
        "id": "ACouIUA4LUqe"
      },
      "source": [
        "## 1.6 Nested For Loops"
      ]
    },
    {
      "cell_type": "code",
      "metadata": {
        "id": "b8pUqp5qvjVV",
        "colab": {
          "base_uri": "https://localhost:8080/"
        },
        "outputId": "caf7916e-d8c4-42e9-f8b2-72169eb99477"
      },
      "source": [
        "# Example 1\n",
        "# You can use a loop inside another loop as shown below \n",
        "#\n",
        "\n",
        "adj = [\"red\", \"big\", \"tasty\"]\n",
        "fruits = [\"apple\", \"banana\", \"cherry\"]\n",
        "\n",
        "for x in adj:\n",
        "  for y in fruits:\n",
        "    print(x, y)"
      ],
      "execution_count": null,
      "outputs": [
        {
          "output_type": "stream",
          "text": [
            "red apple\n",
            "red banana\n",
            "red cherry\n",
            "big apple\n",
            "big banana\n",
            "big cherry\n",
            "tasty apple\n",
            "tasty banana\n",
            "tasty cherry\n"
          ],
          "name": "stdout"
        }
      ]
    },
    {
      "cell_type": "code",
      "metadata": {
        "id": "NvXrjhQPhlhk",
        "colab": {
          "base_uri": "https://localhost:8080/"
        },
        "outputId": "47918cbb-37cf-4c7c-c920-839fde0aabea"
      },
      "source": [
        "# Example 2\n",
        "# Iterating over multi dimension list i.e. lists in a list\n",
        "#\n",
        "\n",
        "# Creating a persons list\n",
        "persons = [['Monica', 40], ['Mary', 15], ['Miriam', 20]]\n",
        "  \n",
        "for person in persons: \n",
        "  for value in person: \n",
        "    print(value)"
      ],
      "execution_count": null,
      "outputs": [
        {
          "output_type": "stream",
          "text": [
            "Monica\n",
            "40\n",
            "Mary\n",
            "15\n",
            "Miriam\n",
            "20\n"
          ],
          "name": "stdout"
        }
      ]
    },
    {
      "cell_type": "markdown",
      "metadata": {
        "id": "enm2AB_bhl6P"
      },
      "source": [
        "### <font color=\"green\">1.6 Challenges</font>"
      ]
    },
    {
      "cell_type": "code",
      "metadata": {
        "id": "0mfvv99nhsAb",
        "colab": {
          "base_uri": "https://localhost:8080/"
        },
        "outputId": "7e4e231e-6b76-4e36-89dd-efa794e91cff"
      },
      "source": [
        "# Challenge 1\n",
        "# Iterate through the list of integers. In the outer loop, iterate through the numbers_list  \n",
        "# and iterate through strings_list in the inner loop. \n",
        "# printing out 1 a b c 2 a b c 3 a b c\n",
        "#\n",
        "\n",
        "# Creating our lists\n",
        "numbers_list = [1, 2, 3]\n",
        "strings_list = ['a', 'b', 'c']\n",
        "\n",
        "for x in numbers_list:\n",
        "  print(x,end=\"\")\n",
        "  for y in strings_list:\n",
        "   print(y, end=\"\")"
      ],
      "execution_count": null,
      "outputs": [
        {
          "output_type": "stream",
          "text": [
            "1abc2abc3abc"
          ],
          "name": "stdout"
        }
      ]
    },
    {
      "cell_type": "code",
      "metadata": {
        "id": "gGHGio0bhvTf",
        "colab": {
          "base_uri": "https://localhost:8080/"
        },
        "outputId": "ac77dc9b-8784-459a-e7e3-58451dbe168b"
      },
      "source": [
        "# Challenge 2\n",
        "# Modify the code below to print out number of cars each of the billionares has \n",
        "# \n",
        "\n",
        "# Creating our lists\n",
        "billionares = ['Jeff','Samuel','Donnah']      \n",
        "cars = ['mercedes','porshe','hyundai']\n",
        "numbers = [55, 24, 30]\n",
        "\n",
        "for car in names:                       \n",
        "  for names in cars:                       \n",
        "    OUR CODE GOES HERE             \n",
        "      print(name+\" has \"+str(number) OUR CODE GOES HERE)"
      ],
      "execution_count": null,
      "outputs": [
        {
          "output_type": "stream",
          "text": [
            "Jeff\n",
            "Samuel\n",
            "Donnah\n",
            "mercedes\n",
            "porshe\n",
            "hyundai\n",
            "55\n",
            "24\n",
            "30\n"
          ],
          "name": "stdout"
        }
      ]
    },
    {
      "cell_type": "code",
      "metadata": {
        "id": "wgW0ppZ_WtVw",
        "colab": {
          "base_uri": "https://localhost:8080/"
        },
        "outputId": "7301c9f0-5a62-4337-b399-46773b7d3073"
      },
      "source": [
        "# Challenge 3\n",
        "# Come up with of a question you can ask your friends. \n",
        "# Create a dictionary where each key is a person's name, \n",
        "# and each value is that person's response to your question.\n",
        "# Store more three thn responses in your dictionary \n",
        "# and use a for loop to print out each person's response\n",
        "#\n",
        "\n",
        "p_name = [\"Ali\", \"Dona\", \"Samuel\", \"Cera\"]\n",
        "p_response = [\"is a muslim\", \"is an atheist\", \"ia a christian\",\"other\"]\n",
        "\n",
        "for x in p_name:\n",
        "  print(x)\n",
        "  for y in p_response:\n",
        "    print(y)\n",
        "print()    "
      ],
      "execution_count": null,
      "outputs": [
        {
          "output_type": "stream",
          "text": [
            "Ali\n",
            "is a muslim\n",
            "is an atheist\n",
            "ia a christian\n",
            "other\n",
            "Dona\n",
            "is a muslim\n",
            "is an atheist\n",
            "ia a christian\n",
            "other\n",
            "Samuel\n",
            "is a muslim\n",
            "is an atheist\n",
            "ia a christian\n",
            "other\n",
            "Cera\n",
            "is a muslim\n",
            "is an atheist\n",
            "ia a christian\n",
            "other\n",
            "\n"
          ],
          "name": "stdout"
        }
      ]
    }
  ]
}