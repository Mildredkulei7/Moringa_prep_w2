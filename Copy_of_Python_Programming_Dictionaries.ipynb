{
  "nbformat": 4,
  "nbformat_minor": 0,
  "metadata": {
    "colab": {
      "name": "Copy of Python Programming: Dictionaries",
      "provenance": [],
      "collapsed_sections": [],
      "include_colab_link": true
    },
    "kernelspec": {
      "name": "python3",
      "display_name": "Python 3"
    }
  },
  "cells": [
    {
      "cell_type": "markdown",
      "metadata": {
        "id": "view-in-github",
        "colab_type": "text"
      },
      "source": [
        "<a href=\"https://colab.research.google.com/github/Mildredkulei7/Moringa_prep_w2/blob/main/Copy_of_Python_Programming_Dictionaries.ipynb\" target=\"_parent\"><img src=\"https://colab.research.google.com/assets/colab-badge.svg\" alt=\"Open In Colab\"/></a>"
      ]
    },
    {
      "cell_type": "markdown",
      "metadata": {
        "id": "eOm53BqKoYpl"
      },
      "source": [
        "<font color=\"green\">*To start working on this notebook, or any other notebook that we will use in this course, we will need to save our own copy of it. We can do this by clicking File > Save a Copy in Drive. We will then be able to make edits to our own copy of this notebook.*</font>\n",
        "\n",
        "---\n",
        "\n"
      ]
    },
    {
      "cell_type": "markdown",
      "metadata": {
        "id": "w2gnEI4V253l"
      },
      "source": [
        "# Python Programming: Dictionaries"
      ]
    },
    {
      "cell_type": "markdown",
      "metadata": {
        "id": "aEqAjTGi3E3b"
      },
      "source": [
        "## 1.0 Overview\n"
      ]
    },
    {
      "cell_type": "markdown",
      "metadata": {
        "id": "nJhH3J6y3dBD"
      },
      "source": [
        "A dictionary is a collection of key-value pairs, which are unordered, changeable and indexed. Curly brackets are used when writing a dictionary."
      ]
    },
    {
      "cell_type": "markdown",
      "metadata": {
        "id": "a90lkqj_3IZr"
      },
      "source": [
        "## 1.1 Creating a Dictionary"
      ]
    },
    {
      "cell_type": "code",
      "metadata": {
        "id": "8XQMBtIU7EoL",
        "colab": {
          "base_uri": "https://localhost:8080/"
        },
        "outputId": "ecd0cf1c-cc19-4150-d7cb-544787746449"
      },
      "source": [
        "# Example 1\n",
        "# We can create a dictionary by placing a sequence of elements within curly braces, \n",
        "# separated by commas as show in the following example.\n",
        "# Let's create a dictionary my_new_friend\n",
        "# \n",
        "my_new_friend = {\n",
        "    'name':'Femi', \n",
        "    'age': 24\n",
        "}\n",
        "\n",
        "# print \n",
        "print(my_new_friend)"
      ],
      "execution_count": 1,
      "outputs": [
        {
          "output_type": "stream",
          "text": [
            "{'name': 'Femi', 'age': 24}\n"
          ],
          "name": "stdout"
        }
      ]
    },
    {
      "cell_type": "code",
      "metadata": {
        "id": "dg_8-2YO7EE3",
        "colab": {
          "base_uri": "https://localhost:8080/"
        },
        "outputId": "2d0587c7-162c-49aa-ea7e-de0c918c200f"
      },
      "source": [
        "# Example 2\n",
        "# Let's create another dictionary car with keys; brand, model and year\n",
        "# \n",
        "car =\t{\n",
        "  'brand': 'Toyota',\n",
        "  'model': 'Prado',\n",
        "  'year': 2007\n",
        "}\n",
        "\n",
        "# Then display it to see what the dictionary contains\n",
        "print(car)"
      ],
      "execution_count": 2,
      "outputs": [
        {
          "output_type": "stream",
          "text": [
            "{'brand': 'Toyota', 'model': 'Prado', 'year': 2007}\n"
          ],
          "name": "stdout"
        }
      ]
    },
    {
      "cell_type": "code",
      "metadata": {
        "id": "KiVcQaXH7D0R",
        "colab": {
          "base_uri": "https://localhost:8080/"
        },
        "outputId": "1ccc1ec8-750e-430e-80bc-ae3d358759cd"
      },
      "source": [
        "# Example 3\n",
        "# Let's create another dictionary\n",
        "#\n",
        "our_class = {\n",
        "    'Name': '7 East', \n",
        "    'Students': 27, \n",
        "    'Wing': 'East'\n",
        "}\n",
        "\n",
        "# printing out our_class\n",
        "print(our_class)"
      ],
      "execution_count": 3,
      "outputs": [
        {
          "output_type": "stream",
          "text": [
            "{'Name': '7 East', 'Students': 27, 'Wing': 'East'}\n"
          ],
          "name": "stdout"
        }
      ]
    },
    {
      "cell_type": "markdown",
      "metadata": {
        "id": "49K6mQJg7yUh"
      },
      "source": [
        "### 1.1 Challenges"
      ]
    },
    {
      "cell_type": "code",
      "metadata": {
        "id": "v5e2By6E76hW",
        "colab": {
          "base_uri": "https://localhost:8080/"
        },
        "outputId": "744a865d-c6bc-4c2d-b312-d0bbe8e49e89"
      },
      "source": [
        "# Challenge 1\n",
        "# Create a dictionary family with keys i.e. father,\n",
        "# mother, son and daughter. You can add values of your family\n",
        "# to the key values\n",
        "# \n",
        "Family = {\n",
        "    'Father': 'Dan Kwetu',\n",
        "    'Mother': 'Mimi Sanu',\n",
        "    'Son': 'Fred ndanu',\n",
        "    'Daughter': 'Sawi Ndanu'\n",
        "}\n",
        "\n",
        "#printing out the family\n",
        "print(Family)"
      ],
      "execution_count": 6,
      "outputs": [
        {
          "output_type": "stream",
          "text": [
            "{'Father': 'Dan Kwetu', 'Mother': 'Mimi Sanu', 'Son': 'Fred ndanu', 'Daughter': 'Sawi Ndanu'}\n"
          ],
          "name": "stdout"
        }
      ]
    },
    {
      "cell_type": "code",
      "metadata": {
        "id": "tpBdeH5275i9",
        "colab": {
          "base_uri": "https://localhost:8080/"
        },
        "outputId": "eebbc418-6154-4487-f088-a75eab78f602"
      },
      "source": [
        "# Challenge 2\n",
        "# Create a dictionary name powers_dictionary using numbers 1-5 as keys \n",
        "# and their square power as values.  \n",
        "#\n",
        "Powers_dictionery = {\n",
        "    '1': '1',\n",
        "    '2': '4',\n",
        "    '3': '9',\n",
        "    '4': '16',\n",
        "    '5': '25'\n",
        "}\n",
        "\n",
        "#printng out the Powers_dictionery\n",
        "print(Powers_dictionery)"
      ],
      "execution_count": 7,
      "outputs": [
        {
          "output_type": "stream",
          "text": [
            "{'1': '1', '2': '4', '3': '9', '4': '16', '5': '25'}\n"
          ],
          "name": "stdout"
        }
      ]
    },
    {
      "cell_type": "code",
      "metadata": {
        "id": "yf9bGNKEKsFF",
        "colab": {
          "base_uri": "https://localhost:8080/"
        },
        "outputId": "4ac0c1a0-0fad-4b79-e7d3-5295beb77543"
      },
      "source": [
        "# Challenge 3\n",
        "# A caterer offers three different food packages; \n",
        "# bronze package: starch:rice stew:chicken curry vegetable:cabbages desert:melon\n",
        "# silver package: starch:rice and chappati  stew:beef curry vegetable:spinach desert:melon and bananas\n",
        "# gold package: starch:rice, chappati and mukimo stew: beef curry vegetable:spinach and managu desert: tart\n",
        "# Create a dictionary that stores the above information then preview it\n",
        "# Hint: You can store a dictionary within a dictionary \n",
        "# \n",
        "Food_package = {\n",
        "    'bronze_package' : {'starch': 'rice', 'stew': 'chicken curry', 'vegetable': 'cabbages', 'desert': 'melon'},\n",
        "    'silver_package' : {'starch': 'rice and chapati', 'stew': 'beef curry', 'vegetable': 'spinach', 'desert': 'melon and bananas'},\n",
        "    'gold_package' : {'starch': 'rice, chapati and mukimo', 'stew': 'beef curry', 'vegetable': 'spinach and managu', 'desert': 'tart'}\n",
        "}\n",
        "\n",
        "print(Food_package)"
      ],
      "execution_count": 16,
      "outputs": [
        {
          "output_type": "stream",
          "text": [
            "{'bronze_package': {'starch': 'rice', 'stew': 'chicken curry', 'vegetable': 'cabbages', 'desert': 'melon'}, 'silver_package': {'starch': 'rice and chapati', 'stew': 'beef curry', 'vegetable': 'spinach', 'desert': 'melon and bananas'}, 'gold_package': {'starch': 'rice, chapati and mukimo', 'stew': 'beef curry', 'vegetable': 'spinach and managu', 'desert': 'tart'}}\n"
          ],
          "name": "stdout"
        }
      ]
    },
    {
      "cell_type": "markdown",
      "metadata": {
        "id": "UU3YIJYI3gwc"
      },
      "source": [
        "## 1.2 Adding Elements to a Dictionary"
      ]
    },
    {
      "cell_type": "code",
      "metadata": {
        "id": "t-dKvalj7F44",
        "colab": {
          "base_uri": "https://localhost:8080/"
        },
        "outputId": "d367a42d-9718-4114-e956-e2a44d65737f"
      },
      "source": [
        "# Example 1 \n",
        "# Adding a residence to my_new_friend dictionary that we had initially created\n",
        "# \n",
        "my_new_friend['residence'] = 'Nairobi'  \n",
        "\n",
        "# print out my_new_friend\n",
        "print(my_new_friend)"
      ],
      "execution_count": 17,
      "outputs": [
        {
          "output_type": "stream",
          "text": [
            "{'name': 'Femi', 'age': 24, 'residence': 'Nairobi'}\n"
          ],
          "name": "stdout"
        }
      ]
    },
    {
      "cell_type": "code",
      "metadata": {
        "id": "FsS9Ns-b7FnE",
        "colab": {
          "base_uri": "https://localhost:8080/"
        },
        "outputId": "a06f1838-5dfd-46cc-a375-12b652f8a418"
      },
      "source": [
        "# Example 2\n",
        "# We now add color to our car dictionary\n",
        "#\n",
        "car[\"color\"] = \"light gray\"\n",
        "\n",
        "# and print out our dictionary\n",
        "print(car)"
      ],
      "execution_count": 19,
      "outputs": [
        {
          "output_type": "stream",
          "text": [
            "{'brand': 'Toyota', 'model': 'Prado', 'year': 2007, 'color': 'light gray'}\n"
          ],
          "name": "stdout"
        }
      ]
    },
    {
      "cell_type": "code",
      "metadata": {
        "id": "GFY3EYiO7FcZ",
        "colab": {
          "base_uri": "https://localhost:8080/"
        },
        "outputId": "f7d836ee-09a7-4281-c299-5f3cdac0260f"
      },
      "source": [
        "# Example 3\n",
        "# Adding the school to the dictionary\n",
        "#\n",
        "our_class['School'] = \"Moringa School\";\n",
        "\n",
        "# printing out our class to see the updates\n",
        "print(our_class)"
      ],
      "execution_count": 20,
      "outputs": [
        {
          "output_type": "stream",
          "text": [
            "{'Name': '7 East', 'Students': 27, 'Wing': 'East', 'School': 'Moringa School'}\n"
          ],
          "name": "stdout"
        }
      ]
    },
    {
      "cell_type": "markdown",
      "metadata": {
        "id": "7tzKw6l87-5h"
      },
      "source": [
        "### 1.2 Challenges"
      ]
    },
    {
      "cell_type": "code",
      "metadata": {
        "id": "jqbEx0BU8EL4",
        "colab": {
          "base_uri": "https://localhost:8080/"
        },
        "outputId": "1b243aec-d23b-4f21-ed0e-b3e7fa9b6a10"
      },
      "source": [
        "# Challenge 1: \n",
        "# Naivas Supermarket sells two products: bread and milk. \n",
        "# A loaf of bread weighs 400 grams. Each packet of milk is 0.5 litre. \n",
        "# Write a program that reads the number of bread \n",
        "# and the number of packets of milk in an order from the user. \n",
        "# Then your program should compute and display the total quantity of the order.\n",
        "# You should store the order in the dictionary and \n",
        "# prompt the user for another input.\n",
        "# \n",
        "products = {\n",
        "    'bread': '400',\n",
        "    'milk': '0.5'\n",
        "}\n",
        "\n",
        "products['bread'] = 400,\n",
        "products['milk'] = 0.5\n",
        "#program that accepts input from user\n",
        "bread_qty = int (input(\"Enter quantity of bread: \"))\n",
        "milk_qty = int (input(\"Enter quantity of milk: \"))\n",
        "\n",
        "order = {\n",
        "    \"bread_quantity\": 'bread_qty',\n",
        "    \"milk_quantity\" : 'milk_qty'\n",
        "}\n",
        "order[\"bread_quantity\"] = 'bread_qty'\n",
        "order[\"milk_quantity\"] = 'milk_qty'\n",
        "\n",
        "a = 400 * bread_qty\n",
        "b = float (0.5)* milk_qty\n",
        "\n",
        "print(\"The weight of bread will be\", a, \"grams\")\n",
        "print(\"The weight of milk will be\", b, \"liters\")"
      ],
      "execution_count": 15,
      "outputs": [
        {
          "output_type": "stream",
          "text": [
            "Enter quantity of bread: 4\n",
            "Enter quantity of milk: 4\n",
            "The weight of bread will be 1600 grams\n",
            "The weight of milk will be 2.0 liters\n"
          ],
          "name": "stdout"
        }
      ]
    },
    {
      "cell_type": "code",
      "metadata": {
        "id": "gQTOkgy2kgLT",
        "colab": {
          "base_uri": "https://localhost:8080/"
        },
        "outputId": "8756cbee-2580-45e7-d32f-876aa99cc2fb"
      },
      "source": [
        "# Challenge 2:\n",
        "# Two words are anagrams if they contain all of the same letters, \n",
        "# but in a different order. For example, “evil” and “live” \n",
        "# are anagrams because each contains one e, one i, one l, and one v. \n",
        "# Create a program that reads two strings from the user, determines\n",
        "# whether or not they are anagrams, stores and reports the result.\n",
        "# Use a dictionary to solve this problem.\n",
        "# \n",
        "anagram_list = [\"lead\", \"deal\", \"car\", \"tree\", \"boy\", \"girl\", \"arc\"]\n",
        "\n",
        "str1=input(\"Enter first string: \")\n",
        "str2=input(\"Enter second string: \")\n",
        "if(sorted(str1)==sorted(str2)):\n",
        "      print(\"The strings are anagrams.\")\n",
        "else:\n",
        "      print(\"The strings aren't anagrams.\")"
      ],
      "execution_count": 94,
      "outputs": [
        {
          "output_type": "stream",
          "text": [
            "Enter first string: car\n",
            "Enter second string: arc\n",
            "The strings are anagrams.\n"
          ],
          "name": "stdout"
        }
      ]
    },
    {
      "cell_type": "code",
      "metadata": {
        "id": "3pcE1f56f87G",
        "colab": {
          "base_uri": "https://localhost:8080/"
        },
        "outputId": "c1b6c0f6-9c6c-4652-9012-a72d1d5ecfb5"
      },
      "source": [
        "# Challenge 3:\n",
        "# Create a program that determines and displays \n",
        "# the number of characters in a string entered by the user. \n",
        "# For example, \"Hello, World!\" has 13  characters while \n",
        "# abc has only three character. \n",
        "# Use a dictionary to solve this problem.\n",
        "# \n",
        "no_char = {\n",
        " \"s1\": str(input(\"Enter first string: \"))\n",
        "}\n",
        "print(len(no_char[\"s1\"]));"
      ],
      "execution_count": 7,
      "outputs": [
        {
          "output_type": "stream",
          "text": [
            "Enter first string: tracert\n",
            "7\n"
          ],
          "name": "stdout"
        }
      ]
    },
    {
      "cell_type": "markdown",
      "metadata": {
        "id": "hzmMe5TP32ra"
      },
      "source": [
        "## 1.3 Updating Elements in a Dictionary"
      ]
    },
    {
      "cell_type": "code",
      "metadata": {
        "id": "J66GyFzt7I_X",
        "colab": {
          "base_uri": "https://localhost:8080/"
        },
        "outputId": "7d9d1d93-54b3-4be2-e70f-ff0962980753"
      },
      "source": [
        "# Example 1\n",
        "# Let's update age on the dictionary my_new_friend \n",
        "#\n",
        "my_new_friend['age'] = 24\n",
        "\n",
        "# print out\n",
        "print(my_new_friend)"
      ],
      "execution_count": 41,
      "outputs": [
        {
          "output_type": "stream",
          "text": [
            "{'name': 'Femi', 'age': 24, 'residence': 'Nairobi'}\n"
          ],
          "name": "stdout"
        }
      ]
    },
    {
      "cell_type": "code",
      "metadata": {
        "id": "zhJabm-I7Jr4",
        "colab": {
          "base_uri": "https://localhost:8080/"
        },
        "outputId": "b9e7a8c0-c382-49dd-9724-65b0974be17d"
      },
      "source": [
        "# Example 2\n",
        "# Let's update our dictionary my_new_friend\n",
        "#\n",
        "car[\"color\"] = \"light gray\"\n",
        "\n",
        "# and print out our dictionary\n",
        "print(car)"
      ],
      "execution_count": 42,
      "outputs": [
        {
          "output_type": "stream",
          "text": [
            "{'brand': 'Toyota', 'model': 'Prado', 'year': 2007, 'color': 'light gray'}\n"
          ],
          "name": "stdout"
        }
      ]
    },
    {
      "cell_type": "code",
      "metadata": {
        "id": "PbbAVPsO7JfJ",
        "colab": {
          "base_uri": "https://localhost:8080/"
        },
        "outputId": "4222e4c0-3a7a-4f28-a932-736dcbdf9618"
      },
      "source": [
        "# Example 3\n",
        "# Updating our class \n",
        "#\n",
        "our_class['Students'] = 29;\n",
        "\n",
        "# printing out our class to see the updates\n",
        "print(our_class)"
      ],
      "execution_count": 43,
      "outputs": [
        {
          "output_type": "stream",
          "text": [
            "{'Name': '7 East', 'Students': 29, 'Wing': 'East', 'School': 'Moringa School'}\n"
          ],
          "name": "stdout"
        }
      ]
    },
    {
      "cell_type": "markdown",
      "metadata": {
        "id": "Hp9Jaf8V8PE1"
      },
      "source": [
        "### 1.3 Challenges"
      ]
    },
    {
      "cell_type": "code",
      "metadata": {
        "id": "LcK4RI6K8Qrp",
        "colab": {
          "base_uri": "https://localhost:8080/"
        },
        "outputId": "f3d0c1b7-361e-4d6e-eb56-14e4954e575e"
      },
      "source": [
        "# Challenge 1\n",
        "# Let's update the value of the son and daughter keys of the family dictionary \n",
        "# that we had earlier on created\n",
        "#\n",
        "Family['Son'] = \"eric nene\"\n",
        "Family['Daughter'] = \" maci mimi\"\n",
        "print(Family)"
      ],
      "execution_count": 59,
      "outputs": [
        {
          "output_type": "stream",
          "text": [
            "{'Father': 'Dan Kwetu', 'Mother': 'Mimi Sanu', 'Son': 'eric nene', 'Daughter': ' maci mimi'}\n"
          ],
          "name": "stdout"
        }
      ]
    },
    {
      "cell_type": "code",
      "metadata": {
        "id": "EEU_gZax8RN6",
        "colab": {
          "base_uri": "https://localhost:8080/"
        },
        "outputId": "6dada665-f619-4ee2-d19f-2d7ec746f114"
      },
      "source": [
        "# Challenge 2\n",
        "# Update value of the gold package in the caterer dictionary to \n",
        "# have vegetable as spinach, cabbage and managu\n",
        "#\n",
        "Food_package['gold_package']['vegetable']= 'spinach, cabbage and managu'\n",
        "\n",
        "print(Food_package)"
      ],
      "execution_count": 60,
      "outputs": [
        {
          "output_type": "stream",
          "text": [
            "{'bronze_package': {'starch': 'rice', 'stew': 'chicken curry', 'vegetable': 'cabbages', 'desert': 'melon'}, 'silver_package': {'starch': 'rice and chapati', 'stew': 'beef curry', 'vegetable': 'spinach', 'desert': 'melon and bananas'}, 'gold_package': {'starch': 'rice, chapati and mukimo', 'stew': 'beef curry', 'vegetable': 'spinach, cabbage and managu', 'desert': 'tart'}}\n"
          ],
          "name": "stdout"
        }
      ]
    },
    {
      "cell_type": "code",
      "metadata": {
        "id": "jMEwHQI18RCX"
      },
      "source": [
        "# Challenge 3\n",
        "# Upon creating the Naivas supermarket dictionary program earlier on,\n",
        "# We will now extend the functionality of your program to be able to also update\n",
        "# the quantity of either the bread or packet of milk.\n",
        "# Write another program the will prompt the user to indicate whether they want\n",
        "# to update the quantity of the product or compute the total quantity of the total order.\n",
        "# Using if statements, your program should execute either to the code you had earlier\n",
        "# on written or to the new code for updating that you will now write\n",
        "#\n",
        "OUR CODE GOES HERE"
      ],
      "execution_count": null,
      "outputs": []
    },
    {
      "cell_type": "markdown",
      "metadata": {
        "id": "50S5D_qI3kDD"
      },
      "source": [
        "## 1.4 Accessing Elements from a Dictionary"
      ]
    },
    {
      "cell_type": "code",
      "metadata": {
        "id": "ZBJa2FHU7Muf",
        "colab": {
          "base_uri": "https://localhost:8080/"
        },
        "outputId": "37d7fd44-f58b-4a3c-992c-aeef30fcf9fe"
      },
      "source": [
        "# Example 1\n",
        "# Accessing my_new_friend dictionary \n",
        "#\n",
        "name_a = my_new_friend[\"name\"]\n",
        "\n",
        "# print name_a\n",
        "print(name_a)\n",
        "\n",
        "# or we could also\n",
        "name_b = my_new_friend.get(\"name\")\n",
        "\n",
        "# print name_b\n",
        "print(name_b)"
      ],
      "execution_count": 61,
      "outputs": [
        {
          "output_type": "stream",
          "text": [
            "Femi\n",
            "Femi\n"
          ],
          "name": "stdout"
        }
      ]
    },
    {
      "cell_type": "code",
      "metadata": {
        "id": "A8ggbH347NPz",
        "colab": {
          "base_uri": "https://localhost:8080/"
        },
        "outputId": "44708acc-34a8-48ef-d0e8-d7ceb76b359e"
      },
      "source": [
        "# Example 2\n",
        "# Accessing the model in the car dictionary\n",
        "#\n",
        "car_a = car[\"model\"]\n",
        "\n",
        "# print car_a\n",
        "print(car_a)\n",
        "\n",
        "# or we could also\n",
        "car_b = car.get(\"model\")\n",
        "\n",
        "# print name_b\n",
        "print(car_b)"
      ],
      "execution_count": 62,
      "outputs": [
        {
          "output_type": "stream",
          "text": [
            "Prado\n",
            "Prado\n"
          ],
          "name": "stdout"
        }
      ]
    },
    {
      "cell_type": "code",
      "metadata": {
        "id": "eaZxBKDf7NF4",
        "colab": {
          "base_uri": "https://localhost:8080/"
        },
        "outputId": "d3609a07-167d-4d74-ae9f-d40ead5dbbd5"
      },
      "source": [
        "# Example 3\n",
        "# Accessing the name in our_class dictionary\n",
        "#\n",
        "our_class_a = our_class[\"Name\"]\n",
        "\n",
        "# or we could also\n",
        "our_class_b = our_class.get(\"Name\")\n",
        "\n",
        "# print our_class_b \n",
        "print(our_class_b)"
      ],
      "execution_count": 63,
      "outputs": [
        {
          "output_type": "stream",
          "text": [
            "7 East\n"
          ],
          "name": "stdout"
        }
      ]
    },
    {
      "cell_type": "markdown",
      "metadata": {
        "id": "mqnSUp-a8I65"
      },
      "source": [
        "### 1.4 Challenges"
      ]
    },
    {
      "cell_type": "code",
      "metadata": {
        "id": "uE_DKh_N8XMj",
        "colab": {
          "base_uri": "https://localhost:8080/"
        },
        "outputId": "d05e18be-0ff4-41ac-ca43-938e100a6b89"
      },
      "source": [
        "# Challenge 1\n",
        "# What is the power of 4 from the powers_dictionary\n",
        "# \n",
        "#accessin the power of 4 in powers_dictonery\n",
        "Powers_of_4 = Powers_dictionery[\"4\"]\n",
        "\n",
        "#printing power_of_4\n",
        "print(Powers_of_4)"
      ],
      "execution_count": 64,
      "outputs": [
        {
          "output_type": "stream",
          "text": [
            "16\n"
          ],
          "name": "stdout"
        }
      ]
    },
    {
      "cell_type": "code",
      "metadata": {
        "id": "dt-ZmzrQ8YIM",
        "colab": {
          "base_uri": "https://localhost:8080/"
        },
        "outputId": "1757434c-8d77-47a3-ccae-e8bf52e37533"
      },
      "source": [
        "# Challenge 2\n",
        "# Let's access the silver package from our caterer dictionary\n",
        "#\n",
        "# accessing silver package from Food_package\n",
        "silver_package_a = Food_package['silver_package']\n",
        "\n",
        "print(silver_package_a)\n"
      ],
      "execution_count": 65,
      "outputs": [
        {
          "output_type": "stream",
          "text": [
            "{'starch': 'rice and chapati', 'stew': 'beef curry', 'vegetable': 'spinach', 'desert': 'melon and bananas'}\n"
          ],
          "name": "stdout"
        }
      ]
    },
    {
      "cell_type": "code",
      "metadata": {
        "id": "xLEaTJdY8X4t",
        "colab": {
          "base_uri": "https://localhost:8080/"
        },
        "outputId": "94cc0458-ce73-4550-d66c-28fceb60f0d8"
      },
      "source": [
        "# Challenge 3\n",
        "# Access the name of the father from the family dictionary\n",
        "# \n",
        "Father_name = Family['Father']\n",
        "\n",
        "print(Father_name)"
      ],
      "execution_count": 68,
      "outputs": [
        {
          "output_type": "stream",
          "text": [
            "Dan Kwetu\n"
          ],
          "name": "stdout"
        }
      ]
    },
    {
      "cell_type": "markdown",
      "metadata": {
        "id": "Amb1Bsrbwx6C"
      },
      "source": [
        "## 1.5 Checking if a Key exists"
      ]
    },
    {
      "cell_type": "code",
      "metadata": {
        "id": "bcY3c6DHwwu2",
        "colab": {
          "base_uri": "https://localhost:8080/"
        },
        "outputId": "082c5cab-8470-486c-be99-c3551f5b478c"
      },
      "source": [
        "# Example 1\n",
        "# We can check if a specified key exists within a dictionary through the use of the `in` keyword;\n",
        "# Let's check if the keyword residence exists in my_new_friend dictionary\n",
        "# \n",
        "if \"residence\" in my_new_friend:\n",
        "  print(\"Yes, the keyword exists in the dictionary\")\n",
        "else:\n",
        "  print('No, the keyword does not exist in the dictionary')"
      ],
      "execution_count": 69,
      "outputs": [
        {
          "output_type": "stream",
          "text": [
            "Yes, the keyword exists in the dictionary\n"
          ],
          "name": "stdout"
        }
      ]
    },
    {
      "cell_type": "code",
      "metadata": {
        "id": "KJYTGPMKw52k",
        "colab": {
          "base_uri": "https://localhost:8080/"
        },
        "outputId": "7b6c3dc6-2127-46d9-bda1-9e1b241f7cec"
      },
      "source": [
        "# Example 2\n",
        "# Let's check if the keyword year exists in car dictionary\n",
        "#\n",
        "if \"year\" in car:\n",
        "  print(\"Yes, the keyword exists in the dictionary\")\n",
        "else:\n",
        "  print('No, the keyword does not exist in the dictionary')"
      ],
      "execution_count": 70,
      "outputs": [
        {
          "output_type": "stream",
          "text": [
            "Yes, the keyword exists in the dictionary\n"
          ],
          "name": "stdout"
        }
      ]
    },
    {
      "cell_type": "code",
      "metadata": {
        "id": "U0sTioBMw5tU",
        "colab": {
          "base_uri": "https://localhost:8080/"
        },
        "outputId": "526c3883-f9fd-45d5-a0d5-0d24041d6711"
      },
      "source": [
        "# Example 3\n",
        "# Checking if the keyword Wing exists in our_class dictionary\n",
        "#\n",
        "if \"Wing\" in our_class:\n",
        "  print(\"Yes, the keyword exists in the dictionary\")\n",
        "else:\n",
        "  print('No, the keyword does not exist in the dictionary')"
      ],
      "execution_count": 71,
      "outputs": [
        {
          "output_type": "stream",
          "text": [
            "Yes, the keyword exists in the dictionary\n"
          ],
          "name": "stdout"
        }
      ]
    },
    {
      "cell_type": "markdown",
      "metadata": {
        "id": "1OFB5fL1w6TM"
      },
      "source": [
        "### 1.5 Challenges"
      ]
    },
    {
      "cell_type": "code",
      "metadata": {
        "id": "oUCqFuf_w--X",
        "colab": {
          "base_uri": "https://localhost:8080/"
        },
        "outputId": "38b97805-c2ee-42bc-c9ba-ba7b66b3cfaa"
      },
      "source": [
        "# Challenge 1\n",
        "# Does the model key exist in our car dictionary?\n",
        "#\n",
        "if \"model\" in car:\n",
        "  print(\"Yes, the keyword exists in the dictionary\")\n",
        "else:\n",
        "  print('No, the keyword does not exist in the dictionary')"
      ],
      "execution_count": 73,
      "outputs": [
        {
          "output_type": "stream",
          "text": [
            "Yes, the keyword exists in the dictionary\n"
          ],
          "name": "stdout"
        }
      ]
    },
    {
      "cell_type": "code",
      "metadata": {
        "id": "y2KKTbcmw_jK",
        "colab": {
          "base_uri": "https://localhost:8080/"
        },
        "outputId": "108dac4a-5e26-4663-deee-ae7615fd6ce7"
      },
      "source": [
        "# Challenge 2\n",
        "# Does te\n",
        "# Let's get the power of 6 from our already created powers dictionary\n",
        "#\n",
        "if \"6\" in Powers_dictionery:\n",
        "  print(\"Yes, the keyword exists in the dictionary\")\n",
        "else:\n",
        "  print('No, the keyword does not exist in the dictionary')"
      ],
      "execution_count": 74,
      "outputs": [
        {
          "output_type": "stream",
          "text": [
            "No, the keyword does not exist in the dictionary\n"
          ],
          "name": "stdout"
        }
      ]
    },
    {
      "cell_type": "code",
      "metadata": {
        "id": "bGck3KPGw_HE",
        "colab": {
          "base_uri": "https://localhost:8080/"
        },
        "outputId": "ca1b8eba-2b2f-4765-b627-523531b6026d"
      },
      "source": [
        "# Challenge 3\n",
        "# Let's find out if the diamond package exists in the caterer package\n",
        "#\n",
        "if \"diamond\" in Food_package:\n",
        "  print(\"Yes, the keyword exists in the dictionary\")\n",
        "else:\n",
        "  print('No, the keyword does not exist in the dictionary')"
      ],
      "execution_count": 75,
      "outputs": [
        {
          "output_type": "stream",
          "text": [
            "No, the keyword does not exist in the dictionary\n"
          ],
          "name": "stdout"
        }
      ]
    },
    {
      "cell_type": "markdown",
      "metadata": {
        "id": "GDrqXhcWzs6s"
      },
      "source": [
        "## 1.6 The No. of elements in a Dictionary"
      ]
    },
    {
      "cell_type": "code",
      "metadata": {
        "id": "mQMc9N3TzvUA",
        "colab": {
          "base_uri": "https://localhost:8080/"
        },
        "outputId": "32f6ccc6-0e22-4472-bd40-b1cbd3341c62"
      },
      "source": [
        "# Example 1\n",
        "# We can use keyword `len()` to determine how many items (key - value pairs) there are in the dictionary.\n",
        "# Finding out how many items there are in the my_new_friend dictionary\n",
        "#\n",
        "print(len(my_new_friend))"
      ],
      "execution_count": 76,
      "outputs": [
        {
          "output_type": "stream",
          "text": [
            "3\n"
          ],
          "name": "stdout"
        }
      ]
    },
    {
      "cell_type": "code",
      "metadata": {
        "id": "YJbVoIfzzvkC",
        "colab": {
          "base_uri": "https://localhost:8080/"
        },
        "outputId": "80fb24f7-3a73-4305-e123-1edd3403b6eb"
      },
      "source": [
        "# Example 2\n",
        "# Finding out how many items there are in the car dictionary\n",
        "#\n",
        "print(len(car))"
      ],
      "execution_count": 77,
      "outputs": [
        {
          "output_type": "stream",
          "text": [
            "4\n"
          ],
          "name": "stdout"
        }
      ]
    },
    {
      "cell_type": "code",
      "metadata": {
        "id": "ubNhcSttz050",
        "colab": {
          "base_uri": "https://localhost:8080/"
        },
        "outputId": "f0084acc-5d3b-45da-df16-17b8ce2cffd9"
      },
      "source": [
        "# Example 3\n",
        "# Finding out how many items there are in the our_class dictionary\n",
        "#\n",
        "print(len(our_class))"
      ],
      "execution_count": 78,
      "outputs": [
        {
          "output_type": "stream",
          "text": [
            "4\n"
          ],
          "name": "stdout"
        }
      ]
    },
    {
      "cell_type": "markdown",
      "metadata": {
        "id": "zN0YcqMmzwGU"
      },
      "source": [
        "### 1.6 Challenges"
      ]
    },
    {
      "cell_type": "code",
      "metadata": {
        "id": "9SWkSQvnz2bh",
        "colab": {
          "base_uri": "https://localhost:8080/"
        },
        "outputId": "078f29be-f06f-479f-d527-b33adcad04e0"
      },
      "source": [
        "# Challenge 1\n",
        "# Using the family dictionary, let's determine how many family members there are in the family?\n",
        "#\n",
        "print(len(car))"
      ],
      "execution_count": 79,
      "outputs": [
        {
          "output_type": "stream",
          "text": [
            "4\n"
          ],
          "name": "stdout"
        }
      ]
    },
    {
      "cell_type": "code",
      "metadata": {
        "id": "GKXla2_Qz2Lx",
        "colab": {
          "base_uri": "https://localhost:8080/"
        },
        "outputId": "17c28477-03ba-4570-e72d-e3fea423e686"
      },
      "source": [
        "# Challenge 2\n",
        "# How many items have we stored in our anagrams dictionary?\n",
        "# \n",
        "print(len(anagram_list))"
      ],
      "execution_count": 95,
      "outputs": [
        {
          "output_type": "stream",
          "text": [
            "7\n"
          ],
          "name": "stdout"
        }
      ]
    },
    {
      "cell_type": "code",
      "metadata": {
        "id": "y1Yc0df-z2AG",
        "colab": {
          "base_uri": "https://localhost:8080/"
        },
        "outputId": "ffe32841-0478-4459-ab51-1baf0a39b646"
      },
      "source": [
        "# Challange 3\n",
        "# Using the cater dictionary, how many meals do we have in our gold package? \n",
        "# \n",
        "print(len(\"gold_package\"))"
      ],
      "execution_count": 4,
      "outputs": [
        {
          "output_type": "stream",
          "text": [
            "12\n"
          ],
          "name": "stdout"
        }
      ]
    },
    {
      "cell_type": "markdown",
      "metadata": {
        "id": "t3HfcEjn306L"
      },
      "source": [
        "## 1.7 Removing Elements from a Dictionary"
      ]
    },
    {
      "cell_type": "code",
      "metadata": {
        "id": "g9zlKoiL7PaV",
        "colab": {
          "base_uri": "https://localhost:8080/",
          "height": 229
        },
        "outputId": "65125982-22a4-4aaa-8400-ca5da0a569b3"
      },
      "source": [
        "# Example 1\n",
        "# We can remove a specific item from the dictionary \n",
        "# with the specified key name using the pop() method. \n",
        "# The clear() method clears the items in the dictionary \n",
        "# while the del keyword deletes the dictionary completely.\n",
        "\n",
        "\n",
        "Removing age from my_new_friend dictionary\n",
        "updated_my_new_friend = my_new_friend.pop(\"age\")\n",
        "\n",
        "# printing out the updated dictionary\n",
        "print(updated_my_new_friend)\n",
        "\n",
        "# now clearing the dictionary \n",
        "updated_my_new_friend.clear()\n",
        "\n",
        "\n",
        "# printing out the cleared dictionary\n",
        "print(updated_my_new_friend)\n",
        "\n",
        "# deleting the dictionary completely\n",
        "del updated_my_new_friend"
      ],
      "execution_count": 90,
      "outputs": [
        {
          "output_type": "error",
          "ename": "KeyError",
          "evalue": "ignored",
          "traceback": [
            "\u001b[0;31m---------------------------------------------------------------------------\u001b[0m",
            "\u001b[0;31mKeyError\u001b[0m                                  Traceback (most recent call last)",
            "\u001b[0;32m<ipython-input-90-92be44507781>\u001b[0m in \u001b[0;36m<module>\u001b[0;34m()\u001b[0m\n\u001b[1;32m      7\u001b[0m \u001b[0;34m\u001b[0m\u001b[0m\n\u001b[1;32m      8\u001b[0m \u001b[0;31m# Removing age from my_new_friend dictionary\u001b[0m\u001b[0;34m\u001b[0m\u001b[0;34m\u001b[0m\u001b[0;34m\u001b[0m\u001b[0m\n\u001b[0;32m----> 9\u001b[0;31m \u001b[0mupdated_my_new_friend\u001b[0m \u001b[0;34m=\u001b[0m \u001b[0mmy_new_friend\u001b[0m\u001b[0;34m.\u001b[0m\u001b[0mpop\u001b[0m\u001b[0;34m(\u001b[0m\u001b[0;34m\"age\"\u001b[0m\u001b[0;34m)\u001b[0m\u001b[0;34m\u001b[0m\u001b[0;34m\u001b[0m\u001b[0m\n\u001b[0m\u001b[1;32m     10\u001b[0m \u001b[0;34m\u001b[0m\u001b[0m\n\u001b[1;32m     11\u001b[0m \u001b[0;31m# printing out the updated dictionary\u001b[0m\u001b[0;34m\u001b[0m\u001b[0;34m\u001b[0m\u001b[0;34m\u001b[0m\u001b[0m\n",
            "\u001b[0;31mKeyError\u001b[0m: 'age'"
          ]
        }
      ]
    },
    {
      "cell_type": "code",
      "metadata": {
        "id": "JAKiQ6y97PMq",
        "colab": {
          "base_uri": "https://localhost:8080/",
          "height": 246
        },
        "outputId": "ffe5063c-ed2d-4237-c738-3f7910d767bc"
      },
      "source": [
        "# Example 2\n",
        "# Removing model from car dictionary\n",
        "\n",
        "# using the pop method\n",
        "updated_car = car.pop(\"model\")\n",
        "\n",
        "# printing out the updated car dictionary\n",
        "print(updated_car)\n",
        "\n",
        "# now clearing the dictionary \n",
        "updated_car.clear()\n",
        "\n",
        "# printing out the cleared dictionary\n",
        "print(updated_car)\n",
        "\n",
        "# deleting the dictionary completely\n",
        "del updated_car"
      ],
      "execution_count": 91,
      "outputs": [
        {
          "output_type": "stream",
          "text": [
            "Prado\n"
          ],
          "name": "stdout"
        },
        {
          "output_type": "error",
          "ename": "AttributeError",
          "evalue": "ignored",
          "traceback": [
            "\u001b[0;31m---------------------------------------------------------------------------\u001b[0m",
            "\u001b[0;31mAttributeError\u001b[0m                            Traceback (most recent call last)",
            "\u001b[0;32m<ipython-input-91-12b9db93d263>\u001b[0m in \u001b[0;36m<module>\u001b[0;34m()\u001b[0m\n\u001b[1;32m      9\u001b[0m \u001b[0;34m\u001b[0m\u001b[0m\n\u001b[1;32m     10\u001b[0m \u001b[0;31m# now clearing the dictionary\u001b[0m\u001b[0;34m\u001b[0m\u001b[0;34m\u001b[0m\u001b[0;34m\u001b[0m\u001b[0m\n\u001b[0;32m---> 11\u001b[0;31m \u001b[0mupdated_car\u001b[0m\u001b[0;34m.\u001b[0m\u001b[0mclear\u001b[0m\u001b[0;34m(\u001b[0m\u001b[0;34m)\u001b[0m\u001b[0;34m\u001b[0m\u001b[0;34m\u001b[0m\u001b[0m\n\u001b[0m\u001b[1;32m     12\u001b[0m \u001b[0;34m\u001b[0m\u001b[0m\n\u001b[1;32m     13\u001b[0m \u001b[0;31m# printing out the cleared dictionary\u001b[0m\u001b[0;34m\u001b[0m\u001b[0;34m\u001b[0m\u001b[0;34m\u001b[0m\u001b[0m\n",
            "\u001b[0;31mAttributeError\u001b[0m: 'str' object has no attribute 'clear'"
          ]
        }
      ]
    },
    {
      "cell_type": "code",
      "metadata": {
        "id": "hJDrF-_i7OzG"
      },
      "source": [
        "# Example 3\n",
        "# Removing School from our_class dictionary\n",
        "\n",
        "# using the pop method\n",
        "our_class.pop(\"School\")\n",
        "\n",
        "# printing out the updated our_class dictionary\n",
        "print(our_class)\n",
        "\n",
        "# now clearing the dictionary \n",
        "our_class.clear()\n",
        "\n",
        "# printing out the cleared dictionary\n",
        "print(our_class)\n",
        "\n",
        "# deleting the dictionary completely\n",
        "del our_class"
      ],
      "execution_count": null,
      "outputs": []
    },
    {
      "cell_type": "markdown",
      "metadata": {
        "id": "ZSQ6Uyb98jUU"
      },
      "source": [
        "### Challenges 1.7"
      ]
    },
    {
      "cell_type": "code",
      "metadata": {
        "id": "SJv-VzAa8liR",
        "colab": {
          "base_uri": "https://localhost:8080/",
          "height": 195
        },
        "outputId": "23330941-dbaf-4169-e5e6-e47a1332382e"
      },
      "source": [
        "# Challenge 1\n",
        "# Let's delete our family dictionary\n",
        "#\n",
        "del Family\n",
        "\n",
        "print(Family)"
      ],
      "execution_count": 92,
      "outputs": [
        {
          "output_type": "error",
          "ename": "NameError",
          "evalue": "ignored",
          "traceback": [
            "\u001b[0;31m---------------------------------------------------------------------------\u001b[0m",
            "\u001b[0;31mNameError\u001b[0m                                 Traceback (most recent call last)",
            "\u001b[0;32m<ipython-input-92-b6503803b4a7>\u001b[0m in \u001b[0;36m<module>\u001b[0;34m()\u001b[0m\n\u001b[1;32m      4\u001b[0m \u001b[0;32mdel\u001b[0m \u001b[0mFamily\u001b[0m\u001b[0;34m\u001b[0m\u001b[0;34m\u001b[0m\u001b[0m\n\u001b[1;32m      5\u001b[0m \u001b[0;34m\u001b[0m\u001b[0m\n\u001b[0;32m----> 6\u001b[0;31m \u001b[0mprint\u001b[0m\u001b[0;34m(\u001b[0m\u001b[0mFamily\u001b[0m\u001b[0;34m)\u001b[0m\u001b[0;34m\u001b[0m\u001b[0;34m\u001b[0m\u001b[0m\n\u001b[0m",
            "\u001b[0;31mNameError\u001b[0m: name 'Family' is not defined"
          ]
        }
      ]
    },
    {
      "cell_type": "code",
      "metadata": {
        "id": "RtPPDlUg8mdN",
        "colab": {
          "base_uri": "https://localhost:8080/"
        },
        "outputId": "38bad80f-3a56-46a8-cc32-d1ed761c3a06"
      },
      "source": [
        "# Challenge 2\n",
        "# Let's clear our anagrams dictionary\n",
        "#\n",
        "anagram_list.clear()\n",
        "\n",
        "print(anagram_list)"
      ],
      "execution_count": 97,
      "outputs": [
        {
          "output_type": "stream",
          "text": [
            "[]\n"
          ],
          "name": "stdout"
        }
      ]
    },
    {
      "cell_type": "code",
      "metadata": {
        "id": "de_1tLbS8mNr",
        "colab": {
          "base_uri": "https://localhost:8080/"
        },
        "outputId": "ea256d00-7c3f-4268-ae04-ad11784a78ca"
      },
      "source": [
        "# Challenge 3\n",
        "# Let's add another fuctionality to our Naivas Supermarket program\n",
        "# The program will be updated to request the user to whether to delete \n",
        "# any product. If so, the user should perform the deletion respectively.\n",
        "#\n",
        "\n",
        "#product_a= products[\"bread\"]\n",
        "#print(product_a)\n",
        "\n",
        "user_input = input(\"What product would you like to delete? \")\n",
        "\n",
        "for (bread,milk) in enumerate(products):\n",
        "    if bread == user_input:\n",
        "        products.pop(index)\n",
        "        break\n",
        "\n",
        "print(\"The remaining products are:\")\n",
        "print(*products, sep=\"\\n\")\n"
      ],
      "execution_count": 25,
      "outputs": [
        {
          "output_type": "stream",
          "text": [
            "What product would you like to delete? bread\n",
            "The remaining products are:\n",
            "bread\n",
            "milk\n"
          ],
          "name": "stdout"
        }
      ]
    }
  ]
}