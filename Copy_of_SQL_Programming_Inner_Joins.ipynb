{
  "nbformat": 4,
  "nbformat_minor": 0,
  "metadata": {
    "colab": {
      "name": "Copy of SQL Programming - Inner Joins",
      "provenance": [],
      "collapsed_sections": [],
      "toc_visible": true,
      "include_colab_link": true
    },
    "kernelspec": {
      "name": "python3",
      "display_name": "Python 3"
    }
  },
  "cells": [
    {
      "cell_type": "markdown",
      "metadata": {
        "id": "view-in-github",
        "colab_type": "text"
      },
      "source": [
        "<a href=\"https://colab.research.google.com/github/Mildredkulei7/Moringa_prep_w2/blob/main/Copy_of_SQL_Programming_Inner_Joins.ipynb\" target=\"_parent\"><img src=\"https://colab.research.google.com/assets/colab-badge.svg\" alt=\"Open In Colab\"/></a>"
      ]
    },
    {
      "cell_type": "markdown",
      "metadata": {
        "id": "GMEtO1wzBhGc"
      },
      "source": [
        "<font color=\"green\">*To start working on this notebook, or any other notebook that we will use in the Moringa Data Science Course, we will need to save our own copy of it. We can do this by clicking File > Save a Copy in Drive. We will then be able to make edits to our own copy of this notebook.*</font>"
      ]
    },
    {
      "cell_type": "markdown",
      "metadata": {
        "id": "H6KrxhPuBI1j"
      },
      "source": [
        "# SQL Programming - Inner Joins"
      ]
    },
    {
      "cell_type": "markdown",
      "metadata": {
        "id": "ctxn0NRtBP_N"
      },
      "source": [
        "## 1.0 Lets connect to our Database"
      ]
    },
    {
      "cell_type": "code",
      "metadata": {
        "id": "3tISouHVFsEI",
        "colab": {
          "base_uri": "https://localhost:8080/",
          "height": 35
        },
        "outputId": "66259347-f659-4aec-8d71-a55a6da68229"
      },
      "source": [
        "# We will first load the sql extension into our environment\n",
        "%load_ext sql\n",
        "\n",
        "# Then connect to our in memory sqlite database\n",
        "# NB: This database will cease to exist as soon as the database connection is closed. \n",
        "%sql sqlite://"
      ],
      "execution_count": 1,
      "outputs": [
        {
          "output_type": "execute_result",
          "data": {
            "application/vnd.google.colaboratory.intrinsic+json": {
              "type": "string"
            },
            "text/plain": [
              "'Connected: @None'"
            ]
          },
          "metadata": {
            "tags": []
          },
          "execution_count": 1
        }
      ]
    },
    {
      "cell_type": "code",
      "metadata": {
        "id": "5Wr95CMAGocI"
      },
      "source": [
        "# Importing Pandas\n",
        "import pandas as pd"
      ],
      "execution_count": 2,
      "outputs": []
    },
    {
      "cell_type": "markdown",
      "metadata": {
        "id": "NInIeBPRBUjy"
      },
      "source": [
        "## 1.1 Loading our Datasets"
      ]
    },
    {
      "cell_type": "markdown",
      "metadata": {
        "id": "0LrTLsUj2BEU"
      },
      "source": [
        "Datasets used in this notebook:\n",
        "\n",
        "\n",
        "1.   **Countries**\n",
        "\n",
        "> Dataset of European Countries. ([Dataset Download Link](https://drive.google.com/a/moringaschool.com/file/d/1Vz0URHRmUsG17fpzWa02RsCBI2TbPXeV/view?usp=sharing))\n",
        "\n",
        "2.   **Cities** \n",
        "\n",
        "> Dataset of European Cities. ([Dataset Download Link](https://drive.google.com/a/moringaschool.com/file/d/1-S8sact6Ae-A06wntUmBBlr5NH43VLY0/view?usp=sharing))\n",
        "\n",
        "\n",
        "\n",
        "\n"
      ]
    },
    {
      "cell_type": "code",
      "metadata": {
        "id": "V6dOOEhyAweA",
        "colab": {
          "base_uri": "https://localhost:8080/",
          "height": 189
        },
        "outputId": "53d9c82e-6f6f-4e6b-af59-f988814da6e3"
      },
      "source": [
        "# Let's load our Countries dataset below\n",
        "# \n",
        "with open('Countries.csv','r') as f:\n",
        "    Countries = pd.read_csv(f, index_col=0, encoding='utf-8')\n",
        "#%sql DROP TABLE if EXISTS Countries;\n",
        "%sql PERSIST Countries;\n",
        "%sql SELECT * FROM Countries LIMIT 5;"
      ],
      "execution_count": 4,
      "outputs": [
        {
          "output_type": "stream",
          "text": [
            " * sqlite://\n",
            " * sqlite://\n",
            "Done.\n"
          ],
          "name": "stdout"
        },
        {
          "output_type": "execute_result",
          "data": {
            "text/html": [
              "<table>\n",
              "    <thead>\n",
              "        <tr>\n",
              "            <th>country</th>\n",
              "            <th>population</th>\n",
              "            <th>EU</th>\n",
              "            <th>coastline</th>\n",
              "        </tr>\n",
              "    </thead>\n",
              "    <tbody>\n",
              "        <tr>\n",
              "            <td>Albania</td>\n",
              "            <td>2.9</td>\n",
              "            <td>no</td>\n",
              "            <td>yes</td>\n",
              "        </tr>\n",
              "        <tr>\n",
              "            <td>Andorra</td>\n",
              "            <td>0.07</td>\n",
              "            <td>no</td>\n",
              "            <td>no</td>\n",
              "        </tr>\n",
              "        <tr>\n",
              "            <td>Austria</td>\n",
              "            <td>8.57</td>\n",
              "            <td>yes</td>\n",
              "            <td>no</td>\n",
              "        </tr>\n",
              "        <tr>\n",
              "            <td>Belarus</td>\n",
              "            <td>9.48</td>\n",
              "            <td>no</td>\n",
              "            <td>no</td>\n",
              "        </tr>\n",
              "        <tr>\n",
              "            <td>Belgium</td>\n",
              "            <td>11.37</td>\n",
              "            <td>yes</td>\n",
              "            <td>yes</td>\n",
              "        </tr>\n",
              "    </tbody>\n",
              "</table>"
            ],
            "text/plain": [
              "[('Albania', 2.9, 'no', 'yes'),\n",
              " ('Andorra', 0.07, 'no', 'no'),\n",
              " ('Austria', 8.57, 'yes', 'no'),\n",
              " ('Belarus', 9.48, 'no', 'no'),\n",
              " ('Belgium', 11.37, 'yes', 'yes')]"
            ]
          },
          "metadata": {
            "tags": []
          },
          "execution_count": 4
        }
      ]
    },
    {
      "cell_type": "code",
      "metadata": {
        "id": "RYXnHNRnA1hP",
        "colab": {
          "base_uri": "https://localhost:8080/",
          "height": 189
        },
        "outputId": "cca43856-6a22-4ad2-f9de-92cb6857012b"
      },
      "source": [
        "# Let's load our Cities dataset below\n",
        "#\n",
        "with open('Cities.csv','r') as f:\n",
        "    Cities = pd.read_csv(f, index_col=0, encoding='utf-8')\n",
        "#%sql DROP TABLE if EXISTS Cities;\n",
        "%sql PERSIST Cities;\n",
        "%sql SELECT * FROM Cities LIMIT 5;"
      ],
      "execution_count": 6,
      "outputs": [
        {
          "output_type": "stream",
          "text": [
            " * sqlite://\n",
            " * sqlite://\n",
            "Done.\n"
          ],
          "name": "stdout"
        },
        {
          "output_type": "execute_result",
          "data": {
            "text/html": [
              "<table>\n",
              "    <thead>\n",
              "        <tr>\n",
              "            <th>city</th>\n",
              "            <th>country</th>\n",
              "            <th>latitude</th>\n",
              "            <th>longitude</th>\n",
              "            <th>temperature</th>\n",
              "        </tr>\n",
              "    </thead>\n",
              "    <tbody>\n",
              "        <tr>\n",
              "            <td>Aalborg</td>\n",
              "            <td>Denmark</td>\n",
              "            <td>57.03</td>\n",
              "            <td>9.92</td>\n",
              "            <td>7.52</td>\n",
              "        </tr>\n",
              "        <tr>\n",
              "            <td>Aberdeen</td>\n",
              "            <td>United Kingdom</td>\n",
              "            <td>57.17</td>\n",
              "            <td>-2.08</td>\n",
              "            <td>8.1</td>\n",
              "        </tr>\n",
              "        <tr>\n",
              "            <td>Abisko</td>\n",
              "            <td>Sweden</td>\n",
              "            <td>63.35</td>\n",
              "            <td>18.83</td>\n",
              "            <td>0.2</td>\n",
              "        </tr>\n",
              "        <tr>\n",
              "            <td>Adana</td>\n",
              "            <td>Turkey</td>\n",
              "            <td>36.99</td>\n",
              "            <td>35.32</td>\n",
              "            <td>18.67</td>\n",
              "        </tr>\n",
              "        <tr>\n",
              "            <td>Albacete</td>\n",
              "            <td>Spain</td>\n",
              "            <td>39.0</td>\n",
              "            <td>-1.87</td>\n",
              "            <td>12.62</td>\n",
              "        </tr>\n",
              "    </tbody>\n",
              "</table>"
            ],
            "text/plain": [
              "[('Aalborg', 'Denmark', 57.03, 9.92, 7.52),\n",
              " ('Aberdeen', 'United Kingdom', 57.17, -2.08, 8.1),\n",
              " ('Abisko', 'Sweden', 63.35, 18.83, 0.2),\n",
              " ('Adana', 'Turkey', 36.99, 35.32, 18.67),\n",
              " ('Albacete', 'Spain', 39.0, -1.87, 12.62)]"
            ]
          },
          "metadata": {
            "tags": []
          },
          "execution_count": 6
        }
      ]
    },
    {
      "cell_type": "markdown",
      "metadata": {
        "id": "aC5B9W7MBxN2"
      },
      "source": [
        "## 1.2 Getting Started"
      ]
    },
    {
      "cell_type": "markdown",
      "metadata": {
        "id": "0sZIvColA9NC"
      },
      "source": [
        "Let's try to learn from the given example below, then apply our learnings to the given challenges using the **`INNER JOIN`** statement;"
      ]
    },
    {
      "cell_type": "code",
      "metadata": {
        "id": "EhwHqiCxCQUu",
        "colab": {
          "base_uri": "https://localhost:8080/",
          "height": 272
        },
        "outputId": "dad66caf-0595-4c21-fb94-54ebe5e630b4"
      },
      "source": [
        "# Example 1 \n",
        "# First let's look at the syntax code for the inner join statement\n",
        "# \n",
        "# SELECT <Column names>\n",
        "# FROM table1 INNER JOIN table2\n",
        "# ON table1.column_name = table2.column_name\n",
        "# \n",
        "# On the first line, we select the columns from which we want to join. This columns can be from both tables.\n",
        "# On the second line, we explicitly declare the tables we are joining.\n",
        "# on the third line, we give the search condition. Remember, for us to be able to do inner join or any type of join, there must be a column that is a match in both tables. \n",
        "# So the search condition simply tells SQL the column that is the same in both tables\n",
        "\n",
        "\n",
        "# Let's find all the cities with latitude < 50 in a country with population < 5; \n",
        "# and return the city, country, and population, sorted by country\n",
        "# \n",
        "%%sql\n",
        "SELECT city, Cities.country, population\n",
        "FROM Cities INNER JOIN Countries\n",
        "     ON Cities.country = Countries.country\n",
        "WHERE latitude < 50 AND population < 5\n",
        "ORDER BY Cities.country"
      ],
      "execution_count": 7,
      "outputs": [
        {
          "output_type": "stream",
          "text": [
            " * sqlite://\n",
            "Done.\n"
          ],
          "name": "stdout"
        },
        {
          "output_type": "execute_result",
          "data": {
            "text/html": [
              "<table>\n",
              "    <thead>\n",
              "        <tr>\n",
              "            <th>city</th>\n",
              "            <th>country</th>\n",
              "            <th>population</th>\n",
              "        </tr>\n",
              "    </thead>\n",
              "    <tbody>\n",
              "        <tr>\n",
              "            <td>Elbasan</td>\n",
              "            <td>Albania</td>\n",
              "            <td>2.9</td>\n",
              "        </tr>\n",
              "        <tr>\n",
              "            <td>Andorra</td>\n",
              "            <td>Andorra</td>\n",
              "            <td>0.07</td>\n",
              "        </tr>\n",
              "        <tr>\n",
              "            <td>Sarajevo</td>\n",
              "            <td>Bosnia and Herzegovina</td>\n",
              "            <td>3.8</td>\n",
              "        </tr>\n",
              "        <tr>\n",
              "            <td>Rijeka</td>\n",
              "            <td>Croatia</td>\n",
              "            <td>4.23</td>\n",
              "        </tr>\n",
              "        <tr>\n",
              "            <td>Split</td>\n",
              "            <td>Croatia</td>\n",
              "            <td>4.23</td>\n",
              "        </tr>\n",
              "        <tr>\n",
              "            <td>Skopje</td>\n",
              "            <td>Macedonia</td>\n",
              "            <td>2.08</td>\n",
              "        </tr>\n",
              "        <tr>\n",
              "            <td>Balti</td>\n",
              "            <td>Moldova</td>\n",
              "            <td>4.06</td>\n",
              "        </tr>\n",
              "        <tr>\n",
              "            <td>Chisinau</td>\n",
              "            <td>Moldova</td>\n",
              "            <td>4.06</td>\n",
              "        </tr>\n",
              "        <tr>\n",
              "            <td>Podgorica</td>\n",
              "            <td>Montenegro</td>\n",
              "            <td>0.63</td>\n",
              "        </tr>\n",
              "        <tr>\n",
              "            <td>Ljubljana</td>\n",
              "            <td>Slovenia</td>\n",
              "            <td>2.07</td>\n",
              "        </tr>\n",
              "    </tbody>\n",
              "</table>"
            ],
            "text/plain": [
              "[('Elbasan', 'Albania', 2.9),\n",
              " ('Andorra', 'Andorra', 0.07),\n",
              " ('Sarajevo', 'Bosnia and Herzegovina', 3.8),\n",
              " ('Rijeka', 'Croatia', 4.23),\n",
              " ('Split', 'Croatia', 4.23),\n",
              " ('Skopje', 'Macedonia', 2.08),\n",
              " ('Balti', 'Moldova', 4.06),\n",
              " ('Chisinau', 'Moldova', 4.06),\n",
              " ('Podgorica', 'Montenegro', 0.63),\n",
              " ('Ljubljana', 'Slovenia', 2.07)]"
            ]
          },
          "metadata": {
            "tags": []
          },
          "execution_count": 7
        }
      ]
    },
    {
      "cell_type": "markdown",
      "metadata": {
        "id": "G5YSZtRrCQ2_"
      },
      "source": [
        "### <font color=\"green\">1.2 Challenges</font>"
      ]
    },
    {
      "cell_type": "code",
      "metadata": {
        "id": "0cy1E0ghCP0K",
        "colab": {
          "base_uri": "https://localhost:8080/",
          "height": 272
        },
        "outputId": "bc0fa235-5c63-476d-d7b5-b0f2b2133d1f"
      },
      "source": [
        "# Challenge 1\n",
        "# Let's find a city with temperature > 10 that belongs to the EU and doesn't have a coastline, \n",
        "# returning the city, coastline and ordered by temperature\n",
        "# \n",
        "%%sql\n",
        "SELECT city, Countries.coastline\n",
        "FROM Cities INNER JOIN Countries\n",
        "     ON Cities.country = Countries.country\n",
        "WHERE temperature > 10 or EU = 'yes' or coastline = 'no'\n",
        "ORDER BY Cities.temperature LIMIT 10;\n"
      ],
      "execution_count": 12,
      "outputs": [
        {
          "output_type": "stream",
          "text": [
            " * sqlite://\n",
            "Done.\n"
          ],
          "name": "stdout"
        },
        {
          "output_type": "execute_result",
          "data": {
            "text/html": [
              "<table>\n",
              "    <thead>\n",
              "        <tr>\n",
              "            <th>city</th>\n",
              "            <th>coastline</th>\n",
              "        </tr>\n",
              "    </thead>\n",
              "    <tbody>\n",
              "        <tr>\n",
              "            <td>Kiruna</td>\n",
              "            <td>yes</td>\n",
              "        </tr>\n",
              "        <tr>\n",
              "            <td>Abisko</td>\n",
              "            <td>yes</td>\n",
              "        </tr>\n",
              "        <tr>\n",
              "            <td>Oulu</td>\n",
              "            <td>yes</td>\n",
              "        </tr>\n",
              "        <tr>\n",
              "            <td>Tampere</td>\n",
              "            <td>yes</td>\n",
              "        </tr>\n",
              "        <tr>\n",
              "            <td>Uppsala</td>\n",
              "            <td>yes</td>\n",
              "        </tr>\n",
              "        <tr>\n",
              "            <td>Helsinki</td>\n",
              "            <td>yes</td>\n",
              "        </tr>\n",
              "        <tr>\n",
              "            <td>Tartu</td>\n",
              "            <td>yes</td>\n",
              "        </tr>\n",
              "        <tr>\n",
              "            <td>Augsburg</td>\n",
              "            <td>yes</td>\n",
              "        </tr>\n",
              "        <tr>\n",
              "            <td>Innsbruck</td>\n",
              "            <td>no</td>\n",
              "        </tr>\n",
              "        <tr>\n",
              "            <td>Salzburg</td>\n",
              "            <td>no</td>\n",
              "        </tr>\n",
              "    </tbody>\n",
              "</table>"
            ],
            "text/plain": [
              "[('Kiruna', 'yes'),\n",
              " ('Abisko', 'yes'),\n",
              " ('Oulu', 'yes'),\n",
              " ('Tampere', 'yes'),\n",
              " ('Uppsala', 'yes'),\n",
              " ('Helsinki', 'yes'),\n",
              " ('Tartu', 'yes'),\n",
              " ('Augsburg', 'yes'),\n",
              " ('Innsbruck', 'no'),\n",
              " ('Salzburg', 'no')]"
            ]
          },
          "metadata": {
            "tags": []
          },
          "execution_count": 12
        }
      ]
    },
    {
      "cell_type": "code",
      "metadata": {
        "id": "vovDcZBACPsi",
        "colab": {
          "base_uri": "https://localhost:8080/",
          "height": 272
        },
        "outputId": "14d5c9db-d159-4cb8-b35d-b4640b29ab1e"
      },
      "source": [
        "# Challenge 2\n",
        "# Let's find all cities with latitude > 45 in a country with no coastline and with population > 9,\n",
        "# returning the city, country, latitude, and whether it's in the EU.\n",
        "#\n",
        "%%sql\n",
        "SELECT city, Cities.country, latitude, EU\n",
        "FROM Cities INNER JOIN Countries\n",
        "     ON Cities.country = Countries.country\n",
        "WHERE latitude > 45 or coastline = 'no' or population > 9 LIMIT 10"
      ],
      "execution_count": 13,
      "outputs": [
        {
          "output_type": "stream",
          "text": [
            " * sqlite://\n",
            "Done.\n"
          ],
          "name": "stdout"
        },
        {
          "output_type": "execute_result",
          "data": {
            "text/html": [
              "<table>\n",
              "    <thead>\n",
              "        <tr>\n",
              "            <th>city</th>\n",
              "            <th>country</th>\n",
              "            <th>latitude</th>\n",
              "            <th>EU</th>\n",
              "        </tr>\n",
              "    </thead>\n",
              "    <tbody>\n",
              "        <tr>\n",
              "            <td>Aalborg</td>\n",
              "            <td>Denmark</td>\n",
              "            <td>57.03</td>\n",
              "            <td>yes</td>\n",
              "        </tr>\n",
              "        <tr>\n",
              "            <td>Aberdeen</td>\n",
              "            <td>United Kingdom</td>\n",
              "            <td>57.17</td>\n",
              "            <td>yes</td>\n",
              "        </tr>\n",
              "        <tr>\n",
              "            <td>Abisko</td>\n",
              "            <td>Sweden</td>\n",
              "            <td>63.35</td>\n",
              "            <td>yes</td>\n",
              "        </tr>\n",
              "        <tr>\n",
              "            <td>Adana</td>\n",
              "            <td>Turkey</td>\n",
              "            <td>36.99</td>\n",
              "            <td>no</td>\n",
              "        </tr>\n",
              "        <tr>\n",
              "            <td>Albacete</td>\n",
              "            <td>Spain</td>\n",
              "            <td>39.0</td>\n",
              "            <td>yes</td>\n",
              "        </tr>\n",
              "        <tr>\n",
              "            <td>Algeciras</td>\n",
              "            <td>Spain</td>\n",
              "            <td>36.13</td>\n",
              "            <td>yes</td>\n",
              "        </tr>\n",
              "        <tr>\n",
              "            <td>Amiens</td>\n",
              "            <td>France</td>\n",
              "            <td>49.9</td>\n",
              "            <td>yes</td>\n",
              "        </tr>\n",
              "        <tr>\n",
              "            <td>Amsterdam</td>\n",
              "            <td>Netherlands</td>\n",
              "            <td>52.35</td>\n",
              "            <td>yes</td>\n",
              "        </tr>\n",
              "        <tr>\n",
              "            <td>Ancona</td>\n",
              "            <td>Italy</td>\n",
              "            <td>43.6</td>\n",
              "            <td>yes</td>\n",
              "        </tr>\n",
              "        <tr>\n",
              "            <td>Andorra</td>\n",
              "            <td>Andorra</td>\n",
              "            <td>42.5</td>\n",
              "            <td>no</td>\n",
              "        </tr>\n",
              "    </tbody>\n",
              "</table>"
            ],
            "text/plain": [
              "[('Aalborg', 'Denmark', 57.03, 'yes'),\n",
              " ('Aberdeen', 'United Kingdom', 57.17, 'yes'),\n",
              " ('Abisko', 'Sweden', 63.35, 'yes'),\n",
              " ('Adana', 'Turkey', 36.99, 'no'),\n",
              " ('Albacete', 'Spain', 39.0, 'yes'),\n",
              " ('Algeciras', 'Spain', 36.13, 'yes'),\n",
              " ('Amiens', 'France', 49.9, 'yes'),\n",
              " ('Amsterdam', 'Netherlands', 52.35, 'yes'),\n",
              " ('Ancona', 'Italy', 43.6, 'yes'),\n",
              " ('Andorra', 'Andorra', 42.5, 'no')]"
            ]
          },
          "metadata": {
            "tags": []
          },
          "execution_count": 13
        }
      ]
    },
    {
      "cell_type": "code",
      "metadata": {
        "id": "n5KCLKwLCPlJ",
        "colab": {
          "base_uri": "https://localhost:8080/",
          "height": 92
        },
        "outputId": "864b69ad-6c5d-4a0b-a95e-b2e5d1b4b331"
      },
      "source": [
        "# Challenge 3\n",
        "# Let's find the average temperature of non-european cities with a latitude > 45\n",
        "# \n",
        "%%sql\n",
        "SELECT AVG(temperature)\n",
        "FROM Cities INNER JOIN Countries\n",
        "     ON Cities.country = Countries.country\n",
        "WHERE latitude > 45 AND EU = 'no'\n"
      ],
      "execution_count": 14,
      "outputs": [
        {
          "output_type": "stream",
          "text": [
            " * sqlite://\n",
            "Done.\n"
          ],
          "name": "stdout"
        },
        {
          "output_type": "execute_result",
          "data": {
            "text/html": [
              "<table>\n",
              "    <thead>\n",
              "        <tr>\n",
              "            <th>AVG(temperature)</th>\n",
              "        </tr>\n",
              "    </thead>\n",
              "    <tbody>\n",
              "        <tr>\n",
              "            <td>6.704375</td>\n",
              "        </tr>\n",
              "    </tbody>\n",
              "</table>"
            ],
            "text/plain": [
              "[(6.704375,)]"
            ]
          },
          "metadata": {
            "tags": []
          },
          "execution_count": 14
        }
      ]
    },
    {
      "cell_type": "code",
      "metadata": {
        "id": "qjyFMunjFUql",
        "colab": {
          "base_uri": "https://localhost:8080/",
          "height": 92
        },
        "outputId": "2f46366b-0015-4a43-c64f-737c99b9ca1c"
      },
      "source": [
        "# Challenge 4 \n",
        "# Let's find minimum and maxiumum temperature of european cities with latitude > 45\n",
        "# \n",
        "%%sql\n",
        "SELECT MAX(temperature), MIN(temperature)\n",
        "FROM Cities INNER JOIN Countries\n",
        "     ON Cities.country = Countries.country\n",
        "WHERE latitude > 45 AND EU = 'yes'"
      ],
      "execution_count": 15,
      "outputs": [
        {
          "output_type": "stream",
          "text": [
            " * sqlite://\n",
            "Done.\n"
          ],
          "name": "stdout"
        },
        {
          "output_type": "execute_result",
          "data": {
            "text/html": [
              "<table>\n",
              "    <thead>\n",
              "        <tr>\n",
              "            <th>MAX(temperature)</th>\n",
              "            <th>MIN(temperature)</th>\n",
              "        </tr>\n",
              "    </thead>\n",
              "    <tbody>\n",
              "        <tr>\n",
              "            <td>11.21</td>\n",
              "            <td>-2.2</td>\n",
              "        </tr>\n",
              "    </tbody>\n",
              "</table>"
            ],
            "text/plain": [
              "[(11.21, -2.2)]"
            ]
          },
          "metadata": {
            "tags": []
          },
          "execution_count": 15
        }
      ]
    },
    {
      "cell_type": "code",
      "metadata": {
        "id": "G62GzfLrFsr9",
        "colab": {
          "base_uri": "https://localhost:8080/",
          "height": 92
        },
        "outputId": "7bc002e7-32f4-44c2-9ceb-a14c2b44ce4f"
      },
      "source": [
        "# Challenge 5\n",
        "# Let's find the number of european cities with a latitude > 45\n",
        "# \n",
        "%%sql\n",
        "SELECT COUNT(EU)\n",
        "FROM Cities INNER JOIN Countries\n",
        "     ON Cities.country = Countries.country\n",
        "WHERE latitude > 45"
      ],
      "execution_count": 16,
      "outputs": [
        {
          "output_type": "stream",
          "text": [
            " * sqlite://\n",
            "Done.\n"
          ],
          "name": "stdout"
        },
        {
          "output_type": "execute_result",
          "data": {
            "text/html": [
              "<table>\n",
              "    <thead>\n",
              "        <tr>\n",
              "            <th>COUNT(EU)</th>\n",
              "        </tr>\n",
              "    </thead>\n",
              "    <tbody>\n",
              "        <tr>\n",
              "            <td>131</td>\n",
              "        </tr>\n",
              "    </tbody>\n",
              "</table>"
            ],
            "text/plain": [
              "[(131,)]"
            ]
          },
          "metadata": {
            "tags": []
          },
          "execution_count": 16
        }
      ]
    },
    {
      "cell_type": "code",
      "metadata": {
        "id": "TauKr2s3Ib-A",
        "colab": {
          "base_uri": "https://localhost:8080/",
          "height": 272
        },
        "outputId": "ed1e853d-9b18-44ea-9217-64328ead04cc"
      },
      "source": [
        "# Challenge 6\n",
        "# Which european cities belong to a country with a coastline?\n",
        "# \n",
        "%%sql\n",
        "SELECT city, countries.country\n",
        "FROM Cities INNER JOIN Countries\n",
        "     ON Cities.country = Countries.country\n",
        "WHERE coastline = 'yes' LIMIT 10"
      ],
      "execution_count": 19,
      "outputs": [
        {
          "output_type": "stream",
          "text": [
            " * sqlite://\n",
            "Done.\n"
          ],
          "name": "stdout"
        },
        {
          "output_type": "execute_result",
          "data": {
            "text/html": [
              "<table>\n",
              "    <thead>\n",
              "        <tr>\n",
              "            <th>city</th>\n",
              "            <th>country</th>\n",
              "        </tr>\n",
              "    </thead>\n",
              "    <tbody>\n",
              "        <tr>\n",
              "            <td>Aalborg</td>\n",
              "            <td>Denmark</td>\n",
              "        </tr>\n",
              "        <tr>\n",
              "            <td>Aberdeen</td>\n",
              "            <td>United Kingdom</td>\n",
              "        </tr>\n",
              "        <tr>\n",
              "            <td>Abisko</td>\n",
              "            <td>Sweden</td>\n",
              "        </tr>\n",
              "        <tr>\n",
              "            <td>Adana</td>\n",
              "            <td>Turkey</td>\n",
              "        </tr>\n",
              "        <tr>\n",
              "            <td>Albacete</td>\n",
              "            <td>Spain</td>\n",
              "        </tr>\n",
              "        <tr>\n",
              "            <td>Algeciras</td>\n",
              "            <td>Spain</td>\n",
              "        </tr>\n",
              "        <tr>\n",
              "            <td>Amiens</td>\n",
              "            <td>France</td>\n",
              "        </tr>\n",
              "        <tr>\n",
              "            <td>Amsterdam</td>\n",
              "            <td>Netherlands</td>\n",
              "        </tr>\n",
              "        <tr>\n",
              "            <td>Ancona</td>\n",
              "            <td>Italy</td>\n",
              "        </tr>\n",
              "        <tr>\n",
              "            <td>Angers</td>\n",
              "            <td>France</td>\n",
              "        </tr>\n",
              "    </tbody>\n",
              "</table>"
            ],
            "text/plain": [
              "[('Aalborg', 'Denmark'),\n",
              " ('Aberdeen', 'United Kingdom'),\n",
              " ('Abisko', 'Sweden'),\n",
              " ('Adana', 'Turkey'),\n",
              " ('Albacete', 'Spain'),\n",
              " ('Algeciras', 'Spain'),\n",
              " ('Amiens', 'France'),\n",
              " ('Amsterdam', 'Netherlands'),\n",
              " ('Ancona', 'Italy'),\n",
              " ('Angers', 'France')]"
            ]
          },
          "metadata": {
            "tags": []
          },
          "execution_count": 19
        }
      ]
    }
  ]
}